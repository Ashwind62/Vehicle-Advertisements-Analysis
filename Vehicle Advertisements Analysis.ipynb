{
 "cells": [
  {
   "cell_type": "markdown",
   "metadata": {
    "colab": {
     "base_uri": "https://localhost:8080/"
    },
    "id": "32Vid6mZLioV",
    "outputId": "b91d743c-610b-40f6-ebc0-4733fe6232e3"
   },
   "source": [
    "from google.colab import drive\n",
    "drive.mount('/content/drive/')"
   ]
  },
  {
   "cell_type": "code",
   "execution_count": null,
   "metadata": {
    "id": "LkeINDwWMEY-"
   },
   "outputs": [],
   "source": [
    "import pandas as pd\n",
    "import numpy as np\n",
    "import matplotlib.pyplot as plt\n",
    "import seaborn as sns"
   ]
  },
  {
   "cell_type": "code",
   "execution_count": null,
   "metadata": {
    "id": "_-rDrmLWOQrz"
   },
   "outputs": [],
   "source": [
    "# Load the dataset"
   ]
  },
  {
   "cell_type": "code",
   "execution_count": null,
   "metadata": {
    "id": "ehpLM7rANaky"
   },
   "outputs": [],
   "source": [
    "df=pd.read_csv('/content/drive/MyDrive/MLCaseStudy/vehicles.csv')"
   ]
  },
  {
   "cell_type": "markdown",
   "metadata": {
    "id": "1KTS1l3qOfW_"
   },
   "source": [
    "# Section 1: Price Prediction"
   ]
  },
  {
   "cell_type": "markdown",
   "metadata": {
    "id": "GztPysJ4Ok0j"
   },
   "source": [
    "# Problem Statement: Develop a predictive model to estimate the price of a vehicle based on the provided features.\n"
   ]
  },
  {
   "cell_type": "markdown",
   "metadata": {
    "id": "7EsOAb3RO3D_"
   },
   "source": [
    "# 1.Data Cleaning & Preprocessing:\n"
   ]
  },
  {
   "cell_type": "code",
   "execution_count": null,
   "metadata": {
    "id": "5ddmJSdJO3ic"
   },
   "outputs": [],
   "source": [
    "# Data Preprocessing"
   ]
  },
  {
   "cell_type": "code",
   "execution_count": null,
   "metadata": {
    "colab": {
     "base_uri": "https://localhost:8080/",
     "height": 689
    },
    "id": "kX-XPKsiO6hG",
    "outputId": "522053d2-892f-4f02-e0fa-81316b31390a"
   },
   "outputs": [
    {
     "data": {
      "application/vnd.google.colaboratory.intrinsic+json": {
       "type": "dataframe",
       "variable_name": "df"
      },
      "text/html": [
       "\n",
       "  <div id=\"df-2c75dbf3-f829-44d3-862d-0f01fae311db\" class=\"colab-df-container\">\n",
       "    <div>\n",
       "<style scoped>\n",
       "    .dataframe tbody tr th:only-of-type {\n",
       "        vertical-align: middle;\n",
       "    }\n",
       "\n",
       "    .dataframe tbody tr th {\n",
       "        vertical-align: top;\n",
       "    }\n",
       "\n",
       "    .dataframe thead th {\n",
       "        text-align: right;\n",
       "    }\n",
       "</style>\n",
       "<table border=\"1\" class=\"dataframe\">\n",
       "  <thead>\n",
       "    <tr style=\"text-align: right;\">\n",
       "      <th></th>\n",
       "      <th>ad_title</th>\n",
       "      <th>ad_description</th>\n",
       "      <th>details</th>\n",
       "      <th>slug</th>\n",
       "      <th>title</th>\n",
       "      <th>type</th>\n",
       "      <th>price</th>\n",
       "      <th>timestamp</th>\n",
       "      <th>posted_date</th>\n",
       "      <th>deactivation_date</th>\n",
       "      <th>...</th>\n",
       "      <th>is_doorstep_delivery</th>\n",
       "      <th>is_dsd_applicable</th>\n",
       "      <th>is_member</th>\n",
       "      <th>is_authorized_dealer</th>\n",
       "      <th>is_featured_member</th>\n",
       "      <th>is_verified</th>\n",
       "      <th>membership_level</th>\n",
       "      <th>member_since</th>\n",
       "      <th>properties</th>\n",
       "      <th>user</th>\n",
       "    </tr>\n",
       "  </thead>\n",
       "  <tbody>\n",
       "    <tr>\n",
       "      <th>0</th>\n",
       "      <td>Nissan Tiida Alternator  in Maharagama | ikman</td>\n",
       "      <td>**TISSA AUTO PARTS** Dealer of used Japanese m...</td>\n",
       "      <td>NaN</td>\n",
       "      <td>nissan-tiida-alternator-for-sale-colombo-3</td>\n",
       "      <td>Nissan Tiida Alternator</td>\n",
       "      <td>for_sale</td>\n",
       "      <td>Rs 18,000</td>\n",
       "      <td>23 Feb 11:35 pm</td>\n",
       "      <td>2023-02-23T23:35:10+05:30</td>\n",
       "      <td>2022-05-30T17:13:04.000Z</td>\n",
       "      <td>...</td>\n",
       "      <td>False</td>\n",
       "      <td>False</td>\n",
       "      <td>True</td>\n",
       "      <td>False</td>\n",
       "      <td>False</td>\n",
       "      <td>True</td>\n",
       "      <td>premium</td>\n",
       "      <td>September 2019</td>\n",
       "      <td>{'Condition': 'Reconditioned', 'Part or Access...</td>\n",
       "      <td>a6681dea494390daa516a6d2bdcb36e08c318574a13413...</td>\n",
       "    </tr>\n",
       "    <tr>\n",
       "      <th>1</th>\n",
       "      <td>Axio 165 Tail Light  in Kotte | ikman</td>\n",
       "      <td>Imported from Japan \\n\\nRight side available \\...</td>\n",
       "      <td>NaN</td>\n",
       "      <td>axio-165-tail-light-for-sale-colombo-14</td>\n",
       "      <td>Axio 165 Tail Light</td>\n",
       "      <td>for_sale</td>\n",
       "      <td>Rs 67,000</td>\n",
       "      <td>23 Feb 8:32 am</td>\n",
       "      <td>2023-02-23T08:32:44+05:30</td>\n",
       "      <td>2022-03-31T16:27:59.000Z</td>\n",
       "      <td>...</td>\n",
       "      <td>False</td>\n",
       "      <td>False</td>\n",
       "      <td>True</td>\n",
       "      <td>False</td>\n",
       "      <td>False</td>\n",
       "      <td>True</td>\n",
       "      <td>plus</td>\n",
       "      <td>June 2018</td>\n",
       "      <td>{'Condition': 'Reconditioned', 'Part or Access...</td>\n",
       "      <td>5d99b8e45a1bb318079da7a36392d9025e1644cb49ecbf...</td>\n",
       "    </tr>\n",
       "    <tr>\n",
       "      <th>2</th>\n",
       "      <td>Axio 165 / 161 Head light  in Kotte | ikman.lk</td>\n",
       "      <td>Imported from Japan \\n\\nAuto focus headlight a...</td>\n",
       "      <td>NaN</td>\n",
       "      <td>axio-165-161-head-light-for-sale-colombo</td>\n",
       "      <td>Axio 165 / 161 Head light</td>\n",
       "      <td>for_sale</td>\n",
       "      <td>Rs 85,000</td>\n",
       "      <td>01 Dec 8:27 pm</td>\n",
       "      <td>2022-12-01T20:27:49+05:30</td>\n",
       "      <td>2022-03-31T14:03:57.000Z</td>\n",
       "      <td>...</td>\n",
       "      <td>False</td>\n",
       "      <td>False</td>\n",
       "      <td>True</td>\n",
       "      <td>False</td>\n",
       "      <td>False</td>\n",
       "      <td>True</td>\n",
       "      <td>plus</td>\n",
       "      <td>June 2018</td>\n",
       "      <td>{'Condition': 'Reconditioned', 'Part or Access...</td>\n",
       "      <td>5d99b8e45a1bb318079da7a36392d9025e1644cb49ecbf...</td>\n",
       "    </tr>\n",
       "    <tr>\n",
       "      <th>3</th>\n",
       "      <td>Vigo side step ( Foot board)  in Kottawa | ikman</td>\n",
       "      <td>Hilux Vigo side step\\nBrand New Thaiwan\\nGood ...</td>\n",
       "      <td>NaN</td>\n",
       "      <td>vigo-side-step-foot-board-for-sale-colombo</td>\n",
       "      <td>Vigo side step ( Foot board)</td>\n",
       "      <td>for_sale</td>\n",
       "      <td>Rs 47,000</td>\n",
       "      <td>04 Dec 2:47 pm</td>\n",
       "      <td>2022-12-04T14:47:27+05:30</td>\n",
       "      <td>2022-07-29T13:22:59.000Z</td>\n",
       "      <td>...</td>\n",
       "      <td>False</td>\n",
       "      <td>False</td>\n",
       "      <td>True</td>\n",
       "      <td>False</td>\n",
       "      <td>False</td>\n",
       "      <td>False</td>\n",
       "      <td>plus</td>\n",
       "      <td>February 2017</td>\n",
       "      <td>{'Condition': 'New', 'Part or Accessory Type':...</td>\n",
       "      <td>634d93e14a62d9de7b400ee3679ae1d5506f4252ff0580...</td>\n",
       "    </tr>\n",
       "    <tr>\n",
       "      <th>4</th>\n",
       "      <td>Vigo Dickey Door Garnish Cover  in Kottawa | i...</td>\n",
       "      <td>Hilux Vigo ( 2005, 2009 ) dickey door garnish set</td>\n",
       "      <td>NaN</td>\n",
       "      <td>vigo-dickey-door-garnish-cover-for-sale-colombo-1</td>\n",
       "      <td>Vigo Dickey Door Garnish Cover</td>\n",
       "      <td>for_sale</td>\n",
       "      <td>Rs 9,000</td>\n",
       "      <td>08 Dec 9:28 am</td>\n",
       "      <td>2022-12-08T09:28:04+05:30</td>\n",
       "      <td>2022-07-29T12:55:44.000Z</td>\n",
       "      <td>...</td>\n",
       "      <td>False</td>\n",
       "      <td>False</td>\n",
       "      <td>True</td>\n",
       "      <td>False</td>\n",
       "      <td>False</td>\n",
       "      <td>False</td>\n",
       "      <td>plus</td>\n",
       "      <td>February 2017</td>\n",
       "      <td>{'Condition': 'New', 'Part or Accessory Type':...</td>\n",
       "      <td>634d93e14a62d9de7b400ee3679ae1d5506f4252ff0580...</td>\n",
       "    </tr>\n",
       "  </tbody>\n",
       "</table>\n",
       "<p>5 rows × 26 columns</p>\n",
       "</div>\n",
       "    <div class=\"colab-df-buttons\">\n",
       "\n",
       "  <div class=\"colab-df-container\">\n",
       "    <button class=\"colab-df-convert\" onclick=\"convertToInteractive('df-2c75dbf3-f829-44d3-862d-0f01fae311db')\"\n",
       "            title=\"Convert this dataframe to an interactive table.\"\n",
       "            style=\"display:none;\">\n",
       "\n",
       "  <svg xmlns=\"http://www.w3.org/2000/svg\" height=\"24px\" viewBox=\"0 -960 960 960\">\n",
       "    <path d=\"M120-120v-720h720v720H120Zm60-500h600v-160H180v160Zm220 220h160v-160H400v160Zm0 220h160v-160H400v160ZM180-400h160v-160H180v160Zm440 0h160v-160H620v160ZM180-180h160v-160H180v160Zm440 0h160v-160H620v160Z\"/>\n",
       "  </svg>\n",
       "    </button>\n",
       "\n",
       "  <style>\n",
       "    .colab-df-container {\n",
       "      display:flex;\n",
       "      gap: 12px;\n",
       "    }\n",
       "\n",
       "    .colab-df-convert {\n",
       "      background-color: #E8F0FE;\n",
       "      border: none;\n",
       "      border-radius: 50%;\n",
       "      cursor: pointer;\n",
       "      display: none;\n",
       "      fill: #1967D2;\n",
       "      height: 32px;\n",
       "      padding: 0 0 0 0;\n",
       "      width: 32px;\n",
       "    }\n",
       "\n",
       "    .colab-df-convert:hover {\n",
       "      background-color: #E2EBFA;\n",
       "      box-shadow: 0px 1px 2px rgba(60, 64, 67, 0.3), 0px 1px 3px 1px rgba(60, 64, 67, 0.15);\n",
       "      fill: #174EA6;\n",
       "    }\n",
       "\n",
       "    .colab-df-buttons div {\n",
       "      margin-bottom: 4px;\n",
       "    }\n",
       "\n",
       "    [theme=dark] .colab-df-convert {\n",
       "      background-color: #3B4455;\n",
       "      fill: #D2E3FC;\n",
       "    }\n",
       "\n",
       "    [theme=dark] .colab-df-convert:hover {\n",
       "      background-color: #434B5C;\n",
       "      box-shadow: 0px 1px 3px 1px rgba(0, 0, 0, 0.15);\n",
       "      filter: drop-shadow(0px 1px 2px rgba(0, 0, 0, 0.3));\n",
       "      fill: #FFFFFF;\n",
       "    }\n",
       "  </style>\n",
       "\n",
       "    <script>\n",
       "      const buttonEl =\n",
       "        document.querySelector('#df-2c75dbf3-f829-44d3-862d-0f01fae311db button.colab-df-convert');\n",
       "      buttonEl.style.display =\n",
       "        google.colab.kernel.accessAllowed ? 'block' : 'none';\n",
       "\n",
       "      async function convertToInteractive(key) {\n",
       "        const element = document.querySelector('#df-2c75dbf3-f829-44d3-862d-0f01fae311db');\n",
       "        const dataTable =\n",
       "          await google.colab.kernel.invokeFunction('convertToInteractive',\n",
       "                                                    [key], {});\n",
       "        if (!dataTable) return;\n",
       "\n",
       "        const docLinkHtml = 'Like what you see? Visit the ' +\n",
       "          '<a target=\"_blank\" href=https://colab.research.google.com/notebooks/data_table.ipynb>data table notebook</a>'\n",
       "          + ' to learn more about interactive tables.';\n",
       "        element.innerHTML = '';\n",
       "        dataTable['output_type'] = 'display_data';\n",
       "        await google.colab.output.renderOutput(dataTable, element);\n",
       "        const docLink = document.createElement('div');\n",
       "        docLink.innerHTML = docLinkHtml;\n",
       "        element.appendChild(docLink);\n",
       "      }\n",
       "    </script>\n",
       "  </div>\n",
       "\n",
       "\n",
       "<div id=\"df-72189619-979e-41fe-a8ba-39a273e1ba86\">\n",
       "  <button class=\"colab-df-quickchart\" onclick=\"quickchart('df-72189619-979e-41fe-a8ba-39a273e1ba86')\"\n",
       "            title=\"Suggest charts\"\n",
       "            style=\"display:none;\">\n",
       "\n",
       "<svg xmlns=\"http://www.w3.org/2000/svg\" height=\"24px\"viewBox=\"0 0 24 24\"\n",
       "     width=\"24px\">\n",
       "    <g>\n",
       "        <path d=\"M19 3H5c-1.1 0-2 .9-2 2v14c0 1.1.9 2 2 2h14c1.1 0 2-.9 2-2V5c0-1.1-.9-2-2-2zM9 17H7v-7h2v7zm4 0h-2V7h2v10zm4 0h-2v-4h2v4z\"/>\n",
       "    </g>\n",
       "</svg>\n",
       "  </button>\n",
       "\n",
       "<style>\n",
       "  .colab-df-quickchart {\n",
       "      --bg-color: #E8F0FE;\n",
       "      --fill-color: #1967D2;\n",
       "      --hover-bg-color: #E2EBFA;\n",
       "      --hover-fill-color: #174EA6;\n",
       "      --disabled-fill-color: #AAA;\n",
       "      --disabled-bg-color: #DDD;\n",
       "  }\n",
       "\n",
       "  [theme=dark] .colab-df-quickchart {\n",
       "      --bg-color: #3B4455;\n",
       "      --fill-color: #D2E3FC;\n",
       "      --hover-bg-color: #434B5C;\n",
       "      --hover-fill-color: #FFFFFF;\n",
       "      --disabled-bg-color: #3B4455;\n",
       "      --disabled-fill-color: #666;\n",
       "  }\n",
       "\n",
       "  .colab-df-quickchart {\n",
       "    background-color: var(--bg-color);\n",
       "    border: none;\n",
       "    border-radius: 50%;\n",
       "    cursor: pointer;\n",
       "    display: none;\n",
       "    fill: var(--fill-color);\n",
       "    height: 32px;\n",
       "    padding: 0;\n",
       "    width: 32px;\n",
       "  }\n",
       "\n",
       "  .colab-df-quickchart:hover {\n",
       "    background-color: var(--hover-bg-color);\n",
       "    box-shadow: 0 1px 2px rgba(60, 64, 67, 0.3), 0 1px 3px 1px rgba(60, 64, 67, 0.15);\n",
       "    fill: var(--button-hover-fill-color);\n",
       "  }\n",
       "\n",
       "  .colab-df-quickchart-complete:disabled,\n",
       "  .colab-df-quickchart-complete:disabled:hover {\n",
       "    background-color: var(--disabled-bg-color);\n",
       "    fill: var(--disabled-fill-color);\n",
       "    box-shadow: none;\n",
       "  }\n",
       "\n",
       "  .colab-df-spinner {\n",
       "    border: 2px solid var(--fill-color);\n",
       "    border-color: transparent;\n",
       "    border-bottom-color: var(--fill-color);\n",
       "    animation:\n",
       "      spin 1s steps(1) infinite;\n",
       "  }\n",
       "\n",
       "  @keyframes spin {\n",
       "    0% {\n",
       "      border-color: transparent;\n",
       "      border-bottom-color: var(--fill-color);\n",
       "      border-left-color: var(--fill-color);\n",
       "    }\n",
       "    20% {\n",
       "      border-color: transparent;\n",
       "      border-left-color: var(--fill-color);\n",
       "      border-top-color: var(--fill-color);\n",
       "    }\n",
       "    30% {\n",
       "      border-color: transparent;\n",
       "      border-left-color: var(--fill-color);\n",
       "      border-top-color: var(--fill-color);\n",
       "      border-right-color: var(--fill-color);\n",
       "    }\n",
       "    40% {\n",
       "      border-color: transparent;\n",
       "      border-right-color: var(--fill-color);\n",
       "      border-top-color: var(--fill-color);\n",
       "    }\n",
       "    60% {\n",
       "      border-color: transparent;\n",
       "      border-right-color: var(--fill-color);\n",
       "    }\n",
       "    80% {\n",
       "      border-color: transparent;\n",
       "      border-right-color: var(--fill-color);\n",
       "      border-bottom-color: var(--fill-color);\n",
       "    }\n",
       "    90% {\n",
       "      border-color: transparent;\n",
       "      border-bottom-color: var(--fill-color);\n",
       "    }\n",
       "  }\n",
       "</style>\n",
       "\n",
       "  <script>\n",
       "    async function quickchart(key) {\n",
       "      const quickchartButtonEl =\n",
       "        document.querySelector('#' + key + ' button');\n",
       "      quickchartButtonEl.disabled = true;  // To prevent multiple clicks.\n",
       "      quickchartButtonEl.classList.add('colab-df-spinner');\n",
       "      try {\n",
       "        const charts = await google.colab.kernel.invokeFunction(\n",
       "            'suggestCharts', [key], {});\n",
       "      } catch (error) {\n",
       "        console.error('Error during call to suggestCharts:', error);\n",
       "      }\n",
       "      quickchartButtonEl.classList.remove('colab-df-spinner');\n",
       "      quickchartButtonEl.classList.add('colab-df-quickchart-complete');\n",
       "    }\n",
       "    (() => {\n",
       "      let quickchartButtonEl =\n",
       "        document.querySelector('#df-72189619-979e-41fe-a8ba-39a273e1ba86 button');\n",
       "      quickchartButtonEl.style.display =\n",
       "        google.colab.kernel.accessAllowed ? 'block' : 'none';\n",
       "    })();\n",
       "  </script>\n",
       "</div>\n",
       "\n",
       "    </div>\n",
       "  </div>\n"
      ],
      "text/plain": [
       "                                            ad_title  \\\n",
       "0     Nissan Tiida Alternator  in Maharagama | ikman   \n",
       "1              Axio 165 Tail Light  in Kotte | ikman   \n",
       "2     Axio 165 / 161 Head light  in Kotte | ikman.lk   \n",
       "3   Vigo side step ( Foot board)  in Kottawa | ikman   \n",
       "4  Vigo Dickey Door Garnish Cover  in Kottawa | i...   \n",
       "\n",
       "                                      ad_description details  \\\n",
       "0  **TISSA AUTO PARTS** Dealer of used Japanese m...     NaN   \n",
       "1  Imported from Japan \\n\\nRight side available \\...     NaN   \n",
       "2  Imported from Japan \\n\\nAuto focus headlight a...     NaN   \n",
       "3  Hilux Vigo side step\\nBrand New Thaiwan\\nGood ...     NaN   \n",
       "4  Hilux Vigo ( 2005, 2009 ) dickey door garnish set     NaN   \n",
       "\n",
       "                                                slug  \\\n",
       "0         nissan-tiida-alternator-for-sale-colombo-3   \n",
       "1            axio-165-tail-light-for-sale-colombo-14   \n",
       "2           axio-165-161-head-light-for-sale-colombo   \n",
       "3         vigo-side-step-foot-board-for-sale-colombo   \n",
       "4  vigo-dickey-door-garnish-cover-for-sale-colombo-1   \n",
       "\n",
       "                            title      type      price        timestamp  \\\n",
       "0         Nissan Tiida Alternator  for_sale  Rs 18,000  23 Feb 11:35 pm   \n",
       "1             Axio 165 Tail Light  for_sale  Rs 67,000   23 Feb 8:32 am   \n",
       "2       Axio 165 / 161 Head light  for_sale  Rs 85,000   01 Dec 8:27 pm   \n",
       "3    Vigo side step ( Foot board)  for_sale  Rs 47,000   04 Dec 2:47 pm   \n",
       "4  Vigo Dickey Door Garnish Cover  for_sale   Rs 9,000   08 Dec 9:28 am   \n",
       "\n",
       "                 posted_date         deactivation_date  ...  \\\n",
       "0  2023-02-23T23:35:10+05:30  2022-05-30T17:13:04.000Z  ...   \n",
       "1  2023-02-23T08:32:44+05:30  2022-03-31T16:27:59.000Z  ...   \n",
       "2  2022-12-01T20:27:49+05:30  2022-03-31T14:03:57.000Z  ...   \n",
       "3  2022-12-04T14:47:27+05:30  2022-07-29T13:22:59.000Z  ...   \n",
       "4  2022-12-08T09:28:04+05:30  2022-07-29T12:55:44.000Z  ...   \n",
       "\n",
       "  is_doorstep_delivery is_dsd_applicable is_member is_authorized_dealer  \\\n",
       "0                False             False      True                False   \n",
       "1                False             False      True                False   \n",
       "2                False             False      True                False   \n",
       "3                False             False      True                False   \n",
       "4                False             False      True                False   \n",
       "\n",
       "  is_featured_member  is_verified  membership_level    member_since  \\\n",
       "0              False         True           premium  September 2019   \n",
       "1              False         True              plus       June 2018   \n",
       "2              False         True              plus       June 2018   \n",
       "3              False        False              plus   February 2017   \n",
       "4              False        False              plus   February 2017   \n",
       "\n",
       "                                          properties  \\\n",
       "0  {'Condition': 'Reconditioned', 'Part or Access...   \n",
       "1  {'Condition': 'Reconditioned', 'Part or Access...   \n",
       "2  {'Condition': 'Reconditioned', 'Part or Access...   \n",
       "3  {'Condition': 'New', 'Part or Accessory Type':...   \n",
       "4  {'Condition': 'New', 'Part or Accessory Type':...   \n",
       "\n",
       "                                                user  \n",
       "0  a6681dea494390daa516a6d2bdcb36e08c318574a13413...  \n",
       "1  5d99b8e45a1bb318079da7a36392d9025e1644cb49ecbf...  \n",
       "2  5d99b8e45a1bb318079da7a36392d9025e1644cb49ecbf...  \n",
       "3  634d93e14a62d9de7b400ee3679ae1d5506f4252ff0580...  \n",
       "4  634d93e14a62d9de7b400ee3679ae1d5506f4252ff0580...  \n",
       "\n",
       "[5 rows x 26 columns]"
      ]
     },
     "execution_count": 5,
     "metadata": {},
     "output_type": "execute_result"
    }
   ],
   "source": [
    "df.head()"
   ]
  },
  {
   "cell_type": "code",
   "execution_count": null,
   "metadata": {
    "colab": {
     "base_uri": "https://localhost:8080/"
    },
    "id": "F2cHRD6OO9CM",
    "outputId": "49eba3f1-8c7b-4b00-a2e1-40ffbfa6bcf0"
   },
   "outputs": [
    {
     "data": {
      "text/plain": [
       "(258888, 26)"
      ]
     },
     "execution_count": 6,
     "metadata": {},
     "output_type": "execute_result"
    }
   ],
   "source": [
    "df.shape"
   ]
  },
  {
   "cell_type": "code",
   "execution_count": null,
   "metadata": {
    "colab": {
     "base_uri": "https://localhost:8080/"
    },
    "id": "RkiwxaIbPCRy",
    "outputId": "5316127a-e315-4373-d275-862d7d762273"
   },
   "outputs": [
    {
     "name": "stdout",
     "output_type": "stream",
     "text": [
      "<class 'pandas.core.frame.DataFrame'>\n",
      "RangeIndex: 258888 entries, 0 to 258887\n",
      "Data columns (total 26 columns):\n",
      " #   Column                Non-Null Count   Dtype \n",
      "---  ------                --------------   ----- \n",
      " 0   ad_title              258888 non-null  object\n",
      " 1   ad_description        258881 non-null  object\n",
      " 2   details               155505 non-null  object\n",
      " 3   slug                  258888 non-null  object\n",
      " 4   title                 258888 non-null  object\n",
      " 5   type                  258888 non-null  object\n",
      " 6   price                 255077 non-null  object\n",
      " 7   timestamp             258882 non-null  object\n",
      " 8   posted_date           258882 non-null  object\n",
      " 9   deactivation_date     258882 non-null  object\n",
      " 10  category              258888 non-null  object\n",
      " 11  parent_category       258888 non-null  object\n",
      " 12  location              258888 non-null  object\n",
      " 13  geo_region            258888 non-null  object\n",
      " 14  area                  258888 non-null  object\n",
      " 15  is_delivery_free      258888 non-null  bool  \n",
      " 16  is_doorstep_delivery  258888 non-null  bool  \n",
      " 17  is_dsd_applicable     258888 non-null  bool  \n",
      " 18  is_member             249838 non-null  object\n",
      " 19  is_authorized_dealer  249838 non-null  object\n",
      " 20  is_featured_member    249838 non-null  object\n",
      " 21  is_verified           258888 non-null  bool  \n",
      " 22  membership_level      258888 non-null  object\n",
      " 23  member_since          108634 non-null  object\n",
      " 24  properties            258888 non-null  object\n",
      " 25  user                  258888 non-null  object\n",
      "dtypes: bool(4), object(22)\n",
      "memory usage: 44.4+ MB\n"
     ]
    }
   ],
   "source": [
    "df.info()"
   ]
  },
  {
   "cell_type": "code",
   "execution_count": null,
   "metadata": {
    "colab": {
     "base_uri": "https://localhost:8080/"
    },
    "id": "6W44249iPDbp",
    "outputId": "e829465e-6898-4bb1-8739-831120b4e913"
   },
   "outputs": [
    {
     "data": {
      "text/plain": [
       "ad_title                     0\n",
       "ad_description               7\n",
       "details                 103383\n",
       "slug                         0\n",
       "title                        0\n",
       "type                         0\n",
       "price                     3811\n",
       "timestamp                    6\n",
       "posted_date                  6\n",
       "deactivation_date            6\n",
       "category                     0\n",
       "parent_category              0\n",
       "location                     0\n",
       "geo_region                   0\n",
       "area                         0\n",
       "is_delivery_free             0\n",
       "is_doorstep_delivery         0\n",
       "is_dsd_applicable            0\n",
       "is_member                 9050\n",
       "is_authorized_dealer      9050\n",
       "is_featured_member        9050\n",
       "is_verified                  0\n",
       "membership_level             0\n",
       "member_since            150254\n",
       "properties                   0\n",
       "user                         0\n",
       "dtype: int64"
      ]
     },
     "execution_count": 8,
     "metadata": {},
     "output_type": "execute_result"
    }
   ],
   "source": [
    "# check the columns contain any null values\n",
    "df.isnull().sum()"
   ]
  },
  {
   "cell_type": "code",
   "execution_count": null,
   "metadata": {
    "colab": {
     "base_uri": "https://localhost:8080/"
    },
    "id": "xX8Kpey8PGgb",
    "outputId": "2b8f3faf-1371-418a-e8d7-45dab0fd66d5"
   },
   "outputs": [
    {
     "data": {
      "text/plain": [
       "0"
      ]
     },
     "execution_count": 9,
     "metadata": {},
     "output_type": "execute_result"
    }
   ],
   "source": [
    "# check any duplicate values are present in dataset\n",
    "df.duplicated().sum()"
   ]
  },
  {
   "cell_type": "code",
   "execution_count": null,
   "metadata": {
    "id": "3y_psV6PPI2L"
   },
   "outputs": [],
   "source": [
    "# df has 258888 records & 26 columns. Columns includes vehicles advertisements and their related details.\n",
    "# Datatype are object and bool.\n",
    "# There is null values present in some columns but no duplicated values."
   ]
  },
  {
   "cell_type": "markdown",
   "metadata": {
    "id": "WN9DUGk5s47d"
   },
   "source": [
    "# Handle missing values appropriately."
   ]
  },
  {
   "cell_type": "code",
   "execution_count": null,
   "metadata": {
    "id": "CnT_ELOrPMlk"
   },
   "outputs": [],
   "source": [
    "df1=df.copy()"
   ]
  },
  {
   "cell_type": "code",
   "execution_count": null,
   "metadata": {
    "id": "FEWnvms-yB8k"
   },
   "outputs": [],
   "source": [
    "df1=df1.drop(df1[['parent_category']] ,axis=1)"
   ]
  },
  {
   "cell_type": "markdown",
   "metadata": {
    "id": "kxhIN8BBPQG4"
   },
   "source": [
    "For Price Column"
   ]
  },
  {
   "cell_type": "code",
   "execution_count": null,
   "metadata": {
    "id": "9MyfNQpZPTyX"
   },
   "outputs": [],
   "source": [
    "# Clean the 'price' column to remove non-numeric characters\n",
    "df1['price'] = df1['price'].astype(str)\n",
    "df1['price'] = df1['price'].str.replace('Rs', '', regex=False).str.replace(',', '', regex=False)"
   ]
  },
  {
   "cell_type": "code",
   "execution_count": null,
   "metadata": {
    "id": "Aq2XmDvgPXUL"
   },
   "outputs": [],
   "source": [
    "# Replace 'Negotiable' and any other non-numeric strings with NaN\n",
    "df1['price'] = df1['price'].apply(lambda x: np.nan if x == 'Negotiable' else float(x))"
   ]
  },
  {
   "cell_type": "code",
   "execution_count": null,
   "metadata": {
    "colab": {
     "base_uri": "https://localhost:8080/"
    },
    "id": "4rjdi4LMPZr1",
    "outputId": "13bb3ad9-d718-4c06-ad4c-8c993e6ad669"
   },
   "outputs": [
    {
     "name": "stdout",
     "output_type": "stream",
     "text": [
      "<class 'pandas.core.frame.DataFrame'>\n",
      "RangeIndex: 258888 entries, 0 to 258887\n",
      "Data columns (total 25 columns):\n",
      " #   Column                Non-Null Count   Dtype  \n",
      "---  ------                --------------   -----  \n",
      " 0   ad_title              258888 non-null  object \n",
      " 1   ad_description        258881 non-null  object \n",
      " 2   details               155505 non-null  object \n",
      " 3   slug                  258888 non-null  object \n",
      " 4   title                 258888 non-null  object \n",
      " 5   type                  258888 non-null  object \n",
      " 6   price                 253404 non-null  float64\n",
      " 7   timestamp             258882 non-null  object \n",
      " 8   posted_date           258882 non-null  object \n",
      " 9   deactivation_date     258882 non-null  object \n",
      " 10  category              258888 non-null  object \n",
      " 11  location              258888 non-null  object \n",
      " 12  geo_region            258888 non-null  object \n",
      " 13  area                  258888 non-null  object \n",
      " 14  is_delivery_free      258888 non-null  bool   \n",
      " 15  is_doorstep_delivery  258888 non-null  bool   \n",
      " 16  is_dsd_applicable     258888 non-null  bool   \n",
      " 17  is_member             249838 non-null  object \n",
      " 18  is_authorized_dealer  249838 non-null  object \n",
      " 19  is_featured_member    249838 non-null  object \n",
      " 20  is_verified           258888 non-null  bool   \n",
      " 21  membership_level      258888 non-null  object \n",
      " 22  member_since          108634 non-null  object \n",
      " 23  properties            258888 non-null  object \n",
      " 24  user                  258888 non-null  object \n",
      "dtypes: bool(4), float64(1), object(20)\n",
      "memory usage: 42.5+ MB\n"
     ]
    }
   ],
   "source": [
    "df1.info()"
   ]
  },
  {
   "cell_type": "code",
   "execution_count": null,
   "metadata": {
    "id": "ZT3bHFsfPbL_"
   },
   "outputs": [],
   "source": [
    "# Dropping Missing Values:"
   ]
  },
  {
   "cell_type": "code",
   "execution_count": null,
   "metadata": {
    "id": "Ww7en_NqPeHp"
   },
   "outputs": [],
   "source": [
    "# dropping missing valuse from price column\n",
    "df1=df1.dropna(subset=['price'])"
   ]
  },
  {
   "cell_type": "code",
   "execution_count": null,
   "metadata": {
    "colab": {
     "base_uri": "https://localhost:8080/"
    },
    "id": "ZtsAldR8PfoT",
    "outputId": "9eaf6622-d958-478c-f61d-8a71a0c259df"
   },
   "outputs": [
    {
     "data": {
      "text/plain": [
       "ad_title                     0\n",
       "ad_description               7\n",
       "details                  97915\n",
       "slug                         0\n",
       "title                        0\n",
       "type                         0\n",
       "price                        0\n",
       "timestamp                    6\n",
       "posted_date                  6\n",
       "deactivation_date            6\n",
       "category                     0\n",
       "location                     0\n",
       "geo_region                   0\n",
       "area                         0\n",
       "is_delivery_free             0\n",
       "is_doorstep_delivery         0\n",
       "is_dsd_applicable            0\n",
       "is_member                 8988\n",
       "is_authorized_dealer      8988\n",
       "is_featured_member        8988\n",
       "is_verified                  0\n",
       "membership_level             0\n",
       "member_since            148883\n",
       "properties                   0\n",
       "user                         0\n",
       "dtype: int64"
      ]
     },
     "execution_count": 18,
     "metadata": {},
     "output_type": "execute_result"
    }
   ],
   "source": [
    "df1.isnull().sum()"
   ]
  },
  {
   "cell_type": "code",
   "execution_count": null,
   "metadata": {
    "id": "SrZ6MTcFPhXQ"
   },
   "outputs": [],
   "source": [
    "# for details column-\n",
    "# Remove 'km' and commas, then convert to float\n",
    "df1['Travelled_dist'] = df1['details'].str.replace(' km', '').str.replace(',', '').astype(float)"
   ]
  },
  {
   "cell_type": "code",
   "execution_count": null,
   "metadata": {
    "id": "905wuPaHPj6Q"
   },
   "outputs": [],
   "source": [
    "#created new column travelled_dist and store all modified value of details column in the drop the details column\n",
    "df1=df1.drop(df1[['details']] ,axis=1)"
   ]
  },
  {
   "cell_type": "code",
   "execution_count": null,
   "metadata": {
    "colab": {
     "base_uri": "https://localhost:8080/"
    },
    "id": "8VBBZJFdPlZv",
    "outputId": "22293977-66b3-4841-b904-c9ccda9c0a59"
   },
   "outputs": [
    {
     "data": {
      "text/plain": [
       "ad_title                     0\n",
       "ad_description               7\n",
       "slug                         0\n",
       "title                        0\n",
       "type                         0\n",
       "price                        0\n",
       "timestamp                    6\n",
       "posted_date                  6\n",
       "deactivation_date            6\n",
       "category                     0\n",
       "location                     0\n",
       "geo_region                   0\n",
       "area                         0\n",
       "is_delivery_free             0\n",
       "is_doorstep_delivery         0\n",
       "is_dsd_applicable            0\n",
       "is_member                 8988\n",
       "is_authorized_dealer      8988\n",
       "is_featured_member        8988\n",
       "is_verified                  0\n",
       "membership_level             0\n",
       "member_since            148883\n",
       "properties                   0\n",
       "user                         0\n",
       "Travelled_dist           97915\n",
       "dtype: int64"
      ]
     },
     "execution_count": 21,
     "metadata": {},
     "output_type": "execute_result"
    }
   ],
   "source": [
    "df1.isnull().sum()"
   ]
  },
  {
   "cell_type": "code",
   "execution_count": null,
   "metadata": {
    "id": "h1E9GwWqPm-o"
   },
   "outputs": [],
   "source": [
    "list = df1.loc[df1.Travelled_dist < 2500, 'Travelled_dist'].tolist()"
   ]
  },
  {
   "cell_type": "code",
   "execution_count": null,
   "metadata": {
    "colab": {
     "base_uri": "https://localhost:8080/"
    },
    "id": "gqE2u0-Bq3La",
    "outputId": "3bdefd3c-bfe6-472d-8d35-48cbf9805fa9"
   },
   "outputs": [
    {
     "name": "stdout",
     "output_type": "stream",
     "text": [
      "20196\n"
     ]
    }
   ],
   "source": [
    "list_length = len(list)\n",
    "print(list_length)"
   ]
  },
  {
   "cell_type": "code",
   "execution_count": null,
   "metadata": {
    "id": "0Bfg2SDW-DgO"
   },
   "outputs": [],
   "source": [
    "df1=df1.drop(df1[['Travelled_dist']] ,axis=1)"
   ]
  },
  {
   "cell_type": "code",
   "execution_count": null,
   "metadata": {
    "colab": {
     "base_uri": "https://localhost:8080/"
    },
    "id": "KLKL2j89rTyp",
    "outputId": "411fb52d-b751-4596-d0f1-83eb14445365"
   },
   "outputs": [
    {
     "name": "stdout",
     "output_type": "stream",
     "text": [
      "<class 'pandas.core.frame.DataFrame'>\n",
      "Index: 253404 entries, 0 to 258887\n",
      "Data columns (total 24 columns):\n",
      " #   Column                Non-Null Count   Dtype  \n",
      "---  ------                --------------   -----  \n",
      " 0   ad_title              253404 non-null  object \n",
      " 1   ad_description        253397 non-null  object \n",
      " 2   slug                  253404 non-null  object \n",
      " 3   title                 253404 non-null  object \n",
      " 4   type                  253404 non-null  object \n",
      " 5   price                 253404 non-null  float64\n",
      " 6   timestamp             253398 non-null  object \n",
      " 7   posted_date           253398 non-null  object \n",
      " 8   deactivation_date     253398 non-null  object \n",
      " 9   category              253404 non-null  object \n",
      " 10  location              253404 non-null  object \n",
      " 11  geo_region            253404 non-null  object \n",
      " 12  area                  253404 non-null  object \n",
      " 13  is_delivery_free      253404 non-null  bool   \n",
      " 14  is_doorstep_delivery  253404 non-null  bool   \n",
      " 15  is_dsd_applicable     253404 non-null  bool   \n",
      " 16  is_member             244416 non-null  object \n",
      " 17  is_authorized_dealer  244416 non-null  object \n",
      " 18  is_featured_member    244416 non-null  object \n",
      " 19  is_verified           253404 non-null  bool   \n",
      " 20  membership_level      253404 non-null  object \n",
      " 21  member_since          104521 non-null  object \n",
      " 22  properties            253404 non-null  object \n",
      " 23  user                  253404 non-null  object \n",
      "dtypes: bool(4), float64(1), object(19)\n",
      "memory usage: 41.6+ MB\n"
     ]
    }
   ],
   "source": [
    "df1.info()"
   ]
  },
  {
   "cell_type": "code",
   "execution_count": null,
   "metadata": {
    "colab": {
     "base_uri": "https://localhost:8080/"
    },
    "id": "K-QyCkrLPpns",
    "outputId": "1690cca8-5ca0-4dbd-f5b0-2689ed22a42e"
   },
   "outputs": [
    {
     "data": {
      "text/plain": [
       "ad_title                     0\n",
       "ad_description               7\n",
       "slug                         0\n",
       "title                        0\n",
       "type                         0\n",
       "price                        0\n",
       "timestamp                    6\n",
       "posted_date                  6\n",
       "deactivation_date            6\n",
       "category                     0\n",
       "location                     0\n",
       "geo_region                   0\n",
       "area                         0\n",
       "is_delivery_free             0\n",
       "is_doorstep_delivery         0\n",
       "is_dsd_applicable            0\n",
       "is_member                 8988\n",
       "is_authorized_dealer      8988\n",
       "is_featured_member        8988\n",
       "is_verified                  0\n",
       "membership_level             0\n",
       "member_since            148883\n",
       "properties                   0\n",
       "user                         0\n",
       "dtype: int64"
      ]
     },
     "execution_count": 26,
     "metadata": {},
     "output_type": "execute_result"
    }
   ],
   "source": [
    "df1.isnull().sum()"
   ]
  },
  {
   "cell_type": "code",
   "execution_count": null,
   "metadata": {
    "id": "h-FwvBflytFX"
   },
   "outputs": [],
   "source": [
    "# Define the categories to be removed\n",
    "categories_to_remove = ['Auto Parts & Accessories', 'Auto Services','Rentals','Tractors','Heavy Duty','Buses','Boats & Water Transport']\n",
    "\n",
    "# Remove the specified categories from the dataset\n",
    "df1 = df1[~df1['category'].isin(categories_to_remove)]"
   ]
  },
  {
   "cell_type": "code",
   "execution_count": null,
   "metadata": {
    "colab": {
     "base_uri": "https://localhost:8080/"
    },
    "id": "i5lfUpsmyvgP",
    "outputId": "c0d4f9c1-e694-4601-bd5f-02f10c7a800a"
   },
   "outputs": [
    {
     "data": {
      "text/plain": [
       "(166065,)"
      ]
     },
     "execution_count": 28,
     "metadata": {},
     "output_type": "execute_result"
    }
   ],
   "source": [
    "df1['category'].shape"
   ]
  },
  {
   "cell_type": "code",
   "execution_count": null,
   "metadata": {
    "colab": {
     "base_uri": "https://localhost:8080/"
    },
    "id": "Pfq29hBUyx53",
    "outputId": "5be25092-3688-4129-ca66-2df1ef33761f"
   },
   "outputs": [
    {
     "data": {
      "text/plain": [
       "0"
      ]
     },
     "execution_count": 29,
     "metadata": {},
     "output_type": "execute_result"
    }
   ],
   "source": [
    "df1[\"category\"].isnull().sum()"
   ]
  },
  {
   "cell_type": "markdown",
   "metadata": {
    "id": "kcMtb-gHzIMI"
   },
   "source": [
    "for timestamp, posted_date,\n",
    " deactivation_date columns"
   ]
  },
  {
   "cell_type": "code",
   "execution_count": null,
   "metadata": {
    "id": "iGVvdaipzU7v"
   },
   "outputs": [],
   "source": [
    "#Handle Null values\n",
    "list1 = ['timestamp','posted_date','deactivation_date']\n",
    "for i in list1:\n",
    "\n",
    "  df1 = df1.sort_values(i)\n",
    "\n",
    "# Fill missing dates with the previous valid date\n",
    "  df1[i] = df1[i].fillna(method='ffill')"
   ]
  },
  {
   "cell_type": "code",
   "execution_count": null,
   "metadata": {
    "colab": {
     "base_uri": "https://localhost:8080/"
    },
    "id": "IkH8IIcVzaVt",
    "outputId": "b746c936-bdc8-40ae-9f49-413cb1ff03e0"
   },
   "outputs": [
    {
     "data": {
      "text/plain": [
       "timestamp            0\n",
       "posted_date          0\n",
       "deactivation_date    0\n",
       "dtype: int64"
      ]
     },
     "execution_count": 31,
     "metadata": {},
     "output_type": "execute_result"
    }
   ],
   "source": [
    "df1[['timestamp','posted_date','deactivation_date']].isnull().sum()"
   ]
  },
  {
   "cell_type": "markdown",
   "metadata": {
    "id": "0c_iuzLgqF1D"
   },
   "source": [
    "for column add_description"
   ]
  },
  {
   "cell_type": "code",
   "execution_count": null,
   "metadata": {
    "collapsed": true,
    "id": "9wpKkAbpoOBZ"
   },
   "outputs": [],
   "source": [
    "# drop column\n",
    "df1=df1.drop(df1[['ad_description']] ,axis=1)"
   ]
  },
  {
   "cell_type": "code",
   "execution_count": null,
   "metadata": {
    "colab": {
     "base_uri": "https://localhost:8080/"
    },
    "id": "TOwW1jedqRfH",
    "outputId": "8ea3ba45-605f-406f-9d49-d29f8d799fe3"
   },
   "outputs": [
    {
     "data": {
      "text/plain": [
       "(166065, 23)"
      ]
     },
     "execution_count": 33,
     "metadata": {},
     "output_type": "execute_result"
    }
   ],
   "source": [
    "df1.shape"
   ]
  },
  {
   "cell_type": "markdown",
   "metadata": {
    "id": "8VWTvJbsznjG"
   },
   "source": [
    "for is_member, is_authorized_dealer, is_featured_member columns"
   ]
  },
  {
   "cell_type": "code",
   "execution_count": null,
   "metadata": {
    "id": "JBRPiBri0Tkl"
   },
   "outputs": [],
   "source": [
    "# categorical Data\n",
    "list1 = ['is_member', 'is_authorized_dealer', 'is_featured_member']\n",
    "for i in list1:\n",
    "\n",
    "  df1 = df1.sort_values(i)\n",
    "\n",
    "# Fill missing dates with the previous valid date\n",
    "  df1[i] = df1[i].fillna(method='ffill')"
   ]
  },
  {
   "cell_type": "code",
   "execution_count": null,
   "metadata": {
    "colab": {
     "base_uri": "https://localhost:8080/"
    },
    "id": "fWjxr2fF0a5c",
    "outputId": "fe1ec39e-19a1-4257-8753-2d71cd679d3b"
   },
   "outputs": [
    {
     "data": {
      "text/plain": [
       "is_member               0\n",
       "is_authorized_dealer    0\n",
       "is_featured_member      0\n",
       "dtype: int64"
      ]
     },
     "execution_count": 35,
     "metadata": {},
     "output_type": "execute_result"
    }
   ],
   "source": [
    "df1[['is_member', 'is_authorized_dealer', 'is_featured_member']].isnull().sum()"
   ]
  },
  {
   "cell_type": "code",
   "execution_count": null,
   "metadata": {
    "id": "-QeEIrpjr7I8"
   },
   "outputs": [],
   "source": [
    "# Find difference between post_date and deactivation_date\n",
    "# Find the difference between two columns and check if difference is less than zero remove those rows"
   ]
  },
  {
   "cell_type": "code",
   "execution_count": null,
   "metadata": {
    "colab": {
     "base_uri": "https://localhost:8080/",
     "height": 724
    },
    "id": "NWK9KoSQsd6k",
    "outputId": "6cb64f90-2937-4898-8dba-b3c581c7fc55"
   },
   "outputs": [
    {
     "data": {
      "application/vnd.google.colaboratory.intrinsic+json": {
       "type": "dataframe",
       "variable_name": "df1"
      },
      "text/html": [
       "\n",
       "  <div id=\"df-2e2d3256-4162-4517-b42e-fc8ce4554ac8\" class=\"colab-df-container\">\n",
       "    <div>\n",
       "<style scoped>\n",
       "    .dataframe tbody tr th:only-of-type {\n",
       "        vertical-align: middle;\n",
       "    }\n",
       "\n",
       "    .dataframe tbody tr th {\n",
       "        vertical-align: top;\n",
       "    }\n",
       "\n",
       "    .dataframe thead th {\n",
       "        text-align: right;\n",
       "    }\n",
       "</style>\n",
       "<table border=\"1\" class=\"dataframe\">\n",
       "  <thead>\n",
       "    <tr style=\"text-align: right;\">\n",
       "      <th></th>\n",
       "      <th>ad_title</th>\n",
       "      <th>slug</th>\n",
       "      <th>title</th>\n",
       "      <th>type</th>\n",
       "      <th>price</th>\n",
       "      <th>timestamp</th>\n",
       "      <th>posted_date</th>\n",
       "      <th>deactivation_date</th>\n",
       "      <th>category</th>\n",
       "      <th>location</th>\n",
       "      <th>...</th>\n",
       "      <th>is_dsd_applicable</th>\n",
       "      <th>is_member</th>\n",
       "      <th>is_authorized_dealer</th>\n",
       "      <th>is_featured_member</th>\n",
       "      <th>is_verified</th>\n",
       "      <th>membership_level</th>\n",
       "      <th>member_since</th>\n",
       "      <th>properties</th>\n",
       "      <th>user</th>\n",
       "      <th>date_diff</th>\n",
       "    </tr>\n",
       "  </thead>\n",
       "  <tbody>\n",
       "    <tr>\n",
       "      <th>127208</th>\n",
       "      <td>Honda Civic FD1 2008  in Kandana | ikman</td>\n",
       "      <td>honda-civic-fd1-2008-for-sale-gampaha-10</td>\n",
       "      <td>Honda Civic FD1 2008</td>\n",
       "      <td>for_sale</td>\n",
       "      <td>5650000.0</td>\n",
       "      <td>06 Jan 3:34 am</td>\n",
       "      <td>2023-01-06 03:34:35+05:30</td>\n",
       "      <td>2023-03-06 12:31:40+00:00</td>\n",
       "      <td>Cars</td>\n",
       "      <td>Kandana</td>\n",
       "      <td>...</td>\n",
       "      <td>False</td>\n",
       "      <td>False</td>\n",
       "      <td>False</td>\n",
       "      <td>False</td>\n",
       "      <td>False</td>\n",
       "      <td>free</td>\n",
       "      <td>NaN</td>\n",
       "      <td>{'Brand': 'Honda', 'Model': 'Civic', 'Trim / E...</td>\n",
       "      <td>23ac6f6c0f8011cc8789724e6bf4a18a140193668016d9...</td>\n",
       "      <td>59</td>\n",
       "    </tr>\n",
       "    <tr>\n",
       "      <th>162601</th>\n",
       "      <td>Yamaha MT 15 Blue 2019  in Ratnapura City | ikman</td>\n",
       "      <td>yamaha-mt-15-blue-2019-for-sale-ratnapura</td>\n",
       "      <td>Yamaha MT 15 Blue 2019</td>\n",
       "      <td>for_sale</td>\n",
       "      <td>895000.0</td>\n",
       "      <td>24 Jan 6:24 am</td>\n",
       "      <td>2023-01-24 06:24:31+05:30</td>\n",
       "      <td>2023-03-25 00:52:29+00:00</td>\n",
       "      <td>Motorbikes</td>\n",
       "      <td>Ratnapura City</td>\n",
       "      <td>...</td>\n",
       "      <td>False</td>\n",
       "      <td>False</td>\n",
       "      <td>False</td>\n",
       "      <td>False</td>\n",
       "      <td>False</td>\n",
       "      <td>free</td>\n",
       "      <td>NaN</td>\n",
       "      <td>{'Bike Type': 'Motorbikes', 'Condition': 'Used...</td>\n",
       "      <td>92153edde2eda3852cd5d3f16758fc8ab024302337baf1...</td>\n",
       "      <td>59</td>\n",
       "    </tr>\n",
       "    <tr>\n",
       "      <th>162602</th>\n",
       "      <td>Bajaj Pulsar NS200 2020 2019  in Batticaloa Ci...</td>\n",
       "      <td>bajaj-pulsar-ns200-2020-2019-for-sale-battical...</td>\n",
       "      <td>Bajaj Pulsar NS200 2020 2019</td>\n",
       "      <td>for_sale</td>\n",
       "      <td>810000.0</td>\n",
       "      <td>24 Jan 6:24 am</td>\n",
       "      <td>2023-01-24 06:24:25+05:30</td>\n",
       "      <td>2023-03-25 00:52:22+00:00</td>\n",
       "      <td>Motorbikes</td>\n",
       "      <td>Batticaloa City</td>\n",
       "      <td>...</td>\n",
       "      <td>False</td>\n",
       "      <td>False</td>\n",
       "      <td>False</td>\n",
       "      <td>False</td>\n",
       "      <td>False</td>\n",
       "      <td>free</td>\n",
       "      <td>NaN</td>\n",
       "      <td>{'Bike Type': 'Motorbikes', 'Condition': 'Used...</td>\n",
       "      <td>d4dd83564fee32342d1dde58a5f6a47bd7a43408ea32f4...</td>\n",
       "      <td>59</td>\n",
       "    </tr>\n",
       "    <tr>\n",
       "      <th>162605</th>\n",
       "      <td>Mahindra Maxximo Lorry 2014 | Kaduruwela | ikman</td>\n",
       "      <td>mahindra-maxximo-49x20800-465000-2014-for-sale...</td>\n",
       "      <td>Mahindra Maxximo Lorry 2014</td>\n",
       "      <td>for_sale</td>\n",
       "      <td>1484200.0</td>\n",
       "      <td>24 Jan 6:18 am</td>\n",
       "      <td>2023-01-24 06:18:44+05:30</td>\n",
       "      <td>2023-03-25 00:43:50+00:00</td>\n",
       "      <td>Lorries &amp; Trucks</td>\n",
       "      <td>Kaduruwela</td>\n",
       "      <td>...</td>\n",
       "      <td>False</td>\n",
       "      <td>False</td>\n",
       "      <td>False</td>\n",
       "      <td>False</td>\n",
       "      <td>False</td>\n",
       "      <td>free</td>\n",
       "      <td>NaN</td>\n",
       "      <td>{'Brand': 'Mahindra', 'Model': 'Maxximo', 'Tri...</td>\n",
       "      <td>87591e4de7501594538745ef913471a4ad9c41584f4577...</td>\n",
       "      <td>59</td>\n",
       "    </tr>\n",
       "    <tr>\n",
       "      <th>162608</th>\n",
       "      <td>Coppi Italian Non Gender Bicycle  in Negombo |...</td>\n",
       "      <td>coppi-italian-non-gender-bicycle-for-sale-gampaha</td>\n",
       "      <td>Coppi Italian Non Gender Bicycle</td>\n",
       "      <td>for_sale</td>\n",
       "      <td>80000.0</td>\n",
       "      <td>24 Jan 6:17 am</td>\n",
       "      <td>2023-01-24 06:17:30+05:30</td>\n",
       "      <td>2023-03-25 00:42:40+00:00</td>\n",
       "      <td>Bicycles</td>\n",
       "      <td>Negombo</td>\n",
       "      <td>...</td>\n",
       "      <td>False</td>\n",
       "      <td>False</td>\n",
       "      <td>False</td>\n",
       "      <td>False</td>\n",
       "      <td>False</td>\n",
       "      <td>free</td>\n",
       "      <td>NaN</td>\n",
       "      <td>{'Brand': 'Other', 'Condition': 'Used'}</td>\n",
       "      <td>07305b774920951be724439ae54bb269557c08b32937ee...</td>\n",
       "      <td>59</td>\n",
       "    </tr>\n",
       "  </tbody>\n",
       "</table>\n",
       "<p>5 rows × 24 columns</p>\n",
       "</div>\n",
       "    <div class=\"colab-df-buttons\">\n",
       "\n",
       "  <div class=\"colab-df-container\">\n",
       "    <button class=\"colab-df-convert\" onclick=\"convertToInteractive('df-2e2d3256-4162-4517-b42e-fc8ce4554ac8')\"\n",
       "            title=\"Convert this dataframe to an interactive table.\"\n",
       "            style=\"display:none;\">\n",
       "\n",
       "  <svg xmlns=\"http://www.w3.org/2000/svg\" height=\"24px\" viewBox=\"0 -960 960 960\">\n",
       "    <path d=\"M120-120v-720h720v720H120Zm60-500h600v-160H180v160Zm220 220h160v-160H400v160Zm0 220h160v-160H400v160ZM180-400h160v-160H180v160Zm440 0h160v-160H620v160ZM180-180h160v-160H180v160Zm440 0h160v-160H620v160Z\"/>\n",
       "  </svg>\n",
       "    </button>\n",
       "\n",
       "  <style>\n",
       "    .colab-df-container {\n",
       "      display:flex;\n",
       "      gap: 12px;\n",
       "    }\n",
       "\n",
       "    .colab-df-convert {\n",
       "      background-color: #E8F0FE;\n",
       "      border: none;\n",
       "      border-radius: 50%;\n",
       "      cursor: pointer;\n",
       "      display: none;\n",
       "      fill: #1967D2;\n",
       "      height: 32px;\n",
       "      padding: 0 0 0 0;\n",
       "      width: 32px;\n",
       "    }\n",
       "\n",
       "    .colab-df-convert:hover {\n",
       "      background-color: #E2EBFA;\n",
       "      box-shadow: 0px 1px 2px rgba(60, 64, 67, 0.3), 0px 1px 3px 1px rgba(60, 64, 67, 0.15);\n",
       "      fill: #174EA6;\n",
       "    }\n",
       "\n",
       "    .colab-df-buttons div {\n",
       "      margin-bottom: 4px;\n",
       "    }\n",
       "\n",
       "    [theme=dark] .colab-df-convert {\n",
       "      background-color: #3B4455;\n",
       "      fill: #D2E3FC;\n",
       "    }\n",
       "\n",
       "    [theme=dark] .colab-df-convert:hover {\n",
       "      background-color: #434B5C;\n",
       "      box-shadow: 0px 1px 3px 1px rgba(0, 0, 0, 0.15);\n",
       "      filter: drop-shadow(0px 1px 2px rgba(0, 0, 0, 0.3));\n",
       "      fill: #FFFFFF;\n",
       "    }\n",
       "  </style>\n",
       "\n",
       "    <script>\n",
       "      const buttonEl =\n",
       "        document.querySelector('#df-2e2d3256-4162-4517-b42e-fc8ce4554ac8 button.colab-df-convert');\n",
       "      buttonEl.style.display =\n",
       "        google.colab.kernel.accessAllowed ? 'block' : 'none';\n",
       "\n",
       "      async function convertToInteractive(key) {\n",
       "        const element = document.querySelector('#df-2e2d3256-4162-4517-b42e-fc8ce4554ac8');\n",
       "        const dataTable =\n",
       "          await google.colab.kernel.invokeFunction('convertToInteractive',\n",
       "                                                    [key], {});\n",
       "        if (!dataTable) return;\n",
       "\n",
       "        const docLinkHtml = 'Like what you see? Visit the ' +\n",
       "          '<a target=\"_blank\" href=https://colab.research.google.com/notebooks/data_table.ipynb>data table notebook</a>'\n",
       "          + ' to learn more about interactive tables.';\n",
       "        element.innerHTML = '';\n",
       "        dataTable['output_type'] = 'display_data';\n",
       "        await google.colab.output.renderOutput(dataTable, element);\n",
       "        const docLink = document.createElement('div');\n",
       "        docLink.innerHTML = docLinkHtml;\n",
       "        element.appendChild(docLink);\n",
       "      }\n",
       "    </script>\n",
       "  </div>\n",
       "\n",
       "\n",
       "<div id=\"df-a5960790-c690-43f2-bb74-b5fb5c2c1c86\">\n",
       "  <button class=\"colab-df-quickchart\" onclick=\"quickchart('df-a5960790-c690-43f2-bb74-b5fb5c2c1c86')\"\n",
       "            title=\"Suggest charts\"\n",
       "            style=\"display:none;\">\n",
       "\n",
       "<svg xmlns=\"http://www.w3.org/2000/svg\" height=\"24px\"viewBox=\"0 0 24 24\"\n",
       "     width=\"24px\">\n",
       "    <g>\n",
       "        <path d=\"M19 3H5c-1.1 0-2 .9-2 2v14c0 1.1.9 2 2 2h14c1.1 0 2-.9 2-2V5c0-1.1-.9-2-2-2zM9 17H7v-7h2v7zm4 0h-2V7h2v10zm4 0h-2v-4h2v4z\"/>\n",
       "    </g>\n",
       "</svg>\n",
       "  </button>\n",
       "\n",
       "<style>\n",
       "  .colab-df-quickchart {\n",
       "      --bg-color: #E8F0FE;\n",
       "      --fill-color: #1967D2;\n",
       "      --hover-bg-color: #E2EBFA;\n",
       "      --hover-fill-color: #174EA6;\n",
       "      --disabled-fill-color: #AAA;\n",
       "      --disabled-bg-color: #DDD;\n",
       "  }\n",
       "\n",
       "  [theme=dark] .colab-df-quickchart {\n",
       "      --bg-color: #3B4455;\n",
       "      --fill-color: #D2E3FC;\n",
       "      --hover-bg-color: #434B5C;\n",
       "      --hover-fill-color: #FFFFFF;\n",
       "      --disabled-bg-color: #3B4455;\n",
       "      --disabled-fill-color: #666;\n",
       "  }\n",
       "\n",
       "  .colab-df-quickchart {\n",
       "    background-color: var(--bg-color);\n",
       "    border: none;\n",
       "    border-radius: 50%;\n",
       "    cursor: pointer;\n",
       "    display: none;\n",
       "    fill: var(--fill-color);\n",
       "    height: 32px;\n",
       "    padding: 0;\n",
       "    width: 32px;\n",
       "  }\n",
       "\n",
       "  .colab-df-quickchart:hover {\n",
       "    background-color: var(--hover-bg-color);\n",
       "    box-shadow: 0 1px 2px rgba(60, 64, 67, 0.3), 0 1px 3px 1px rgba(60, 64, 67, 0.15);\n",
       "    fill: var(--button-hover-fill-color);\n",
       "  }\n",
       "\n",
       "  .colab-df-quickchart-complete:disabled,\n",
       "  .colab-df-quickchart-complete:disabled:hover {\n",
       "    background-color: var(--disabled-bg-color);\n",
       "    fill: var(--disabled-fill-color);\n",
       "    box-shadow: none;\n",
       "  }\n",
       "\n",
       "  .colab-df-spinner {\n",
       "    border: 2px solid var(--fill-color);\n",
       "    border-color: transparent;\n",
       "    border-bottom-color: var(--fill-color);\n",
       "    animation:\n",
       "      spin 1s steps(1) infinite;\n",
       "  }\n",
       "\n",
       "  @keyframes spin {\n",
       "    0% {\n",
       "      border-color: transparent;\n",
       "      border-bottom-color: var(--fill-color);\n",
       "      border-left-color: var(--fill-color);\n",
       "    }\n",
       "    20% {\n",
       "      border-color: transparent;\n",
       "      border-left-color: var(--fill-color);\n",
       "      border-top-color: var(--fill-color);\n",
       "    }\n",
       "    30% {\n",
       "      border-color: transparent;\n",
       "      border-left-color: var(--fill-color);\n",
       "      border-top-color: var(--fill-color);\n",
       "      border-right-color: var(--fill-color);\n",
       "    }\n",
       "    40% {\n",
       "      border-color: transparent;\n",
       "      border-right-color: var(--fill-color);\n",
       "      border-top-color: var(--fill-color);\n",
       "    }\n",
       "    60% {\n",
       "      border-color: transparent;\n",
       "      border-right-color: var(--fill-color);\n",
       "    }\n",
       "    80% {\n",
       "      border-color: transparent;\n",
       "      border-right-color: var(--fill-color);\n",
       "      border-bottom-color: var(--fill-color);\n",
       "    }\n",
       "    90% {\n",
       "      border-color: transparent;\n",
       "      border-bottom-color: var(--fill-color);\n",
       "    }\n",
       "  }\n",
       "</style>\n",
       "\n",
       "  <script>\n",
       "    async function quickchart(key) {\n",
       "      const quickchartButtonEl =\n",
       "        document.querySelector('#' + key + ' button');\n",
       "      quickchartButtonEl.disabled = true;  // To prevent multiple clicks.\n",
       "      quickchartButtonEl.classList.add('colab-df-spinner');\n",
       "      try {\n",
       "        const charts = await google.colab.kernel.invokeFunction(\n",
       "            'suggestCharts', [key], {});\n",
       "      } catch (error) {\n",
       "        console.error('Error during call to suggestCharts:', error);\n",
       "      }\n",
       "      quickchartButtonEl.classList.remove('colab-df-spinner');\n",
       "      quickchartButtonEl.classList.add('colab-df-quickchart-complete');\n",
       "    }\n",
       "    (() => {\n",
       "      let quickchartButtonEl =\n",
       "        document.querySelector('#df-a5960790-c690-43f2-bb74-b5fb5c2c1c86 button');\n",
       "      quickchartButtonEl.style.display =\n",
       "        google.colab.kernel.accessAllowed ? 'block' : 'none';\n",
       "    })();\n",
       "  </script>\n",
       "</div>\n",
       "\n",
       "    </div>\n",
       "  </div>\n"
      ],
      "text/plain": [
       "                                                 ad_title  \\\n",
       "127208           Honda Civic FD1 2008  in Kandana | ikman   \n",
       "162601  Yamaha MT 15 Blue 2019  in Ratnapura City | ikman   \n",
       "162602  Bajaj Pulsar NS200 2020 2019  in Batticaloa Ci...   \n",
       "162605   Mahindra Maxximo Lorry 2014 | Kaduruwela | ikman   \n",
       "162608  Coppi Italian Non Gender Bicycle  in Negombo |...   \n",
       "\n",
       "                                                     slug  \\\n",
       "127208           honda-civic-fd1-2008-for-sale-gampaha-10   \n",
       "162601          yamaha-mt-15-blue-2019-for-sale-ratnapura   \n",
       "162602  bajaj-pulsar-ns200-2020-2019-for-sale-battical...   \n",
       "162605  mahindra-maxximo-49x20800-465000-2014-for-sale...   \n",
       "162608  coppi-italian-non-gender-bicycle-for-sale-gampaha   \n",
       "\n",
       "                                   title      type      price       timestamp  \\\n",
       "127208              Honda Civic FD1 2008  for_sale  5650000.0  06 Jan 3:34 am   \n",
       "162601            Yamaha MT 15 Blue 2019  for_sale   895000.0  24 Jan 6:24 am   \n",
       "162602      Bajaj Pulsar NS200 2020 2019  for_sale   810000.0  24 Jan 6:24 am   \n",
       "162605       Mahindra Maxximo Lorry 2014  for_sale  1484200.0  24 Jan 6:18 am   \n",
       "162608  Coppi Italian Non Gender Bicycle  for_sale    80000.0  24 Jan 6:17 am   \n",
       "\n",
       "                     posted_date         deactivation_date          category  \\\n",
       "127208 2023-01-06 03:34:35+05:30 2023-03-06 12:31:40+00:00              Cars   \n",
       "162601 2023-01-24 06:24:31+05:30 2023-03-25 00:52:29+00:00        Motorbikes   \n",
       "162602 2023-01-24 06:24:25+05:30 2023-03-25 00:52:22+00:00        Motorbikes   \n",
       "162605 2023-01-24 06:18:44+05:30 2023-03-25 00:43:50+00:00  Lorries & Trucks   \n",
       "162608 2023-01-24 06:17:30+05:30 2023-03-25 00:42:40+00:00          Bicycles   \n",
       "\n",
       "               location  ... is_dsd_applicable is_member  \\\n",
       "127208          Kandana  ...             False     False   \n",
       "162601   Ratnapura City  ...             False     False   \n",
       "162602  Batticaloa City  ...             False     False   \n",
       "162605       Kaduruwela  ...             False     False   \n",
       "162608          Negombo  ...             False     False   \n",
       "\n",
       "        is_authorized_dealer  is_featured_member  is_verified  \\\n",
       "127208                 False               False        False   \n",
       "162601                 False               False        False   \n",
       "162602                 False               False        False   \n",
       "162605                 False               False        False   \n",
       "162608                 False               False        False   \n",
       "\n",
       "        membership_level  member_since  \\\n",
       "127208              free           NaN   \n",
       "162601              free           NaN   \n",
       "162602              free           NaN   \n",
       "162605              free           NaN   \n",
       "162608              free           NaN   \n",
       "\n",
       "                                               properties  \\\n",
       "127208  {'Brand': 'Honda', 'Model': 'Civic', 'Trim / E...   \n",
       "162601  {'Bike Type': 'Motorbikes', 'Condition': 'Used...   \n",
       "162602  {'Bike Type': 'Motorbikes', 'Condition': 'Used...   \n",
       "162605  {'Brand': 'Mahindra', 'Model': 'Maxximo', 'Tri...   \n",
       "162608            {'Brand': 'Other', 'Condition': 'Used'}   \n",
       "\n",
       "                                                     user date_diff  \n",
       "127208  23ac6f6c0f8011cc8789724e6bf4a18a140193668016d9...        59  \n",
       "162601  92153edde2eda3852cd5d3f16758fc8ab024302337baf1...        59  \n",
       "162602  d4dd83564fee32342d1dde58a5f6a47bd7a43408ea32f4...        59  \n",
       "162605  87591e4de7501594538745ef913471a4ad9c41584f4577...        59  \n",
       "162608  07305b774920951be724439ae54bb269557c08b32937ee...        59  \n",
       "\n",
       "[5 rows x 24 columns]"
      ]
     },
     "execution_count": 37,
     "metadata": {},
     "output_type": "execute_result"
    }
   ],
   "source": [
    "import pandas as pd\n",
    "\n",
    "# Convert columns to datetime format\n",
    "df1['posted_date'] = pd.to_datetime(df1['posted_date'])\n",
    "df1['deactivation_date'] = pd.to_datetime(df1['deactivation_date'])\n",
    "\n",
    "# Calculate date difference -- ignore time\n",
    "df1['date_diff'] = (df1['deactivation_date'] - df1['posted_date']).dt.days\n",
    "df1.head()"
   ]
  },
  {
   "cell_type": "code",
   "execution_count": null,
   "metadata": {
    "id": "GcjrytbHsk-b"
   },
   "outputs": [],
   "source": [
    "list = [i for i in df1['date_diff'] if i < 0]"
   ]
  },
  {
   "cell_type": "code",
   "execution_count": null,
   "metadata": {
    "colab": {
     "base_uri": "https://localhost:8080/"
    },
    "id": "6ZJVKyWNso-w",
    "outputId": "d72aecf7-eb43-4bd2-b35a-f0e7d53a1933"
   },
   "outputs": [
    {
     "name": "stdout",
     "output_type": "stream",
     "text": [
      "1227\n"
     ]
    }
   ],
   "source": [
    "list_length = len(list)\n",
    "print(list_length)"
   ]
  },
  {
   "cell_type": "code",
   "execution_count": null,
   "metadata": {
    "id": "61O0laPtsr9f"
   },
   "outputs": [],
   "source": [
    "index_names = df1[df1['date_diff'] < 0].index\n",
    "df1.drop(index_names, inplace=True)"
   ]
  },
  {
   "cell_type": "code",
   "execution_count": null,
   "metadata": {
    "colab": {
     "base_uri": "https://localhost:8080/"
    },
    "id": "EJNTYzMwsvlW",
    "outputId": "49833423-7496-41d3-cc85-f5e84be6bcdf"
   },
   "outputs": [
    {
     "data": {
      "text/plain": [
       "(164838, 24)"
      ]
     },
     "execution_count": 41,
     "metadata": {},
     "output_type": "execute_result"
    }
   ],
   "source": [
    "df1.shape"
   ]
  },
  {
   "cell_type": "code",
   "execution_count": null,
   "metadata": {
    "colab": {
     "base_uri": "https://localhost:8080/"
    },
    "id": "JtfM2bHHq1bG",
    "outputId": "206f4c71-bf53-4c53-9d1b-d04bf67dd166"
   },
   "outputs": [
    {
     "data": {
      "text/plain": [
       "ad_title                     0\n",
       "slug                         0\n",
       "title                        0\n",
       "type                         0\n",
       "price                        0\n",
       "timestamp                    0\n",
       "posted_date                  0\n",
       "deactivation_date            0\n",
       "category                     0\n",
       "location                     0\n",
       "geo_region                   0\n",
       "area                         0\n",
       "is_delivery_free             0\n",
       "is_doorstep_delivery         0\n",
       "is_dsd_applicable            0\n",
       "is_member                    0\n",
       "is_authorized_dealer         0\n",
       "is_featured_member           0\n",
       "is_verified                  0\n",
       "membership_level             0\n",
       "member_since            119808\n",
       "properties                   0\n",
       "user                         0\n",
       "date_diff                    0\n",
       "dtype: int64"
      ]
     },
     "execution_count": 42,
     "metadata": {},
     "output_type": "execute_result"
    }
   ],
   "source": [
    "df1.isnull().sum()"
   ]
  },
  {
   "cell_type": "markdown",
   "metadata": {
    "id": "KejG1qt9q-KH"
   },
   "source": [
    "for member_since column"
   ]
  },
  {
   "cell_type": "code",
   "execution_count": null,
   "metadata": {
    "id": "BXJuvDmaq501"
   },
   "outputs": [],
   "source": [
    "# drop this column\n",
    "# because it contains almost 70% to 80 % null values and if this null values handleed by any method, then the impurity of this column will increase\n",
    "df1=df1.drop(df1[['member_since']] ,axis=1)"
   ]
  },
  {
   "cell_type": "code",
   "execution_count": null,
   "metadata": {
    "colab": {
     "base_uri": "https://localhost:8080/"
    },
    "id": "K0fhPuyArcJc",
    "outputId": "6622d1fe-ef55-4101-c707-108541c106da"
   },
   "outputs": [
    {
     "data": {
      "text/plain": [
       "(164838, 23)"
      ]
     },
     "execution_count": 44,
     "metadata": {},
     "output_type": "execute_result"
    }
   ],
   "source": [
    "df1.shape"
   ]
  },
  {
   "cell_type": "code",
   "execution_count": null,
   "metadata": {
    "colab": {
     "base_uri": "https://localhost:8080/"
    },
    "id": "pibnizmNreAs",
    "outputId": "79653fea-d472-4615-b6ce-72e021420f39"
   },
   "outputs": [
    {
     "data": {
      "text/plain": [
       "ad_title                0\n",
       "slug                    0\n",
       "title                   0\n",
       "type                    0\n",
       "price                   0\n",
       "timestamp               0\n",
       "posted_date             0\n",
       "deactivation_date       0\n",
       "category                0\n",
       "location                0\n",
       "geo_region              0\n",
       "area                    0\n",
       "is_delivery_free        0\n",
       "is_doorstep_delivery    0\n",
       "is_dsd_applicable       0\n",
       "is_member               0\n",
       "is_authorized_dealer    0\n",
       "is_featured_member      0\n",
       "is_verified             0\n",
       "membership_level        0\n",
       "properties              0\n",
       "user                    0\n",
       "date_diff               0\n",
       "dtype: int64"
      ]
     },
     "execution_count": 45,
     "metadata": {},
     "output_type": "execute_result"
    }
   ],
   "source": [
    "df1.isnull().sum()"
   ]
  },
  {
   "cell_type": "code",
   "execution_count": null,
   "metadata": {
    "colab": {
     "base_uri": "https://localhost:8080/"
    },
    "id": "nDwgpGpWtNUL",
    "outputId": "77f8cd03-1c08-48d7-8749-84119ae32078"
   },
   "outputs": [
    {
     "name": "stdout",
     "output_type": "stream",
     "text": [
      "<class 'pandas.core.frame.DataFrame'>\n",
      "Index: 164838 entries, 127208 to 227557\n",
      "Data columns (total 23 columns):\n",
      " #   Column                Non-Null Count   Dtype                    \n",
      "---  ------                --------------   -----                    \n",
      " 0   ad_title              164838 non-null  object                   \n",
      " 1   slug                  164838 non-null  object                   \n",
      " 2   title                 164838 non-null  object                   \n",
      " 3   type                  164838 non-null  object                   \n",
      " 4   price                 164838 non-null  float64                  \n",
      " 5   timestamp             164838 non-null  object                   \n",
      " 6   posted_date           164838 non-null  datetime64[ns, UTC+05:30]\n",
      " 7   deactivation_date     164838 non-null  datetime64[ns, UTC]      \n",
      " 8   category              164838 non-null  object                   \n",
      " 9   location              164838 non-null  object                   \n",
      " 10  geo_region            164838 non-null  object                   \n",
      " 11  area                  164838 non-null  object                   \n",
      " 12  is_delivery_free      164838 non-null  bool                     \n",
      " 13  is_doorstep_delivery  164838 non-null  bool                     \n",
      " 14  is_dsd_applicable     164838 non-null  bool                     \n",
      " 15  is_member             164838 non-null  bool                     \n",
      " 16  is_authorized_dealer  164838 non-null  bool                     \n",
      " 17  is_featured_member    164838 non-null  bool                     \n",
      " 18  is_verified           164838 non-null  bool                     \n",
      " 19  membership_level      164838 non-null  object                   \n",
      " 20  properties            164838 non-null  object                   \n",
      " 21  user                  164838 non-null  object                   \n",
      " 22  date_diff             164838 non-null  int64                    \n",
      "dtypes: bool(7), datetime64[ns, UTC+05:30](1), datetime64[ns, UTC](1), float64(1), int64(1), object(12)\n",
      "memory usage: 22.5+ MB\n"
     ]
    }
   ],
   "source": [
    "df1.info()"
   ]
  },
  {
   "cell_type": "markdown",
   "metadata": {
    "id": "E_Dic7wrstb8"
   },
   "source": [
    "# Encode categorical variables"
   ]
  },
  {
   "cell_type": "code",
   "execution_count": null,
   "metadata": {
    "id": "AVNCDEfDtg3R"
   },
   "outputs": [],
   "source": [
    "# this columns datatype is boolean type into int type\n"
   ]
  },
  {
   "cell_type": "code",
   "execution_count": null,
   "metadata": {
    "id": "AZh0M374rgKb"
   },
   "outputs": [],
   "source": [
    "from sklearn.preprocessing import LabelEncoder\n",
    "\n",
    "le = LabelEncoder()\n",
    "\n",
    "df1['is_delivery_free'] = le.fit_transform(df1['is_delivery_free'])\n",
    "df1['is_doorstep_delivery'] = le.fit_transform(df1['is_doorstep_delivery'])\n",
    "df1['is_dsd_applicable'] = le.fit_transform(df1['is_dsd_applicable'])\n",
    "df1['is_member'] = le.fit_transform(df1['is_member'])\n",
    "df1['is_authorized_dealer'] = le.fit_transform(df1['is_authorized_dealer'])\n",
    "df1['is_featured_member'] = le.fit_transform(df1['is_featured_member'])\n",
    "df1['is_verified'] = le.fit_transform(df1['is_verified'])"
   ]
  },
  {
   "cell_type": "code",
   "execution_count": null,
   "metadata": {
    "colab": {
     "base_uri": "https://localhost:8080/"
    },
    "id": "r7pwMREwtFfF",
    "outputId": "74acd66b-8258-4e17-8046-27cbbbe76a78"
   },
   "outputs": [
    {
     "name": "stdout",
     "output_type": "stream",
     "text": [
      "<class 'pandas.core.frame.DataFrame'>\n",
      "Index: 164838 entries, 127208 to 227557\n",
      "Data columns (total 23 columns):\n",
      " #   Column                Non-Null Count   Dtype                    \n",
      "---  ------                --------------   -----                    \n",
      " 0   ad_title              164838 non-null  object                   \n",
      " 1   slug                  164838 non-null  object                   \n",
      " 2   title                 164838 non-null  object                   \n",
      " 3   type                  164838 non-null  object                   \n",
      " 4   price                 164838 non-null  float64                  \n",
      " 5   timestamp             164838 non-null  object                   \n",
      " 6   posted_date           164838 non-null  datetime64[ns, UTC+05:30]\n",
      " 7   deactivation_date     164838 non-null  datetime64[ns, UTC]      \n",
      " 8   category              164838 non-null  object                   \n",
      " 9   location              164838 non-null  object                   \n",
      " 10  geo_region            164838 non-null  object                   \n",
      " 11  area                  164838 non-null  object                   \n",
      " 12  is_delivery_free      164838 non-null  int64                    \n",
      " 13  is_doorstep_delivery  164838 non-null  int64                    \n",
      " 14  is_dsd_applicable     164838 non-null  int64                    \n",
      " 15  is_member             164838 non-null  int64                    \n",
      " 16  is_authorized_dealer  164838 non-null  int64                    \n",
      " 17  is_featured_member    164838 non-null  int64                    \n",
      " 18  is_verified           164838 non-null  int64                    \n",
      " 19  membership_level      164838 non-null  object                   \n",
      " 20  properties            164838 non-null  object                   \n",
      " 21  user                  164838 non-null  object                   \n",
      " 22  date_diff             164838 non-null  int64                    \n",
      "dtypes: datetime64[ns, UTC+05:30](1), datetime64[ns, UTC](1), float64(1), int64(8), object(12)\n",
      "memory usage: 30.2+ MB\n"
     ]
    }
   ],
   "source": [
    "df1.info()"
   ]
  },
  {
   "cell_type": "code",
   "execution_count": null,
   "metadata": {
    "colab": {
     "base_uri": "https://localhost:8080/",
     "height": 839
    },
    "id": "S_jfAHtstmgn",
    "outputId": "60cda909-01fc-4e7d-adc1-6bf429171964"
   },
   "outputs": [
    {
     "data": {
      "image/png": "[encoded data removed]",
      "text/plain": [
       "<Figure size 1500x1000 with 7 Axes>"
      ]
     },
     "metadata": {},
     "output_type": "display_data"
    }
   ],
   "source": [
    "import matplotlib.pyplot as plt\n",
    "\n",
    "# Create a figure with 2 rows and 4 columns (we'll use 7 subplots)\n",
    "fig, axs = plt.subplots(2, 4, figsize=(15, 10))\n",
    "\n",
    "# Plot pie charts for each column\n",
    "axs[0, 0].pie(df1['is_delivery_free'].value_counts(), labels=df1['is_delivery_free'].unique(), autopct='%1.1f%%')\n",
    "axs[0, 0].set_title('is_delivery_free')\n",
    "\n",
    "axs[0, 1].pie(df1['is_doorstep_delivery'].value_counts(), labels=df1['is_doorstep_delivery'].unique(), autopct='%1.1f%%')\n",
    "axs[0, 1].set_title('is_doorstep_delivery')\n",
    "\n",
    "axs[0, 2].pie(df1['is_dsd_applicable'].value_counts(), labels=df1['is_dsd_applicable'].unique(), autopct='%1.1f%%')\n",
    "axs[0, 2].set_title('is_dsd_applicable')\n",
    "\n",
    "axs[0, 3].pie(df1['is_member'].value_counts(), labels=df1['is_member'].unique(), autopct='%1.1f%%')\n",
    "axs[0, 3].set_title('is_member')\n",
    "\n",
    "axs[1, 0].pie(df1['is_authorized_dealer'].value_counts(), labels=df1['is_authorized_dealer'].unique(), autopct='%1.1f%%')\n",
    "axs[1, 0].set_title('is_authorized_dealer')\n",
    "\n",
    "axs[1, 1].pie(df1['is_featured_member'].value_counts(), labels=df1['is_featured_member'].unique(), autopct='%1.1f%%')\n",
    "axs[1, 1].set_title('is_featured_member')\n",
    "\n",
    "axs[1, 2].pie(df1['is_verified'].value_counts(), labels=df1['is_verified'].unique(), autopct='%1.1f%%')\n",
    "axs[1, 2].set_title('is_verified')\n",
    "\n",
    "# Remove the empty subplot\n",
    "fig.delaxes(axs[1, 3])\n",
    "\n",
    "# Show the plot\n",
    "plt.tight_layout()\n",
    "plt.show()"
   ]
  },
  {
   "cell_type": "code",
   "execution_count": null,
   "metadata": {
    "id": "wTdHv_6W5bNc"
   },
   "outputs": [],
   "source": [
    "# For the piechart of these columns is_delivery_free,is_doorstep_delivery,is_dsd_applicable contains all False values which are representes on pie chart in 0\n",
    "# for these columns most number of the values are false and some values are true . These columns are is_member,is_authorized_dealer,is_featured_member,is_verified\n"
   ]
  },
  {
   "cell_type": "code",
   "execution_count": null,
   "metadata": {
    "id": "Sxhz-aEe7fYm"
   },
   "outputs": [],
   "source": [
    "#  Delete these columns as they do not contribute significantly in the model because they have larger null values\n",
    "df1=df1.drop(columns=[\"is_delivery_free\", \"is_doorstep_delivery\", \"is_dsd_applicable\",\"is_authorized_dealer\",\"is_featured_member\"])"
   ]
  },
  {
   "cell_type": "code",
   "execution_count": null,
   "metadata": {
    "colab": {
     "base_uri": "https://localhost:8080/"
    },
    "id": "MEX1LFkP8-IK",
    "outputId": "0173accb-630d-4307-e7cf-fed5b9722f57"
   },
   "outputs": [
    {
     "data": {
      "text/plain": [
       "(164838, 18)"
      ]
     },
     "execution_count": 53,
     "metadata": {},
     "output_type": "execute_result"
    }
   ],
   "source": [
    "df1.shape"
   ]
  },
  {
   "cell_type": "code",
   "execution_count": null,
   "metadata": {
    "colab": {
     "base_uri": "https://localhost:8080/"
    },
    "id": "9Xj-xVCw9Gu8",
    "outputId": "fdf8a06b-5b3b-43c9-fb59-a55d184c2b8e"
   },
   "outputs": [
    {
     "data": {
      "text/plain": [
       "ad_title             0\n",
       "slug                 0\n",
       "title                0\n",
       "type                 0\n",
       "price                0\n",
       "timestamp            0\n",
       "posted_date          0\n",
       "deactivation_date    0\n",
       "category             0\n",
       "location             0\n",
       "geo_region           0\n",
       "area                 0\n",
       "is_member            0\n",
       "is_verified          0\n",
       "membership_level     0\n",
       "properties           0\n",
       "user                 0\n",
       "date_diff            0\n",
       "dtype: int64"
      ]
     },
     "execution_count": 54,
     "metadata": {},
     "output_type": "execute_result"
    }
   ],
   "source": [
    "df1.isnull().sum()"
   ]
  },
  {
   "cell_type": "markdown",
   "metadata": {
    "id": "lFy_qhhuNXoD"
   },
   "source": [
    "for properties column"
   ]
  },
  {
   "cell_type": "code",
   "execution_count": null,
   "metadata": {
    "colab": {
     "base_uri": "https://localhost:8080/",
     "height": 363
    },
    "id": "dk4j4R0E9Shx",
    "outputId": "c597c55f-3571-4b71-f4a3-80c1184074a2"
   },
   "outputs": [
    {
     "data": {
      "application/vnd.google.colaboratory.intrinsic+json": {
       "summary": "{\n  \"name\": \"# parse the data using ast library\",\n  \"rows\": 10,\n  \"fields\": [\n    {\n      \"column\": \"properties\",\n      \"properties\": {\n        \"dtype\": \"string\",\n        \"num_unique_values\": 10,\n        \"samples\": [\n          \"{'Bike Type': 'Motorbikes', 'Condition': 'Used', 'Brand': 'Yamaha', 'Model': 'FZ', 'Trim / Edition': 'Yamaha', 'Year of Manufacture': '2017', 'Engine capacity': '150 cc', 'Mileage': '42,600 km'}\",\n          \"{'Bike Type': 'Motorbikes', 'Condition': 'Used', 'Brand': 'Yamaha', 'Model': 'MT 15', 'Trim / Edition': 'Blue', 'Year of Manufacture': '2019', 'Engine capacity': '155 cc', 'Mileage': '21,000 km'}\",\n          \"{'Bike Type': 'Motorbikes', 'Condition': 'Used', 'Brand': 'TVS', 'Model': 'Metro', 'Trim / Edition': 'TVS Metro', 'Year of Manufacture': '2009', 'Engine capacity': '100 cc', 'Mileage': '74,120 km'}\"\n        ],\n        \"semantic_type\": \"\",\n        \"description\": \"\"\n      }\n    }\n  ]\n}",
       "type": "dataframe"
      },
      "text/html": [
       "\n",
       "  <div id=\"df-724c1f22-4cd7-4cf6-b7e2-c5e78cf32e2e\" class=\"colab-df-container\">\n",
       "    <div>\n",
       "<style scoped>\n",
       "    .dataframe tbody tr th:only-of-type {\n",
       "        vertical-align: middle;\n",
       "    }\n",
       "\n",
       "    .dataframe tbody tr th {\n",
       "        vertical-align: top;\n",
       "    }\n",
       "\n",
       "    .dataframe thead th {\n",
       "        text-align: right;\n",
       "    }\n",
       "</style>\n",
       "<table border=\"1\" class=\"dataframe\">\n",
       "  <thead>\n",
       "    <tr style=\"text-align: right;\">\n",
       "      <th></th>\n",
       "      <th>properties</th>\n",
       "    </tr>\n",
       "  </thead>\n",
       "  <tbody>\n",
       "    <tr>\n",
       "      <th>127208</th>\n",
       "      <td>{'Brand': 'Honda', 'Model': 'Civic', 'Trim / E...</td>\n",
       "    </tr>\n",
       "    <tr>\n",
       "      <th>162601</th>\n",
       "      <td>{'Bike Type': 'Motorbikes', 'Condition': 'Used...</td>\n",
       "    </tr>\n",
       "    <tr>\n",
       "      <th>162602</th>\n",
       "      <td>{'Bike Type': 'Motorbikes', 'Condition': 'Used...</td>\n",
       "    </tr>\n",
       "    <tr>\n",
       "      <th>162605</th>\n",
       "      <td>{'Brand': 'Mahindra', 'Model': 'Maxximo', 'Tri...</td>\n",
       "    </tr>\n",
       "    <tr>\n",
       "      <th>162608</th>\n",
       "      <td>{'Brand': 'Other', 'Condition': 'Used'}</td>\n",
       "    </tr>\n",
       "    <tr>\n",
       "      <th>162420</th>\n",
       "      <td>{'Bike Type': 'Motorbikes', 'Condition': 'Used...</td>\n",
       "    </tr>\n",
       "    <tr>\n",
       "      <th>162419</th>\n",
       "      <td>{'Bike Type': 'Motorbikes', 'Condition': 'Used...</td>\n",
       "    </tr>\n",
       "    <tr>\n",
       "      <th>162418</th>\n",
       "      <td>{'Brand': 'Bajaj', 'Model': 'RE', 'Trim / Edit...</td>\n",
       "    </tr>\n",
       "    <tr>\n",
       "      <th>162416</th>\n",
       "      <td>{'Bike Type': 'Motorbikes', 'Condition': 'Used...</td>\n",
       "    </tr>\n",
       "    <tr>\n",
       "      <th>162389</th>\n",
       "      <td>{'Bike Type': 'Motorbikes', 'Condition': 'Used...</td>\n",
       "    </tr>\n",
       "  </tbody>\n",
       "</table>\n",
       "</div>\n",
       "    <div class=\"colab-df-buttons\">\n",
       "\n",
       "  <div class=\"colab-df-container\">\n",
       "    <button class=\"colab-df-convert\" onclick=\"convertToInteractive('df-724c1f22-4cd7-4cf6-b7e2-c5e78cf32e2e')\"\n",
       "            title=\"Convert this dataframe to an interactive table.\"\n",
       "            style=\"display:none;\">\n",
       "\n",
       "  <svg xmlns=\"http://www.w3.org/2000/svg\" height=\"24px\" viewBox=\"0 -960 960 960\">\n",
       "    <path d=\"M120-120v-720h720v720H120Zm60-500h600v-160H180v160Zm220 220h160v-160H400v160Zm0 220h160v-160H400v160ZM180-400h160v-160H180v160Zm440 0h160v-160H620v160ZM180-180h160v-160H180v160Zm440 0h160v-160H620v160Z\"/>\n",
       "  </svg>\n",
       "    </button>\n",
       "\n",
       "  <style>\n",
       "    .colab-df-container {\n",
       "      display:flex;\n",
       "      gap: 12px;\n",
       "    }\n",
       "\n",
       "    .colab-df-convert {\n",
       "      background-color: #E8F0FE;\n",
       "      border: none;\n",
       "      border-radius: 50%;\n",
       "      cursor: pointer;\n",
       "      display: none;\n",
       "      fill: #1967D2;\n",
       "      height: 32px;\n",
       "      padding: 0 0 0 0;\n",
       "      width: 32px;\n",
       "    }\n",
       "\n",
       "    .colab-df-convert:hover {\n",
       "      background-color: #E2EBFA;\n",
       "      box-shadow: 0px 1px 2px rgba(60, 64, 67, 0.3), 0px 1px 3px 1px rgba(60, 64, 67, 0.15);\n",
       "      fill: #174EA6;\n",
       "    }\n",
       "\n",
       "    .colab-df-buttons div {\n",
       "      margin-bottom: 4px;\n",
       "    }\n",
       "\n",
       "    [theme=dark] .colab-df-convert {\n",
       "      background-color: #3B4455;\n",
       "      fill: #D2E3FC;\n",
       "    }\n",
       "\n",
       "    [theme=dark] .colab-df-convert:hover {\n",
       "      background-color: #434B5C;\n",
       "      box-shadow: 0px 1px 3px 1px rgba(0, 0, 0, 0.15);\n",
       "      filter: drop-shadow(0px 1px 2px rgba(0, 0, 0, 0.3));\n",
       "      fill: #FFFFFF;\n",
       "    }\n",
       "  </style>\n",
       "\n",
       "    <script>\n",
       "      const buttonEl =\n",
       "        document.querySelector('#df-724c1f22-4cd7-4cf6-b7e2-c5e78cf32e2e button.colab-df-convert');\n",
       "      buttonEl.style.display =\n",
       "        google.colab.kernel.accessAllowed ? 'block' : 'none';\n",
       "\n",
       "      async function convertToInteractive(key) {\n",
       "        const element = document.querySelector('#df-724c1f22-4cd7-4cf6-b7e2-c5e78cf32e2e');\n",
       "        const dataTable =\n",
       "          await google.colab.kernel.invokeFunction('convertToInteractive',\n",
       "                                                    [key], {});\n",
       "        if (!dataTable) return;\n",
       "\n",
       "        const docLinkHtml = 'Like what you see? Visit the ' +\n",
       "          '<a target=\"_blank\" href=https://colab.research.google.com/notebooks/data_table.ipynb>data table notebook</a>'\n",
       "          + ' to learn more about interactive tables.';\n",
       "        element.innerHTML = '';\n",
       "        dataTable['output_type'] = 'display_data';\n",
       "        await google.colab.output.renderOutput(dataTable, element);\n",
       "        const docLink = document.createElement('div');\n",
       "        docLink.innerHTML = docLinkHtml;\n",
       "        element.appendChild(docLink);\n",
       "      }\n",
       "    </script>\n",
       "  </div>\n",
       "\n",
       "\n",
       "<div id=\"df-887badb6-8030-4369-a535-6836da58440f\">\n",
       "  <button class=\"colab-df-quickchart\" onclick=\"quickchart('df-887badb6-8030-4369-a535-6836da58440f')\"\n",
       "            title=\"Suggest charts\"\n",
       "            style=\"display:none;\">\n",
       "\n",
       "<svg xmlns=\"http://www.w3.org/2000/svg\" height=\"24px\"viewBox=\"0 0 24 24\"\n",
       "     width=\"24px\">\n",
       "    <g>\n",
       "        <path d=\"M19 3H5c-1.1 0-2 .9-2 2v14c0 1.1.9 2 2 2h14c1.1 0 2-.9 2-2V5c0-1.1-.9-2-2-2zM9 17H7v-7h2v7zm4 0h-2V7h2v10zm4 0h-2v-4h2v4z\"/>\n",
       "    </g>\n",
       "</svg>\n",
       "  </button>\n",
       "\n",
       "<style>\n",
       "  .colab-df-quickchart {\n",
       "      --bg-color: #E8F0FE;\n",
       "      --fill-color: #1967D2;\n",
       "      --hover-bg-color: #E2EBFA;\n",
       "      --hover-fill-color: #174EA6;\n",
       "      --disabled-fill-color: #AAA;\n",
       "      --disabled-bg-color: #DDD;\n",
       "  }\n",
       "\n",
       "  [theme=dark] .colab-df-quickchart {\n",
       "      --bg-color: #3B4455;\n",
       "      --fill-color: #D2E3FC;\n",
       "      --hover-bg-color: #434B5C;\n",
       "      --hover-fill-color: #FFFFFF;\n",
       "      --disabled-bg-color: #3B4455;\n",
       "      --disabled-fill-color: #666;\n",
       "  }\n",
       "\n",
       "  .colab-df-quickchart {\n",
       "    background-color: var(--bg-color);\n",
       "    border: none;\n",
       "    border-radius: 50%;\n",
       "    cursor: pointer;\n",
       "    display: none;\n",
       "    fill: var(--fill-color);\n",
       "    height: 32px;\n",
       "    padding: 0;\n",
       "    width: 32px;\n",
       "  }\n",
       "\n",
       "  .colab-df-quickchart:hover {\n",
       "    background-color: var(--hover-bg-color);\n",
       "    box-shadow: 0 1px 2px rgba(60, 64, 67, 0.3), 0 1px 3px 1px rgba(60, 64, 67, 0.15);\n",
       "    fill: var(--button-hover-fill-color);\n",
       "  }\n",
       "\n",
       "  .colab-df-quickchart-complete:disabled,\n",
       "  .colab-df-quickchart-complete:disabled:hover {\n",
       "    background-color: var(--disabled-bg-color);\n",
       "    fill: var(--disabled-fill-color);\n",
       "    box-shadow: none;\n",
       "  }\n",
       "\n",
       "  .colab-df-spinner {\n",
       "    border: 2px solid var(--fill-color);\n",
       "    border-color: transparent;\n",
       "    border-bottom-color: var(--fill-color);\n",
       "    animation:\n",
       "      spin 1s steps(1) infinite;\n",
       "  }\n",
       "\n",
       "  @keyframes spin {\n",
       "    0% {\n",
       "      border-color: transparent;\n",
       "      border-bottom-color: var(--fill-color);\n",
       "      border-left-color: var(--fill-color);\n",
       "    }\n",
       "    20% {\n",
       "      border-color: transparent;\n",
       "      border-left-color: var(--fill-color);\n",
       "      border-top-color: var(--fill-color);\n",
       "    }\n",
       "    30% {\n",
       "      border-color: transparent;\n",
       "      border-left-color: var(--fill-color);\n",
       "      border-top-color: var(--fill-color);\n",
       "      border-right-color: var(--fill-color);\n",
       "    }\n",
       "    40% {\n",
       "      border-color: transparent;\n",
       "      border-right-color: var(--fill-color);\n",
       "      border-top-color: var(--fill-color);\n",
       "    }\n",
       "    60% {\n",
       "      border-color: transparent;\n",
       "      border-right-color: var(--fill-color);\n",
       "    }\n",
       "    80% {\n",
       "      border-color: transparent;\n",
       "      border-right-color: var(--fill-color);\n",
       "      border-bottom-color: var(--fill-color);\n",
       "    }\n",
       "    90% {\n",
       "      border-color: transparent;\n",
       "      border-bottom-color: var(--fill-color);\n",
       "    }\n",
       "  }\n",
       "</style>\n",
       "\n",
       "  <script>\n",
       "    async function quickchart(key) {\n",
       "      const quickchartButtonEl =\n",
       "        document.querySelector('#' + key + ' button');\n",
       "      quickchartButtonEl.disabled = true;  // To prevent multiple clicks.\n",
       "      quickchartButtonEl.classList.add('colab-df-spinner');\n",
       "      try {\n",
       "        const charts = await google.colab.kernel.invokeFunction(\n",
       "            'suggestCharts', [key], {});\n",
       "      } catch (error) {\n",
       "        console.error('Error during call to suggestCharts:', error);\n",
       "      }\n",
       "      quickchartButtonEl.classList.remove('colab-df-spinner');\n",
       "      quickchartButtonEl.classList.add('colab-df-quickchart-complete');\n",
       "    }\n",
       "    (() => {\n",
       "      let quickchartButtonEl =\n",
       "        document.querySelector('#df-887badb6-8030-4369-a535-6836da58440f button');\n",
       "      quickchartButtonEl.style.display =\n",
       "        google.colab.kernel.accessAllowed ? 'block' : 'none';\n",
       "    })();\n",
       "  </script>\n",
       "</div>\n",
       "\n",
       "    </div>\n",
       "  </div>\n"
      ],
      "text/plain": [
       "                                               properties\n",
       "127208  {'Brand': 'Honda', 'Model': 'Civic', 'Trim / E...\n",
       "162601  {'Bike Type': 'Motorbikes', 'Condition': 'Used...\n",
       "162602  {'Bike Type': 'Motorbikes', 'Condition': 'Used...\n",
       "162605  {'Brand': 'Mahindra', 'Model': 'Maxximo', 'Tri...\n",
       "162608            {'Brand': 'Other', 'Condition': 'Used'}\n",
       "162420  {'Bike Type': 'Motorbikes', 'Condition': 'Used...\n",
       "162419  {'Bike Type': 'Motorbikes', 'Condition': 'Used...\n",
       "162418  {'Brand': 'Bajaj', 'Model': 'RE', 'Trim / Edit...\n",
       "162416  {'Bike Type': 'Motorbikes', 'Condition': 'Used...\n",
       "162389  {'Bike Type': 'Motorbikes', 'Condition': 'Used..."
      ]
     },
     "execution_count": 55,
     "metadata": {},
     "output_type": "execute_result"
    }
   ],
   "source": [
    "df1[['properties']].head(10)\n",
    "# contain information about vehicle\n",
    "# issue: all information is in dictionary format and machine is understaing it as string\n",
    "# parse the data using ast library"
   ]
  },
  {
   "cell_type": "code",
   "execution_count": null,
   "metadata": {
    "id": "0XO_MEcAHgTc"
   },
   "outputs": [],
   "source": [
    "import ast"
   ]
  },
  {
   "cell_type": "code",
   "execution_count": null,
   "metadata": {
    "id": "iMAHjE38N3QT"
   },
   "outputs": [],
   "source": [
    "dict_df=df1[\"properties\"].apply(pd.Series)"
   ]
  },
  {
   "cell_type": "code",
   "execution_count": null,
   "metadata": {
    "colab": {
     "base_uri": "https://localhost:8080/"
    },
    "id": "nAXd9KWLN8e4",
    "outputId": "642543cb-b4fc-4f48-f4ac-28391c1975fb"
   },
   "outputs": [
    {
     "data": {
      "text/plain": [
       "127208    {'Brand': 'Honda', 'Model': 'Civic', 'Trim / E...\n",
       "162601    {'Bike Type': 'Motorbikes', 'Condition': 'Used...\n",
       "162602    {'Bike Type': 'Motorbikes', 'Condition': 'Used...\n",
       "162605    {'Brand': 'Mahindra', 'Model': 'Maxximo', 'Tri...\n",
       "162608              {'Brand': 'Other', 'Condition': 'Used'}\n",
       "Name: properties, dtype: object"
      ]
     },
     "execution_count": 58,
     "metadata": {},
     "output_type": "execute_result"
    }
   ],
   "source": [
    "df1['properties'].head()"
   ]
  },
  {
   "cell_type": "code",
   "execution_count": null,
   "metadata": {
    "colab": {
     "base_uri": "https://localhost:8080/"
    },
    "id": "tvkblEAaOL9g",
    "outputId": "28b194aa-20b6-459f-cde1-7d790ff5cc44"
   },
   "outputs": [
    {
     "name": "stdout",
     "output_type": "stream",
     "text": [
      "{'Bike Type': 'Motorbikes', 'Condition': 'Used', 'Brand': 'Bajaj', 'Model': 'Pulsar NS200', 'Trim / Edition': '2020', 'Year of Manufacture': '2019', 'Engine capacity': '200 cc', 'Mileage': '22,000 km'}\n"
     ]
    }
   ],
   "source": [
    "dict_converted = ast.literal_eval(dict_df.iloc[2][0])\n",
    "print(dict_converted)"
   ]
  },
  {
   "cell_type": "code",
   "execution_count": null,
   "metadata": {
    "id": "Tdt69By2OWHT"
   },
   "outputs": [],
   "source": [
    "Condition = []\n",
    "Mileage = []\n",
    "Engine_capacity = []\n",
    "Fuel_type = []\n",
    "Brand=[]\n",
    "Model=[]\n",
    "for i in range(dict_df.shape[0]):\n",
    "    dict_converted = ast.literal_eval(dict_df.iloc[i][0])\n",
    "\n",
    "    # Check if 'Condition' key exists before appending\n",
    "    if 'Condition' in dict_converted:\n",
    "        Condition.append(dict_converted['Condition'])\n",
    "    else:\n",
    "        Condition.append('NaN') # Or any default value you prefer\n",
    "\n",
    "    if 'Fuel type' not in dict_converted:\n",
    "        Fuel_type.append('NaN')\n",
    "    else:\n",
    "        Fuel_type.append(dict_converted['Fuel type'])\n",
    "\n",
    "    if 'Mileage' not in dict_converted:\n",
    "        Mileage.append(0)\n",
    "    else:\n",
    "        Mileage.append(dict_converted['Mileage'])\n",
    "\n",
    "    if 'Engine capacity' not in dict_converted:\n",
    "        Engine_capacity.append(0)\n",
    "    else:\n",
    "        Engine_capacity.append(dict_converted['Engine capacity'])\n",
    "\n",
    "    if 'Brand' not in dict_converted:\n",
    "        Brand.append('NaN')\n",
    "    else:\n",
    "        Brand.append(dict_converted['Brand'])\n",
    "\n",
    "    if 'Model' not in dict_converted:\n",
    "        Model.append('NaN')\n",
    "    else:\n",
    "        Model.append(dict_converted['Model'])"
   ]
  },
  {
   "cell_type": "code",
   "execution_count": null,
   "metadata": {
    "id": "pxFnBGtZOm-c"
   },
   "outputs": [],
   "source": [
    "df1['Condition'] = Condition\n",
    "df1['Model'] = Model\n",
    "df1['Mileage'] = Mileage\n",
    "df1['Engine_capacity'] = Engine_capacity\n",
    "df1['Fuel_type'] = Fuel_type\n",
    "df1['Brand'] = Brand"
   ]
  },
  {
   "cell_type": "code",
   "execution_count": null,
   "metadata": {
    "colab": {
     "base_uri": "https://localhost:8080/"
    },
    "id": "tYbPVeDcOu7Y",
    "outputId": "cc991567-96e8-4f47-b47d-53ab7cc44cf0"
   },
   "outputs": [
    {
     "data": {
      "text/plain": [
       "Index(['ad_title', 'slug', 'title', 'type', 'price', 'timestamp',\n",
       "       'posted_date', 'deactivation_date', 'category', 'location',\n",
       "       'geo_region', 'area', 'is_member', 'is_verified', 'membership_level',\n",
       "       'properties', 'user', 'date_diff', 'Condition', 'Model', 'Mileage',\n",
       "       'Engine_capacity', 'Fuel_type', 'Brand'],\n",
       "      dtype='object')"
      ]
     },
     "execution_count": 62,
     "metadata": {},
     "output_type": "execute_result"
    }
   ],
   "source": [
    "df1.columns"
   ]
  },
  {
   "cell_type": "code",
   "execution_count": null,
   "metadata": {
    "colab": {
     "base_uri": "https://localhost:8080/"
    },
    "id": "d57qn9OjOxLe",
    "outputId": "89c1eb80-3828-494a-8cb6-8e509783aa04"
   },
   "outputs": [
    {
     "data": {
      "text/plain": [
       "ad_title             0\n",
       "slug                 0\n",
       "title                0\n",
       "type                 0\n",
       "price                0\n",
       "timestamp            0\n",
       "posted_date          0\n",
       "deactivation_date    0\n",
       "category             0\n",
       "location             0\n",
       "geo_region           0\n",
       "area                 0\n",
       "is_member            0\n",
       "is_verified          0\n",
       "membership_level     0\n",
       "properties           0\n",
       "user                 0\n",
       "date_diff            0\n",
       "Condition            0\n",
       "Model                0\n",
       "Mileage              0\n",
       "Engine_capacity      0\n",
       "Fuel_type            0\n",
       "Brand                0\n",
       "dtype: int64"
      ]
     },
     "execution_count": 63,
     "metadata": {},
     "output_type": "execute_result"
    }
   ],
   "source": [
    "df1.isnull().sum()"
   ]
  },
  {
   "cell_type": "code",
   "execution_count": null,
   "metadata": {
    "id": "VPEZfXsS1dYJ"
   },
   "outputs": [],
   "source": [
    "df1.replace('NaN', np.nan, inplace=True)"
   ]
  },
  {
   "cell_type": "code",
   "execution_count": null,
   "metadata": {
    "colab": {
     "base_uri": "https://localhost:8080/"
    },
    "id": "Q8nqeDqEYcIk",
    "outputId": "31d001e8-465a-498a-fb06-921724b3bfb4"
   },
   "outputs": [
    {
     "data": {
      "text/plain": [
       "164838"
      ]
     },
     "execution_count": 65,
     "metadata": {},
     "output_type": "execute_result"
    }
   ],
   "source": [
    "df1['Brand'].value_counts().sum()"
   ]
  },
  {
   "cell_type": "code",
   "execution_count": null,
   "metadata": {
    "colab": {
     "base_uri": "https://localhost:8080/"
    },
    "id": "nOdz6u-wa111",
    "outputId": "78e83459-cbd5-4614-e7e5-6312d3adadbe"
   },
   "outputs": [
    {
     "data": {
      "text/plain": [
       "Condition\n",
       "Used             160254\n",
       "New                2597\n",
       "Reconditioned      1987\n",
       "Name: count, dtype: int64"
      ]
     },
     "execution_count": 66,
     "metadata": {},
     "output_type": "execute_result"
    }
   ],
   "source": [
    "df1['Condition'].value_counts()"
   ]
  },
  {
   "cell_type": "code",
   "execution_count": null,
   "metadata": {
    "id": "73P137nla50N"
   },
   "outputs": [],
   "source": [
    "# impute NaN value with mode\n",
    "df1['Condition'] = df1['Condition'].fillna(df1['Condition'].mode()[0])"
   ]
  },
  {
   "cell_type": "code",
   "execution_count": null,
   "metadata": {
    "colab": {
     "base_uri": "https://localhost:8080/"
    },
    "id": "h8LGuM2tbGF_",
    "outputId": "3fc94c73-fa38-480b-eaf9-c80984d5a29b"
   },
   "outputs": [
    {
     "data": {
      "text/plain": [
       "0"
      ]
     },
     "execution_count": 68,
     "metadata": {},
     "output_type": "execute_result"
    }
   ],
   "source": [
    "df1['Condition'].isnull().sum()"
   ]
  },
  {
   "cell_type": "code",
   "execution_count": null,
   "metadata": {
    "id": "CmFc_LpiO4Nx"
   },
   "outputs": [],
   "source": [
    "# df1['Transmission'].value_counts()"
   ]
  },
  {
   "cell_type": "code",
   "execution_count": null,
   "metadata": {
    "id": "V-DJyatwPA1J"
   },
   "outputs": [],
   "source": [
    "# Engine_capacity column contains large number of NaN values , then drop this column"
   ]
  },
  {
   "cell_type": "code",
   "execution_count": null,
   "metadata": {
    "id": "jY6J7iP7RJmc"
   },
   "outputs": [],
   "source": [
    "df1=df1.drop(df1[['Engine_capacity']] ,axis=1)"
   ]
  },
  {
   "cell_type": "code",
   "execution_count": null,
   "metadata": {
    "colab": {
     "base_uri": "https://localhost:8080/"
    },
    "collapsed": true,
    "id": "bGewVXGuRMXg",
    "outputId": "75cee1d0-e6c5-4232-958e-6ffceae9889a"
   },
   "outputs": [
    {
     "data": {
      "text/plain": [
       "Fuel_type\n",
       "Petrol             34608\n",
       "Diesel              6784\n",
       "Hybrid              5979\n",
       "Electric             306\n",
       "Other fuel type       77\n",
       "CNG                   26\n",
       "Name: count, dtype: int64"
      ]
     },
     "execution_count": 72,
     "metadata": {},
     "output_type": "execute_result"
    }
   ],
   "source": [
    "df1['Fuel_type'].value_counts()"
   ]
  },
  {
   "cell_type": "code",
   "execution_count": null,
   "metadata": {
    "id": "KFk9NqXbRRNL"
   },
   "outputs": [],
   "source": [
    "# Fuel_type column contain large number of NaN values, then drop this column"
   ]
  },
  {
   "cell_type": "code",
   "execution_count": null,
   "metadata": {
    "id": "urPid30GUqgS"
   },
   "outputs": [],
   "source": [
    "df1=df1.drop(df1[['Fuel_type']] ,axis=1)"
   ]
  },
  {
   "cell_type": "code",
   "execution_count": null,
   "metadata": {
    "colab": {
     "base_uri": "https://localhost:8080/"
    },
    "id": "qd2p3Co0bSjB",
    "outputId": "47c0ebed-ba87-4955-edba-39f9e585b7aa"
   },
   "outputs": [
    {
     "data": {
      "text/plain": [
       "(164838, 22)"
      ]
     },
     "execution_count": 75,
     "metadata": {},
     "output_type": "execute_result"
    }
   ],
   "source": [
    "df1.shape"
   ]
  },
  {
   "cell_type": "code",
   "execution_count": null,
   "metadata": {
    "colab": {
     "base_uri": "https://localhost:8080/"
    },
    "id": "pfBgLbbhbUtN",
    "outputId": "efbad831-a264-4492-de07-9229b31b7e39"
   },
   "outputs": [
    {
     "data": {
      "text/plain": [
       "Index(['ad_title', 'slug', 'title', 'type', 'price', 'timestamp',\n",
       "       'posted_date', 'deactivation_date', 'category', 'location',\n",
       "       'geo_region', 'area', 'is_member', 'is_verified', 'membership_level',\n",
       "       'properties', 'user', 'date_diff', 'Condition', 'Model', 'Mileage',\n",
       "       'Brand'],\n",
       "      dtype='object')"
      ]
     },
     "execution_count": 76,
     "metadata": {},
     "output_type": "execute_result"
    }
   ],
   "source": [
    "df1.columns"
   ]
  },
  {
   "cell_type": "markdown",
   "metadata": {
    "id": "TT-WOFOHbpbN"
   },
   "source": [
    "Change Datatype of new Columns\n",
    "for Mileage and Engine_capacity"
   ]
  },
  {
   "cell_type": "code",
   "execution_count": null,
   "metadata": {
    "colab": {
     "base_uri": "https://localhost:8080/"
    },
    "id": "pS-R_t39AcKN",
    "outputId": "ce4eaa54-b00e-4344-eeba-88e2a44fc9fe"
   },
   "outputs": [
    {
     "data": {
      "text/plain": [
       "Mileage        0\n",
       "Model      11266\n",
       "dtype: int64"
      ]
     },
     "execution_count": 77,
     "metadata": {},
     "output_type": "execute_result"
    }
   ],
   "source": [
    "df1[['Mileage','Model']].isnull().sum()"
   ]
  },
  {
   "cell_type": "code",
   "execution_count": null,
   "metadata": {
    "id": "ckWr4qAOAeMO"
   },
   "outputs": [],
   "source": [
    "df1=df1.drop(df1[['Model','Mileage']] ,axis=1)"
   ]
  },
  {
   "cell_type": "code",
   "execution_count": null,
   "metadata": {
    "colab": {
     "base_uri": "https://localhost:8080/"
    },
    "id": "RoHsZ6gQbwED",
    "outputId": "77a31803-b8ea-43f6-be94-cd8052e09e27"
   },
   "outputs": [
    {
     "name": "stdout",
     "output_type": "stream",
     "text": [
      "<class 'pandas.core.frame.DataFrame'>\n",
      "Index: 164838 entries, 127208 to 227557\n",
      "Data columns (total 20 columns):\n",
      " #   Column             Non-Null Count   Dtype                    \n",
      "---  ------             --------------   -----                    \n",
      " 0   ad_title           164838 non-null  object                   \n",
      " 1   slug               164838 non-null  object                   \n",
      " 2   title              164838 non-null  object                   \n",
      " 3   type               164838 non-null  object                   \n",
      " 4   price              164838 non-null  float64                  \n",
      " 5   timestamp          164838 non-null  object                   \n",
      " 6   posted_date        164838 non-null  datetime64[ns, UTC+05:30]\n",
      " 7   deactivation_date  164838 non-null  datetime64[ns, UTC]      \n",
      " 8   category           164838 non-null  object                   \n",
      " 9   location           164838 non-null  object                   \n",
      " 10  geo_region         164838 non-null  object                   \n",
      " 11  area               164838 non-null  object                   \n",
      " 12  is_member          164838 non-null  int64                    \n",
      " 13  is_verified        164838 non-null  int64                    \n",
      " 14  membership_level   164838 non-null  object                   \n",
      " 15  properties         164838 non-null  object                   \n",
      " 16  user               164838 non-null  object                   \n",
      " 17  date_diff          164838 non-null  int64                    \n",
      " 18  Condition          164838 non-null  object                   \n",
      " 19  Brand              164838 non-null  object                   \n",
      "dtypes: datetime64[ns, UTC+05:30](1), datetime64[ns, UTC](1), float64(1), int64(3), object(14)\n",
      "memory usage: 26.4+ MB\n"
     ]
    }
   ],
   "source": [
    "df1.info()"
   ]
  },
  {
   "cell_type": "code",
   "execution_count": null,
   "metadata": {
    "id": "FLPdeP1-Atfd"
   },
   "outputs": [],
   "source": [
    "brand_counts = df1['Brand'].value_counts()\n",
    "df1 = df1[df1['Brand'].isin(brand_counts[brand_counts >= 100].index)]"
   ]
  },
  {
   "cell_type": "code",
   "execution_count": null,
   "metadata": {
    "colab": {
     "base_uri": "https://localhost:8080/"
    },
    "id": "hM4liMVAAtRy",
    "outputId": "8d2169bf-c947-47e3-9b54-b98afaff9f27"
   },
   "outputs": [
    {
     "data": {
      "text/plain": [
       "Brand\n",
       "Bajaj        37224\n",
       "Honda        19780\n",
       "Toyota       18509\n",
       "Suzuki       11324\n",
       "Yamaha        8552\n",
       "             ...  \n",
       "Bianchi        130\n",
       "Chevrolet      122\n",
       "Lexus          111\n",
       "Datsun         110\n",
       "Jaguar         103\n",
       "Name: count, Length: 61, dtype: int64"
      ]
     },
     "execution_count": 81,
     "metadata": {},
     "output_type": "execute_result"
    }
   ],
   "source": [
    "df1['Brand'].value_counts()"
   ]
  },
  {
   "cell_type": "code",
   "execution_count": null,
   "metadata": {
    "colab": {
     "base_uri": "https://localhost:8080/"
    },
    "id": "oxxRXiQqBBf7",
    "outputId": "d78351b5-9797-41ea-8d87-0c94d42c54a2"
   },
   "outputs": [
    {
     "data": {
      "text/plain": [
       "127208     2\n",
       "162601     0\n",
       "162602    12\n",
       "162605    18\n",
       "162608     2\n",
       "Name: geo_region, dtype: int64"
      ]
     },
     "execution_count": 82,
     "metadata": {},
     "output_type": "execute_result"
    }
   ],
   "source": [
    "# Label encode the 'geo_region' column\n",
    "label_encoder = LabelEncoder()\n",
    "df1['geo_region'] = label_encoder.fit_transform(df1['geo_region'])\n",
    "df1['geo_region'].head()"
   ]
  },
  {
   "cell_type": "code",
   "execution_count": null,
   "metadata": {
    "colab": {
     "base_uri": "https://localhost:8080/"
    },
    "id": "vVERbmVBBFF9",
    "outputId": "c255370f-5726-4477-84bc-df3b89799cd2"
   },
   "outputs": [
    {
     "data": {
      "text/plain": [
       "127208    2\n",
       "162601    2\n",
       "162602    2\n",
       "162605    2\n",
       "162608    2\n",
       "Name: Condition, dtype: int64"
      ]
     },
     "execution_count": 83,
     "metadata": {},
     "output_type": "execute_result"
    }
   ],
   "source": [
    "# Label encode the 'condition' column\n",
    "label_encoder = LabelEncoder()\n",
    "df1['Condition'] = label_encoder.fit_transform(df1['Condition'])\n",
    "df1['Condition'].head()"
   ]
  },
  {
   "cell_type": "code",
   "execution_count": null,
   "metadata": {
    "colab": {
     "base_uri": "https://localhost:8080/"
    },
    "id": "Kw5AjdDXBHI5",
    "outputId": "e76ecc4d-78d7-4eb5-f476-b0a80de6fcb6"
   },
   "outputs": [
    {
     "data": {
      "text/plain": [
       "127208    0\n",
       "162601    0\n",
       "162602    0\n",
       "162605    0\n",
       "162608    0\n",
       "Name: membership_level, dtype: int64"
      ]
     },
     "execution_count": 84,
     "metadata": {},
     "output_type": "execute_result"
    }
   ],
   "source": [
    "# Label encode the 'membership-level' column\n",
    "label_encoder = LabelEncoder()\n",
    "df1['membership_level'] = label_encoder.fit_transform(df1['membership_level'])\n",
    "df1['membership_level'].head()"
   ]
  },
  {
   "cell_type": "code",
   "execution_count": null,
   "metadata": {
    "colab": {
     "base_uri": "https://localhost:8080/"
    },
    "id": "hehRdNy2BJCr",
    "outputId": "e086d4cc-1cf5-49e8-d008-24afbb21a0aa"
   },
   "outputs": [
    {
     "data": {
      "text/plain": [
       "127208    1\n",
       "162601    3\n",
       "162602    3\n",
       "162605    2\n",
       "162608    0\n",
       "Name: category, dtype: int64"
      ]
     },
     "execution_count": 85,
     "metadata": {},
     "output_type": "execute_result"
    }
   ],
   "source": [
    "# Label encode the 'category' column\n",
    "label_encoder = LabelEncoder()\n",
    "df1['category'] = label_encoder.fit_transform(df1['category'])\n",
    "df1['category'].head()"
   ]
  },
  {
   "cell_type": "code",
   "execution_count": null,
   "metadata": {
    "colab": {
     "base_uri": "https://localhost:8080/"
    },
    "id": "ll7mX7GoBMAp",
    "outputId": "8b856448-ab26-48d3-adfa-f0ece9889b11"
   },
   "outputs": [
    {
     "name": "stdout",
     "output_type": "stream",
     "text": [
      "<class 'pandas.core.frame.DataFrame'>\n",
      "Index: 163265 entries, 127208 to 227557\n",
      "Data columns (total 20 columns):\n",
      " #   Column             Non-Null Count   Dtype                    \n",
      "---  ------             --------------   -----                    \n",
      " 0   ad_title           163265 non-null  object                   \n",
      " 1   slug               163265 non-null  object                   \n",
      " 2   title              163265 non-null  object                   \n",
      " 3   type               163265 non-null  object                   \n",
      " 4   price              163265 non-null  float64                  \n",
      " 5   timestamp          163265 non-null  object                   \n",
      " 6   posted_date        163265 non-null  datetime64[ns, UTC+05:30]\n",
      " 7   deactivation_date  163265 non-null  datetime64[ns, UTC]      \n",
      " 8   category           163265 non-null  int64                    \n",
      " 9   location           163265 non-null  object                   \n",
      " 10  geo_region         163265 non-null  int64                    \n",
      " 11  area               163265 non-null  object                   \n",
      " 12  is_member          163265 non-null  int64                    \n",
      " 13  is_verified        163265 non-null  int64                    \n",
      " 14  membership_level   163265 non-null  int64                    \n",
      " 15  properties         163265 non-null  object                   \n",
      " 16  user               163265 non-null  object                   \n",
      " 17  date_diff          163265 non-null  int64                    \n",
      " 18  Condition          163265 non-null  int64                    \n",
      " 19  Brand              163265 non-null  object                   \n",
      "dtypes: datetime64[ns, UTC+05:30](1), datetime64[ns, UTC](1), float64(1), int64(7), object(10)\n",
      "memory usage: 26.2+ MB\n"
     ]
    }
   ],
   "source": [
    "df1.info()"
   ]
  },
  {
   "cell_type": "code",
   "execution_count": null,
   "metadata": {
    "id": "aygWRMaMBPiW"
   },
   "outputs": [],
   "source": [
    "num_df=df1[[\"price\",\"date_diff\",'category','geo_region','is_member','is_verified','membership_level','Condition']].copy()"
   ]
  },
  {
   "cell_type": "code",
   "execution_count": null,
   "metadata": {
    "colab": {
     "base_uri": "https://localhost:8080/",
     "height": 300
    },
    "id": "MtKlQRA3BRr6",
    "outputId": "bb84ed68-2fbf-4814-88c9-d0a3e6825d74"
   },
   "outputs": [
    {
     "data": {
      "application/vnd.google.colaboratory.intrinsic+json": {
       "summary": "{\n  \"name\": \"num_df\",\n  \"rows\": 8,\n  \"fields\": [\n    {\n      \"column\": \"price\",\n      \"properties\": {\n        \"dtype\": \"number\",\n        \"std\": 699219234.8757358,\n        \"min\": 1.0,\n        \"max\": 1980000000.0,\n        \"num_unique_values\": 8,\n        \"samples\": [\n          3003760.5395522616,\n          690000.0,\n          163265.0\n        ],\n        \"semantic_type\": \"\",\n        \"description\": \"\"\n      }\n    },\n    {\n      \"column\": \"date_diff\",\n      \"properties\": {\n        \"dtype\": \"number\",\n        \"std\": 57707.79154474953,\n        \"min\": 0.0,\n        \"max\": 163265.0,\n        \"num_unique_values\": 6,\n        \"samples\": [\n          163265.0,\n          58.17905246072336,\n          60.0\n        ],\n        \"semantic_type\": \"\",\n        \"description\": \"\"\n      }\n    },\n    {\n      \"column\": \"category\",\n      \"properties\": {\n        \"dtype\": \"number\",\n        \"std\": 57722.101344192044,\n        \"min\": 0.0,\n        \"max\": 163265.0,\n        \"num_unique_values\": 7,\n        \"samples\": [\n          163265.0,\n          2.3717881971028696,\n          3.0\n        ],\n        \"semantic_type\": \"\",\n        \"description\": \"\"\n      }\n    },\n    {\n      \"column\": \"geo_region\",\n      \"properties\": {\n        \"dtype\": \"number\",\n        \"std\": 57720.81809231799,\n        \"min\": 0.0,\n        \"max\": 163265.0,\n        \"num_unique_values\": 8,\n        \"samples\": [\n          4.981490215294154,\n          2.0,\n          163265.0\n        ],\n        \"semantic_type\": \"\",\n        \"description\": \"\"\n      }\n    },\n    {\n      \"column\": \"is_member\",\n      \"properties\": {\n        \"dtype\": \"number\",\n        \"std\": 57722.75723233274,\n        \"min\": 0.0,\n        \"max\": 163265.0,\n        \"num_unique_values\": 5,\n        \"samples\": [\n          0.27011300646188713,\n          1.0,\n          0.4440193439113725\n        ],\n        \"semantic_type\": \"\",\n        \"description\": \"\"\n      }\n    },\n    {\n      \"column\": \"is_verified\",\n      \"properties\": {\n        \"dtype\": \"number\",\n        \"std\": 57722.81883650241,\n        \"min\": 0.0,\n        \"max\": 163265.0,\n        \"num_unique_values\": 5,\n        \"samples\": [\n          0.1436682693780051,\n          1.0,\n          0.35075411801233525\n        ],\n        \"semantic_type\": \"\",\n        \"description\": \"\"\n      }\n    },\n    {\n      \"column\": \"membership_level\",\n      \"properties\": {\n        \"dtype\": \"number\",\n        \"std\": 57722.73145754172,\n        \"min\": 0.0,\n        \"max\": 163265.0,\n        \"num_unique_values\": 5,\n        \"samples\": [\n          0.4240284200532876,\n          2.0,\n          0.8004706347756919\n        ],\n        \"semantic_type\": \"\",\n        \"description\": \"\"\n      }\n    },\n    {\n      \"column\": \"Condition\",\n      \"properties\": {\n        \"dtype\": \"number\",\n        \"std\": 57722.377815027176,\n        \"min\": 0.0,\n        \"max\": 163265.0,\n        \"num_unique_values\": 5,\n        \"samples\": [\n          1.9567696689431293,\n          2.0,\n          0.26953380709776287\n        ],\n        \"semantic_type\": \"\",\n        \"description\": \"\"\n      }\n    }\n  ]\n}",
       "type": "dataframe"
      },
      "text/html": [
       "\n",
       "  <div id=\"df-7dbca973-106e-446a-afc8-cd8e11ef58e1\" class=\"colab-df-container\">\n",
       "    <div>\n",
       "<style scoped>\n",
       "    .dataframe tbody tr th:only-of-type {\n",
       "        vertical-align: middle;\n",
       "    }\n",
       "\n",
       "    .dataframe tbody tr th {\n",
       "        vertical-align: top;\n",
       "    }\n",
       "\n",
       "    .dataframe thead th {\n",
       "        text-align: right;\n",
       "    }\n",
       "</style>\n",
       "<table border=\"1\" class=\"dataframe\">\n",
       "  <thead>\n",
       "    <tr style=\"text-align: right;\">\n",
       "      <th></th>\n",
       "      <th>price</th>\n",
       "      <th>date_diff</th>\n",
       "      <th>category</th>\n",
       "      <th>geo_region</th>\n",
       "      <th>is_member</th>\n",
       "      <th>is_verified</th>\n",
       "      <th>membership_level</th>\n",
       "      <th>Condition</th>\n",
       "    </tr>\n",
       "  </thead>\n",
       "  <tbody>\n",
       "    <tr>\n",
       "      <th>count</th>\n",
       "      <td>1.632650e+05</td>\n",
       "      <td>163265.000000</td>\n",
       "      <td>163265.000000</td>\n",
       "      <td>163265.000000</td>\n",
       "      <td>163265.000000</td>\n",
       "      <td>163265.000000</td>\n",
       "      <td>163265.000000</td>\n",
       "      <td>163265.000000</td>\n",
       "    </tr>\n",
       "    <tr>\n",
       "      <th>mean</th>\n",
       "      <td>3.003761e+06</td>\n",
       "      <td>58.179052</td>\n",
       "      <td>2.371788</td>\n",
       "      <td>4.981490</td>\n",
       "      <td>0.270113</td>\n",
       "      <td>0.143668</td>\n",
       "      <td>0.424028</td>\n",
       "      <td>1.956770</td>\n",
       "    </tr>\n",
       "    <tr>\n",
       "      <th>std</th>\n",
       "      <td>8.780479e+06</td>\n",
       "      <td>3.954758</td>\n",
       "      <td>1.328633</td>\n",
       "      <td>6.132362</td>\n",
       "      <td>0.444019</td>\n",
       "      <td>0.350754</td>\n",
       "      <td>0.800471</td>\n",
       "      <td>0.269534</td>\n",
       "    </tr>\n",
       "    <tr>\n",
       "      <th>min</th>\n",
       "      <td>1.000000e+00</td>\n",
       "      <td>0.000000</td>\n",
       "      <td>0.000000</td>\n",
       "      <td>0.000000</td>\n",
       "      <td>0.000000</td>\n",
       "      <td>0.000000</td>\n",
       "      <td>0.000000</td>\n",
       "      <td>0.000000</td>\n",
       "    </tr>\n",
       "    <tr>\n",
       "      <th>25%</th>\n",
       "      <td>2.500000e+05</td>\n",
       "      <td>59.000000</td>\n",
       "      <td>1.000000</td>\n",
       "      <td>1.000000</td>\n",
       "      <td>0.000000</td>\n",
       "      <td>0.000000</td>\n",
       "      <td>0.000000</td>\n",
       "      <td>2.000000</td>\n",
       "    </tr>\n",
       "    <tr>\n",
       "      <th>50%</th>\n",
       "      <td>6.900000e+05</td>\n",
       "      <td>59.000000</td>\n",
       "      <td>3.000000</td>\n",
       "      <td>2.000000</td>\n",
       "      <td>0.000000</td>\n",
       "      <td>0.000000</td>\n",
       "      <td>0.000000</td>\n",
       "      <td>2.000000</td>\n",
       "    </tr>\n",
       "    <tr>\n",
       "      <th>75%</th>\n",
       "      <td>3.400000e+06</td>\n",
       "      <td>59.000000</td>\n",
       "      <td>3.000000</td>\n",
       "      <td>7.000000</td>\n",
       "      <td>1.000000</td>\n",
       "      <td>0.000000</td>\n",
       "      <td>0.000000</td>\n",
       "      <td>2.000000</td>\n",
       "    </tr>\n",
       "    <tr>\n",
       "      <th>max</th>\n",
       "      <td>1.980000e+09</td>\n",
       "      <td>60.000000</td>\n",
       "      <td>5.000000</td>\n",
       "      <td>20.000000</td>\n",
       "      <td>1.000000</td>\n",
       "      <td>1.000000</td>\n",
       "      <td>2.000000</td>\n",
       "      <td>2.000000</td>\n",
       "    </tr>\n",
       "  </tbody>\n",
       "</table>\n",
       "</div>\n",
       "    <div class=\"colab-df-buttons\">\n",
       "\n",
       "  <div class=\"colab-df-container\">\n",
       "    <button class=\"colab-df-convert\" onclick=\"convertToInteractive('df-7dbca973-106e-446a-afc8-cd8e11ef58e1')\"\n",
       "            title=\"Convert this dataframe to an interactive table.\"\n",
       "            style=\"display:none;\">\n",
       "\n",
       "  <svg xmlns=\"http://www.w3.org/2000/svg\" height=\"24px\" viewBox=\"0 -960 960 960\">\n",
       "    <path d=\"M120-120v-720h720v720H120Zm60-500h600v-160H180v160Zm220 220h160v-160H400v160Zm0 220h160v-160H400v160ZM180-400h160v-160H180v160Zm440 0h160v-160H620v160ZM180-180h160v-160H180v160Zm440 0h160v-160H620v160Z\"/>\n",
       "  </svg>\n",
       "    </button>\n",
       "\n",
       "  <style>\n",
       "    .colab-df-container {\n",
       "      display:flex;\n",
       "      gap: 12px;\n",
       "    }\n",
       "\n",
       "    .colab-df-convert {\n",
       "      background-color: #E8F0FE;\n",
       "      border: none;\n",
       "      border-radius: 50%;\n",
       "      cursor: pointer;\n",
       "      display: none;\n",
       "      fill: #1967D2;\n",
       "      height: 32px;\n",
       "      padding: 0 0 0 0;\n",
       "      width: 32px;\n",
       "    }\n",
       "\n",
       "    .colab-df-convert:hover {\n",
       "      background-color: #E2EBFA;\n",
       "      box-shadow: 0px 1px 2px rgba(60, 64, 67, 0.3), 0px 1px 3px 1px rgba(60, 64, 67, 0.15);\n",
       "      fill: #174EA6;\n",
       "    }\n",
       "\n",
       "    .colab-df-buttons div {\n",
       "      margin-bottom: 4px;\n",
       "    }\n",
       "\n",
       "    [theme=dark] .colab-df-convert {\n",
       "      background-color: #3B4455;\n",
       "      fill: #D2E3FC;\n",
       "    }\n",
       "\n",
       "    [theme=dark] .colab-df-convert:hover {\n",
       "      background-color: #434B5C;\n",
       "      box-shadow: 0px 1px 3px 1px rgba(0, 0, 0, 0.15);\n",
       "      filter: drop-shadow(0px 1px 2px rgba(0, 0, 0, 0.3));\n",
       "      fill: #FFFFFF;\n",
       "    }\n",
       "  </style>\n",
       "\n",
       "    <script>\n",
       "      const buttonEl =\n",
       "        document.querySelector('#df-7dbca973-106e-446a-afc8-cd8e11ef58e1 button.colab-df-convert');\n",
       "      buttonEl.style.display =\n",
       "        google.colab.kernel.accessAllowed ? 'block' : 'none';\n",
       "\n",
       "      async function convertToInteractive(key) {\n",
       "        const element = document.querySelector('#df-7dbca973-106e-446a-afc8-cd8e11ef58e1');\n",
       "        const dataTable =\n",
       "          await google.colab.kernel.invokeFunction('convertToInteractive',\n",
       "                                                    [key], {});\n",
       "        if (!dataTable) return;\n",
       "\n",
       "        const docLinkHtml = 'Like what you see? Visit the ' +\n",
       "          '<a target=\"_blank\" href=https://colab.research.google.com/notebooks/data_table.ipynb>data table notebook</a>'\n",
       "          + ' to learn more about interactive tables.';\n",
       "        element.innerHTML = '';\n",
       "        dataTable['output_type'] = 'display_data';\n",
       "        await google.colab.output.renderOutput(dataTable, element);\n",
       "        const docLink = document.createElement('div');\n",
       "        docLink.innerHTML = docLinkHtml;\n",
       "        element.appendChild(docLink);\n",
       "      }\n",
       "    </script>\n",
       "  </div>\n",
       "\n",
       "\n",
       "<div id=\"df-57aae2ce-8b4f-4d2e-be10-6347157360d3\">\n",
       "  <button class=\"colab-df-quickchart\" onclick=\"quickchart('df-57aae2ce-8b4f-4d2e-be10-6347157360d3')\"\n",
       "            title=\"Suggest charts\"\n",
       "            style=\"display:none;\">\n",
       "\n",
       "<svg xmlns=\"http://www.w3.org/2000/svg\" height=\"24px\"viewBox=\"0 0 24 24\"\n",
       "     width=\"24px\">\n",
       "    <g>\n",
       "        <path d=\"M19 3H5c-1.1 0-2 .9-2 2v14c0 1.1.9 2 2 2h14c1.1 0 2-.9 2-2V5c0-1.1-.9-2-2-2zM9 17H7v-7h2v7zm4 0h-2V7h2v10zm4 0h-2v-4h2v4z\"/>\n",
       "    </g>\n",
       "</svg>\n",
       "  </button>\n",
       "\n",
       "<style>\n",
       "  .colab-df-quickchart {\n",
       "      --bg-color: #E8F0FE;\n",
       "      --fill-color: #1967D2;\n",
       "      --hover-bg-color: #E2EBFA;\n",
       "      --hover-fill-color: #174EA6;\n",
       "      --disabled-fill-color: #AAA;\n",
       "      --disabled-bg-color: #DDD;\n",
       "  }\n",
       "\n",
       "  [theme=dark] .colab-df-quickchart {\n",
       "      --bg-color: #3B4455;\n",
       "      --fill-color: #D2E3FC;\n",
       "      --hover-bg-color: #434B5C;\n",
       "      --hover-fill-color: #FFFFFF;\n",
       "      --disabled-bg-color: #3B4455;\n",
       "      --disabled-fill-color: #666;\n",
       "  }\n",
       "\n",
       "  .colab-df-quickchart {\n",
       "    background-color: var(--bg-color);\n",
       "    border: none;\n",
       "    border-radius: 50%;\n",
       "    cursor: pointer;\n",
       "    display: none;\n",
       "    fill: var(--fill-color);\n",
       "    height: 32px;\n",
       "    padding: 0;\n",
       "    width: 32px;\n",
       "  }\n",
       "\n",
       "  .colab-df-quickchart:hover {\n",
       "    background-color: var(--hover-bg-color);\n",
       "    box-shadow: 0 1px 2px rgba(60, 64, 67, 0.3), 0 1px 3px 1px rgba(60, 64, 67, 0.15);\n",
       "    fill: var(--button-hover-fill-color);\n",
       "  }\n",
       "\n",
       "  .colab-df-quickchart-complete:disabled,\n",
       "  .colab-df-quickchart-complete:disabled:hover {\n",
       "    background-color: var(--disabled-bg-color);\n",
       "    fill: var(--disabled-fill-color);\n",
       "    box-shadow: none;\n",
       "  }\n",
       "\n",
       "  .colab-df-spinner {\n",
       "    border: 2px solid var(--fill-color);\n",
       "    border-color: transparent;\n",
       "    border-bottom-color: var(--fill-color);\n",
       "    animation:\n",
       "      spin 1s steps(1) infinite;\n",
       "  }\n",
       "\n",
       "  @keyframes spin {\n",
       "    0% {\n",
       "      border-color: transparent;\n",
       "      border-bottom-color: var(--fill-color);\n",
       "      border-left-color: var(--fill-color);\n",
       "    }\n",
       "    20% {\n",
       "      border-color: transparent;\n",
       "      border-left-color: var(--fill-color);\n",
       "      border-top-color: var(--fill-color);\n",
       "    }\n",
       "    30% {\n",
       "      border-color: transparent;\n",
       "      border-left-color: var(--fill-color);\n",
       "      border-top-color: var(--fill-color);\n",
       "      border-right-color: var(--fill-color);\n",
       "    }\n",
       "    40% {\n",
       "      border-color: transparent;\n",
       "      border-right-color: var(--fill-color);\n",
       "      border-top-color: var(--fill-color);\n",
       "    }\n",
       "    60% {\n",
       "      border-color: transparent;\n",
       "      border-right-color: var(--fill-color);\n",
       "    }\n",
       "    80% {\n",
       "      border-color: transparent;\n",
       "      border-right-color: var(--fill-color);\n",
       "      border-bottom-color: var(--fill-color);\n",
       "    }\n",
       "    90% {\n",
       "      border-color: transparent;\n",
       "      border-bottom-color: var(--fill-color);\n",
       "    }\n",
       "  }\n",
       "</style>\n",
       "\n",
       "  <script>\n",
       "    async function quickchart(key) {\n",
       "      const quickchartButtonEl =\n",
       "        document.querySelector('#' + key + ' button');\n",
       "      quickchartButtonEl.disabled = true;  // To prevent multiple clicks.\n",
       "      quickchartButtonEl.classList.add('colab-df-spinner');\n",
       "      try {\n",
       "        const charts = await google.colab.kernel.invokeFunction(\n",
       "            'suggestCharts', [key], {});\n",
       "      } catch (error) {\n",
       "        console.error('Error during call to suggestCharts:', error);\n",
       "      }\n",
       "      quickchartButtonEl.classList.remove('colab-df-spinner');\n",
       "      quickchartButtonEl.classList.add('colab-df-quickchart-complete');\n",
       "    }\n",
       "    (() => {\n",
       "      let quickchartButtonEl =\n",
       "        document.querySelector('#df-57aae2ce-8b4f-4d2e-be10-6347157360d3 button');\n",
       "      quickchartButtonEl.style.display =\n",
       "        google.colab.kernel.accessAllowed ? 'block' : 'none';\n",
       "    })();\n",
       "  </script>\n",
       "</div>\n",
       "\n",
       "    </div>\n",
       "  </div>\n"
      ],
      "text/plain": [
       "              price      date_diff       category     geo_region  \\\n",
       "count  1.632650e+05  163265.000000  163265.000000  163265.000000   \n",
       "mean   3.003761e+06      58.179052       2.371788       4.981490   \n",
       "std    8.780479e+06       3.954758       1.328633       6.132362   \n",
       "min    1.000000e+00       0.000000       0.000000       0.000000   \n",
       "25%    2.500000e+05      59.000000       1.000000       1.000000   \n",
       "50%    6.900000e+05      59.000000       3.000000       2.000000   \n",
       "75%    3.400000e+06      59.000000       3.000000       7.000000   \n",
       "max    1.980000e+09      60.000000       5.000000      20.000000   \n",
       "\n",
       "           is_member    is_verified  membership_level      Condition  \n",
       "count  163265.000000  163265.000000     163265.000000  163265.000000  \n",
       "mean        0.270113       0.143668          0.424028       1.956770  \n",
       "std         0.444019       0.350754          0.800471       0.269534  \n",
       "min         0.000000       0.000000          0.000000       0.000000  \n",
       "25%         0.000000       0.000000          0.000000       2.000000  \n",
       "50%         0.000000       0.000000          0.000000       2.000000  \n",
       "75%         1.000000       0.000000          0.000000       2.000000  \n",
       "max         1.000000       1.000000          2.000000       2.000000  "
      ]
     },
     "execution_count": 88,
     "metadata": {},
     "output_type": "execute_result"
    }
   ],
   "source": [
    "num_df.describe()"
   ]
  },
  {
   "cell_type": "code",
   "execution_count": null,
   "metadata": {
    "colab": {
     "base_uri": "https://localhost:8080/",
     "height": 1000
    },
    "id": "yQGy0ZuKEaRW",
    "outputId": "1b47474d-f1ab-48df-a5fb-07e2bab492ac"
   },
   "outputs": [
    {
     "data": {
      "image/png": "[encoded data removed]",
      "text/plain": [
       "<Figure size 1400x1200 with 2 Axes>"
      ]
     },
     "metadata": {},
     "output_type": "display_data"
    }
   ],
   "source": [
    "# Heatmap for Numerical Data\n",
    "plt.figure(figsize=(14, 12))\n",
    "sns.heatmap(num_df.corr(), annot=True, fmt=\".2f\", cmap=\"Set3\",linewidths=0.72, linecolor=\"black\")\n",
    "plt.title('Heatmap of Co-Relation Matrix of numerical_df.')\n",
    "plt.show()"
   ]
  },
  {
   "cell_type": "code",
   "execution_count": null,
   "metadata": {
    "id": "h4sVMv7ZuIA0"
   },
   "outputs": [],
   "source": [
    " # Correlational Matrix of Numeric Data"
   ]
  },
  {
   "cell_type": "code",
   "execution_count": null,
   "metadata": {
    "colab": {
     "base_uri": "https://localhost:8080/",
     "height": 468
    },
    "id": "g43vv7aOuV5F",
    "outputId": "cb5f45ef-e544-4dd6-d0e3-843a1a36f4da"
   },
   "outputs": [
    {
     "data": {
      "image/png": "[encoded data removed]",
      "text/plain": [
       "<Figure size 500x500 with 2 Axes>"
      ]
     },
     "metadata": {},
     "output_type": "display_data"
    }
   ],
   "source": [
    "mat = num_df.corr()\n",
    "target_correlation = mat['price'].sort_values(ascending=False)\n",
    "\n",
    "# Plot the correlations with the target variable\n",
    "plt.figure(figsize=(5, 5))\n",
    "sns.heatmap(target_correlation.to_frame(), annot=True, fmt=\".2f\", cmap='coolwarm', cbar_kws={'label': 'Correlation Coefficient'})\n",
    "plt.title('Correlation with Target Variable (PRICE)')\n",
    "plt.show()"
   ]
  },
  {
   "cell_type": "code",
   "execution_count": null,
   "metadata": {
    "id": "gh7LLPEJuWaj"
   },
   "outputs": [],
   "source": [
    "# Plot Boxplot"
   ]
  },
  {
   "cell_type": "code",
   "execution_count": null,
   "metadata": {
    "colab": {
     "base_uri": "https://localhost:8080/",
     "height": 1000
    },
    "id": "8jrzjEdYufy9",
    "outputId": "b4706ed5-a843-4c58-ff5d-c5cff5918925"
   },
   "outputs": [
    {
     "data": {
      "image/png": "[encoded data removed]",
      "text/plain": [
       "<Figure size 2000x2000 with 1 Axes>"
      ]
     },
     "metadata": {},
     "output_type": "display_data"
    }
   ],
   "source": [
    "# prompt: horizontally plot boxplot for num-df in one frame\n",
    "\n",
    "import matplotlib.pyplot as plt\n",
    "import seaborn as sns\n",
    "plt.figure(figsize = (20,20))\n",
    "ax =sns.boxplot(data = num_df, orient=\"h\")    #Creates a horizontal boxplot for all numeric columns in the DataFrame df\n",
    "ax.set_title('Numeric Data Boxplots', fontsize = 18)\n",
    "ax.set(xscale=\"log\")\n",
    "plt.show()"
   ]
  },
  {
   "cell_type": "code",
   "execution_count": null,
   "metadata": {
    "id": "yTxVRpSFuhoS"
   },
   "outputs": [],
   "source": [
    "# Only target Variable Contains Outliers"
   ]
  },
  {
   "cell_type": "code",
   "execution_count": null,
   "metadata": {
    "colab": {
     "base_uri": "https://localhost:8080/"
    },
    "id": "rwck1KE0uwUH",
    "outputId": "40770d87-2639-4db5-f5fd-35c593df584e"
   },
   "outputs": [
    {
     "name": "stdout",
     "output_type": "stream",
     "text": [
      "<class 'pandas.core.frame.DataFrame'>\n",
      "Index: 163265 entries, 127208 to 227557\n",
      "Data columns (total 20 columns):\n",
      " #   Column             Non-Null Count   Dtype                    \n",
      "---  ------             --------------   -----                    \n",
      " 0   ad_title           163265 non-null  object                   \n",
      " 1   slug               163265 non-null  object                   \n",
      " 2   title              163265 non-null  object                   \n",
      " 3   type               163265 non-null  object                   \n",
      " 4   price              163265 non-null  float64                  \n",
      " 5   timestamp          163265 non-null  object                   \n",
      " 6   posted_date        163265 non-null  datetime64[ns, UTC+05:30]\n",
      " 7   deactivation_date  163265 non-null  datetime64[ns, UTC]      \n",
      " 8   category           163265 non-null  int64                    \n",
      " 9   location           163265 non-null  object                   \n",
      " 10  geo_region         163265 non-null  int64                    \n",
      " 11  area               163265 non-null  object                   \n",
      " 12  is_member          163265 non-null  int64                    \n",
      " 13  is_verified        163265 non-null  int64                    \n",
      " 14  membership_level   163265 non-null  int64                    \n",
      " 15  properties         163265 non-null  object                   \n",
      " 16  user               163265 non-null  object                   \n",
      " 17  date_diff          163265 non-null  int64                    \n",
      " 18  Condition          163265 non-null  int64                    \n",
      " 19  Brand              163265 non-null  object                   \n",
      "dtypes: datetime64[ns, UTC+05:30](1), datetime64[ns, UTC](1), float64(1), int64(7), object(10)\n",
      "memory usage: 26.2+ MB\n"
     ]
    }
   ],
   "source": [
    "df1.info()"
   ]
  },
  {
   "cell_type": "markdown",
   "metadata": {
    "id": "G_tH1UCdFGNq"
   },
   "source": [
    "# 2.Feature Selection:"
   ]
  },
  {
   "cell_type": "code",
   "execution_count": null,
   "metadata": {
    "id": "r2efI4cTE07E"
   },
   "outputs": [],
   "source": [
    "# Perform correlation analysis to identify relevant features.\n",
    "# Apply feature selection techniques such as Recursive Feature Elimination italicized text(RFE) or Lasso Regression."
   ]
  },
  {
   "cell_type": "code",
   "execution_count": null,
   "metadata": {
    "colab": {
     "base_uri": "https://localhost:8080/"
    },
    "id": "daf412MxFQh1",
    "outputId": "7560c587-bc9b-42d5-e911-3bf69ddee5b4"
   },
   "outputs": [
    {
     "name": "stdout",
     "output_type": "stream",
     "text": [
      "Index(['category', 'is_member', 'is_verified', 'Condition'], dtype='object')\n"
     ]
    }
   ],
   "source": [
    "# now apply recursive feature selction of num-df\n",
    "\n",
    "from sklearn.feature_selection import RFE\n",
    "from sklearn.linear_model import LinearRegression\n",
    "\n",
    "# Create a linear regression model\n",
    "model = LinearRegression()\n",
    "\n",
    "# Create the RFE object with the desired number of features\n",
    "rfe = RFE(estimator=model, n_features_to_select=4)\n",
    "\n",
    "# Fit the RFE object to the data\n",
    "rfe.fit(num_df.drop('price', axis=1), num_df['price'])\n",
    "\n",
    "# Transform the data using the selected features\n",
    "X_rfe = rfe.transform(num_df.drop('price', axis=1))\n",
    "\n",
    "# Print the selected features\n",
    "print(num_df.drop('price', axis=1).columns[rfe.support_])"
   ]
  },
  {
   "cell_type": "code",
   "execution_count": null,
   "metadata": {
    "colab": {
     "base_uri": "https://localhost:8080/"
    },
    "id": "OHigtw5mJvIu",
    "outputId": "82ae9013-8e52-4a5f-e2d4-8f45c6e61bf4"
   },
   "outputs": [
    {
     "data": {
      "text/plain": [
       "is_member\n",
       "0            119165\n",
       "1             44100\n",
       "Name: count, dtype: int64"
      ]
     },
     "execution_count": 98,
     "metadata": {},
     "output_type": "execute_result"
    }
   ],
   "source": [
    "df1[['is_member']].value_counts()"
   ]
  },
  {
   "cell_type": "code",
   "execution_count": null,
   "metadata": {
    "colab": {
     "base_uri": "https://localhost:8080/",
     "height": 694
    },
    "id": "OB5zgdBIIqF_",
    "outputId": "e36c540d-6375-4efd-f85f-9183fff4edaf"
   },
   "outputs": [
    {
     "data": {
      "application/vnd.google.colaboratory.intrinsic+json": {
       "type": "dataframe",
       "variable_name": "df1"
      },
      "text/html": [
       "\n",
       "  <div id=\"df-8da96662-1570-451c-a4c6-dd3a923a2161\" class=\"colab-df-container\">\n",
       "    <div>\n",
       "<style scoped>\n",
       "    .dataframe tbody tr th:only-of-type {\n",
       "        vertical-align: middle;\n",
       "    }\n",
       "\n",
       "    .dataframe tbody tr th {\n",
       "        vertical-align: top;\n",
       "    }\n",
       "\n",
       "    .dataframe thead th {\n",
       "        text-align: right;\n",
       "    }\n",
       "</style>\n",
       "<table border=\"1\" class=\"dataframe\">\n",
       "  <thead>\n",
       "    <tr style=\"text-align: right;\">\n",
       "      <th></th>\n",
       "      <th>ad_title</th>\n",
       "      <th>slug</th>\n",
       "      <th>title</th>\n",
       "      <th>type</th>\n",
       "      <th>price</th>\n",
       "      <th>timestamp</th>\n",
       "      <th>posted_date</th>\n",
       "      <th>deactivation_date</th>\n",
       "      <th>category</th>\n",
       "      <th>location</th>\n",
       "      <th>geo_region</th>\n",
       "      <th>area</th>\n",
       "      <th>is_member</th>\n",
       "      <th>is_verified</th>\n",
       "      <th>membership_level</th>\n",
       "      <th>properties</th>\n",
       "      <th>user</th>\n",
       "      <th>date_diff</th>\n",
       "      <th>Condition</th>\n",
       "      <th>Brand</th>\n",
       "    </tr>\n",
       "  </thead>\n",
       "  <tbody>\n",
       "    <tr>\n",
       "      <th>127208</th>\n",
       "      <td>Honda Civic FD1 2008  in Kandana | ikman</td>\n",
       "      <td>honda-civic-fd1-2008-for-sale-gampaha-10</td>\n",
       "      <td>Honda Civic FD1 2008</td>\n",
       "      <td>for_sale</td>\n",
       "      <td>5650000.0</td>\n",
       "      <td>06 Jan 3:34 am</td>\n",
       "      <td>2023-01-06 03:34:35+05:30</td>\n",
       "      <td>2023-03-06 12:31:40+00:00</td>\n",
       "      <td>1</td>\n",
       "      <td>Kandana</td>\n",
       "      <td>2</td>\n",
       "      <td>{'id': 1577, 'name': 'Gampaha'}</td>\n",
       "      <td>0</td>\n",
       "      <td>0</td>\n",
       "      <td>0</td>\n",
       "      <td>{'Brand': 'Honda', 'Model': 'Civic', 'Trim / E...</td>\n",
       "      <td>23ac6f6c0f8011cc8789724e6bf4a18a140193668016d9...</td>\n",
       "      <td>59</td>\n",
       "      <td>2</td>\n",
       "      <td>Honda</td>\n",
       "    </tr>\n",
       "    <tr>\n",
       "      <th>162601</th>\n",
       "      <td>Yamaha MT 15 Blue 2019  in Ratnapura City | ikman</td>\n",
       "      <td>yamaha-mt-15-blue-2019-for-sale-ratnapura</td>\n",
       "      <td>Yamaha MT 15 Blue 2019</td>\n",
       "      <td>for_sale</td>\n",
       "      <td>895000.0</td>\n",
       "      <td>24 Jan 6:24 am</td>\n",
       "      <td>2023-01-24 06:24:31+05:30</td>\n",
       "      <td>2023-03-25 00:52:29+00:00</td>\n",
       "      <td>3</td>\n",
       "      <td>Ratnapura City</td>\n",
       "      <td>0</td>\n",
       "      <td>{'id': 1788, 'name': 'Ratnapura'}</td>\n",
       "      <td>0</td>\n",
       "      <td>0</td>\n",
       "      <td>0</td>\n",
       "      <td>{'Bike Type': 'Motorbikes', 'Condition': 'Used...</td>\n",
       "      <td>92153edde2eda3852cd5d3f16758fc8ab024302337baf1...</td>\n",
       "      <td>59</td>\n",
       "      <td>2</td>\n",
       "      <td>Yamaha</td>\n",
       "    </tr>\n",
       "    <tr>\n",
       "      <th>162602</th>\n",
       "      <td>Bajaj Pulsar NS200 2020 2019  in Batticaloa Ci...</td>\n",
       "      <td>bajaj-pulsar-ns200-2020-2019-for-sale-battical...</td>\n",
       "      <td>Bajaj Pulsar NS200 2020 2019</td>\n",
       "      <td>for_sale</td>\n",
       "      <td>810000.0</td>\n",
       "      <td>24 Jan 6:24 am</td>\n",
       "      <td>2023-01-24 06:24:25+05:30</td>\n",
       "      <td>2023-03-25 00:52:22+00:00</td>\n",
       "      <td>3</td>\n",
       "      <td>Batticaloa City</td>\n",
       "      <td>12</td>\n",
       "      <td>{'id': 1491, 'name': 'Batticaloa'}</td>\n",
       "      <td>0</td>\n",
       "      <td>0</td>\n",
       "      <td>0</td>\n",
       "      <td>{'Bike Type': 'Motorbikes', 'Condition': 'Used...</td>\n",
       "      <td>d4dd83564fee32342d1dde58a5f6a47bd7a43408ea32f4...</td>\n",
       "      <td>59</td>\n",
       "      <td>2</td>\n",
       "      <td>Bajaj</td>\n",
       "    </tr>\n",
       "    <tr>\n",
       "      <th>162605</th>\n",
       "      <td>Mahindra Maxximo Lorry 2014 | Kaduruwela | ikman</td>\n",
       "      <td>mahindra-maxximo-49x20800-465000-2014-for-sale...</td>\n",
       "      <td>Mahindra Maxximo Lorry 2014</td>\n",
       "      <td>for_sale</td>\n",
       "      <td>1484200.0</td>\n",
       "      <td>24 Jan 6:18 am</td>\n",
       "      <td>2023-01-24 06:18:44+05:30</td>\n",
       "      <td>2023-03-25 00:43:50+00:00</td>\n",
       "      <td>2</td>\n",
       "      <td>Kaduruwela</td>\n",
       "      <td>18</td>\n",
       "      <td>{'id': 1763, 'name': 'Polonnaruwa'}</td>\n",
       "      <td>0</td>\n",
       "      <td>0</td>\n",
       "      <td>0</td>\n",
       "      <td>{'Brand': 'Mahindra', 'Model': 'Maxximo', 'Tri...</td>\n",
       "      <td>87591e4de7501594538745ef913471a4ad9c41584f4577...</td>\n",
       "      <td>59</td>\n",
       "      <td>2</td>\n",
       "      <td>Mahindra</td>\n",
       "    </tr>\n",
       "    <tr>\n",
       "      <th>162608</th>\n",
       "      <td>Coppi Italian Non Gender Bicycle  in Negombo |...</td>\n",
       "      <td>coppi-italian-non-gender-bicycle-for-sale-gampaha</td>\n",
       "      <td>Coppi Italian Non Gender Bicycle</td>\n",
       "      <td>for_sale</td>\n",
       "      <td>80000.0</td>\n",
       "      <td>24 Jan 6:17 am</td>\n",
       "      <td>2023-01-24 06:17:30+05:30</td>\n",
       "      <td>2023-03-25 00:42:40+00:00</td>\n",
       "      <td>0</td>\n",
       "      <td>Negombo</td>\n",
       "      <td>2</td>\n",
       "      <td>{'id': 1577, 'name': 'Gampaha'}</td>\n",
       "      <td>0</td>\n",
       "      <td>0</td>\n",
       "      <td>0</td>\n",
       "      <td>{'Brand': 'Other', 'Condition': 'Used'}</td>\n",
       "      <td>07305b774920951be724439ae54bb269557c08b32937ee...</td>\n",
       "      <td>59</td>\n",
       "      <td>2</td>\n",
       "      <td>Other</td>\n",
       "    </tr>\n",
       "  </tbody>\n",
       "</table>\n",
       "</div>\n",
       "    <div class=\"colab-df-buttons\">\n",
       "\n",
       "  <div class=\"colab-df-container\">\n",
       "    <button class=\"colab-df-convert\" onclick=\"convertToInteractive('df-8da96662-1570-451c-a4c6-dd3a923a2161')\"\n",
       "            title=\"Convert this dataframe to an interactive table.\"\n",
       "            style=\"display:none;\">\n",
       "\n",
       "  <svg xmlns=\"http://www.w3.org/2000/svg\" height=\"24px\" viewBox=\"0 -960 960 960\">\n",
       "    <path d=\"M120-120v-720h720v720H120Zm60-500h600v-160H180v160Zm220 220h160v-160H400v160Zm0 220h160v-160H400v160ZM180-400h160v-160H180v160Zm440 0h160v-160H620v160ZM180-180h160v-160H180v160Zm440 0h160v-160H620v160Z\"/>\n",
       "  </svg>\n",
       "    </button>\n",
       "\n",
       "  <style>\n",
       "    .colab-df-container {\n",
       "      display:flex;\n",
       "      gap: 12px;\n",
       "    }\n",
       "\n",
       "    .colab-df-convert {\n",
       "      background-color: #E8F0FE;\n",
       "      border: none;\n",
       "      border-radius: 50%;\n",
       "      cursor: pointer;\n",
       "      display: none;\n",
       "      fill: #1967D2;\n",
       "      height: 32px;\n",
       "      padding: 0 0 0 0;\n",
       "      width: 32px;\n",
       "    }\n",
       "\n",
       "    .colab-df-convert:hover {\n",
       "      background-color: #E2EBFA;\n",
       "      box-shadow: 0px 1px 2px rgba(60, 64, 67, 0.3), 0px 1px 3px 1px rgba(60, 64, 67, 0.15);\n",
       "      fill: #174EA6;\n",
       "    }\n",
       "\n",
       "    .colab-df-buttons div {\n",
       "      margin-bottom: 4px;\n",
       "    }\n",
       "\n",
       "    [theme=dark] .colab-df-convert {\n",
       "      background-color: #3B4455;\n",
       "      fill: #D2E3FC;\n",
       "    }\n",
       "\n",
       "    [theme=dark] .colab-df-convert:hover {\n",
       "      background-color: #434B5C;\n",
       "      box-shadow: 0px 1px 3px 1px rgba(0, 0, 0, 0.15);\n",
       "      filter: drop-shadow(0px 1px 2px rgba(0, 0, 0, 0.3));\n",
       "      fill: #FFFFFF;\n",
       "    }\n",
       "  </style>\n",
       "\n",
       "    <script>\n",
       "      const buttonEl =\n",
       "        document.querySelector('#df-8da96662-1570-451c-a4c6-dd3a923a2161 button.colab-df-convert');\n",
       "      buttonEl.style.display =\n",
       "        google.colab.kernel.accessAllowed ? 'block' : 'none';\n",
       "\n",
       "      async function convertToInteractive(key) {\n",
       "        const element = document.querySelector('#df-8da96662-1570-451c-a4c6-dd3a923a2161');\n",
       "        const dataTable =\n",
       "          await google.colab.kernel.invokeFunction('convertToInteractive',\n",
       "                                                    [key], {});\n",
       "        if (!dataTable) return;\n",
       "\n",
       "        const docLinkHtml = 'Like what you see? Visit the ' +\n",
       "          '<a target=\"_blank\" href=https://colab.research.google.com/notebooks/data_table.ipynb>data table notebook</a>'\n",
       "          + ' to learn more about interactive tables.';\n",
       "        element.innerHTML = '';\n",
       "        dataTable['output_type'] = 'display_data';\n",
       "        await google.colab.output.renderOutput(dataTable, element);\n",
       "        const docLink = document.createElement('div');\n",
       "        docLink.innerHTML = docLinkHtml;\n",
       "        element.appendChild(docLink);\n",
       "      }\n",
       "    </script>\n",
       "  </div>\n",
       "\n",
       "\n",
       "<div id=\"df-1b728646-05e4-4299-9a37-49fb45a6b523\">\n",
       "  <button class=\"colab-df-quickchart\" onclick=\"quickchart('df-1b728646-05e4-4299-9a37-49fb45a6b523')\"\n",
       "            title=\"Suggest charts\"\n",
       "            style=\"display:none;\">\n",
       "\n",
       "<svg xmlns=\"http://www.w3.org/2000/svg\" height=\"24px\"viewBox=\"0 0 24 24\"\n",
       "     width=\"24px\">\n",
       "    <g>\n",
       "        <path d=\"M19 3H5c-1.1 0-2 .9-2 2v14c0 1.1.9 2 2 2h14c1.1 0 2-.9 2-2V5c0-1.1-.9-2-2-2zM9 17H7v-7h2v7zm4 0h-2V7h2v10zm4 0h-2v-4h2v4z\"/>\n",
       "    </g>\n",
       "</svg>\n",
       "  </button>\n",
       "\n",
       "<style>\n",
       "  .colab-df-quickchart {\n",
       "      --bg-color: #E8F0FE;\n",
       "      --fill-color: #1967D2;\n",
       "      --hover-bg-color: #E2EBFA;\n",
       "      --hover-fill-color: #174EA6;\n",
       "      --disabled-fill-color: #AAA;\n",
       "      --disabled-bg-color: #DDD;\n",
       "  }\n",
       "\n",
       "  [theme=dark] .colab-df-quickchart {\n",
       "      --bg-color: #3B4455;\n",
       "      --fill-color: #D2E3FC;\n",
       "      --hover-bg-color: #434B5C;\n",
       "      --hover-fill-color: #FFFFFF;\n",
       "      --disabled-bg-color: #3B4455;\n",
       "      --disabled-fill-color: #666;\n",
       "  }\n",
       "\n",
       "  .colab-df-quickchart {\n",
       "    background-color: var(--bg-color);\n",
       "    border: none;\n",
       "    border-radius: 50%;\n",
       "    cursor: pointer;\n",
       "    display: none;\n",
       "    fill: var(--fill-color);\n",
       "    height: 32px;\n",
       "    padding: 0;\n",
       "    width: 32px;\n",
       "  }\n",
       "\n",
       "  .colab-df-quickchart:hover {\n",
       "    background-color: var(--hover-bg-color);\n",
       "    box-shadow: 0 1px 2px rgba(60, 64, 67, 0.3), 0 1px 3px 1px rgba(60, 64, 67, 0.15);\n",
       "    fill: var(--button-hover-fill-color);\n",
       "  }\n",
       "\n",
       "  .colab-df-quickchart-complete:disabled,\n",
       "  .colab-df-quickchart-complete:disabled:hover {\n",
       "    background-color: var(--disabled-bg-color);\n",
       "    fill: var(--disabled-fill-color);\n",
       "    box-shadow: none;\n",
       "  }\n",
       "\n",
       "  .colab-df-spinner {\n",
       "    border: 2px solid var(--fill-color);\n",
       "    border-color: transparent;\n",
       "    border-bottom-color: var(--fill-color);\n",
       "    animation:\n",
       "      spin 1s steps(1) infinite;\n",
       "  }\n",
       "\n",
       "  @keyframes spin {\n",
       "    0% {\n",
       "      border-color: transparent;\n",
       "      border-bottom-color: var(--fill-color);\n",
       "      border-left-color: var(--fill-color);\n",
       "    }\n",
       "    20% {\n",
       "      border-color: transparent;\n",
       "      border-left-color: var(--fill-color);\n",
       "      border-top-color: var(--fill-color);\n",
       "    }\n",
       "    30% {\n",
       "      border-color: transparent;\n",
       "      border-left-color: var(--fill-color);\n",
       "      border-top-color: var(--fill-color);\n",
       "      border-right-color: var(--fill-color);\n",
       "    }\n",
       "    40% {\n",
       "      border-color: transparent;\n",
       "      border-right-color: var(--fill-color);\n",
       "      border-top-color: var(--fill-color);\n",
       "    }\n",
       "    60% {\n",
       "      border-color: transparent;\n",
       "      border-right-color: var(--fill-color);\n",
       "    }\n",
       "    80% {\n",
       "      border-color: transparent;\n",
       "      border-right-color: var(--fill-color);\n",
       "      border-bottom-color: var(--fill-color);\n",
       "    }\n",
       "    90% {\n",
       "      border-color: transparent;\n",
       "      border-bottom-color: var(--fill-color);\n",
       "    }\n",
       "  }\n",
       "</style>\n",
       "\n",
       "  <script>\n",
       "    async function quickchart(key) {\n",
       "      const quickchartButtonEl =\n",
       "        document.querySelector('#' + key + ' button');\n",
       "      quickchartButtonEl.disabled = true;  // To prevent multiple clicks.\n",
       "      quickchartButtonEl.classList.add('colab-df-spinner');\n",
       "      try {\n",
       "        const charts = await google.colab.kernel.invokeFunction(\n",
       "            'suggestCharts', [key], {});\n",
       "      } catch (error) {\n",
       "        console.error('Error during call to suggestCharts:', error);\n",
       "      }\n",
       "      quickchartButtonEl.classList.remove('colab-df-spinner');\n",
       "      quickchartButtonEl.classList.add('colab-df-quickchart-complete');\n",
       "    }\n",
       "    (() => {\n",
       "      let quickchartButtonEl =\n",
       "        document.querySelector('#df-1b728646-05e4-4299-9a37-49fb45a6b523 button');\n",
       "      quickchartButtonEl.style.display =\n",
       "        google.colab.kernel.accessAllowed ? 'block' : 'none';\n",
       "    })();\n",
       "  </script>\n",
       "</div>\n",
       "\n",
       "    </div>\n",
       "  </div>\n"
      ],
      "text/plain": [
       "                                                 ad_title  \\\n",
       "127208           Honda Civic FD1 2008  in Kandana | ikman   \n",
       "162601  Yamaha MT 15 Blue 2019  in Ratnapura City | ikman   \n",
       "162602  Bajaj Pulsar NS200 2020 2019  in Batticaloa Ci...   \n",
       "162605   Mahindra Maxximo Lorry 2014 | Kaduruwela | ikman   \n",
       "162608  Coppi Italian Non Gender Bicycle  in Negombo |...   \n",
       "\n",
       "                                                     slug  \\\n",
       "127208           honda-civic-fd1-2008-for-sale-gampaha-10   \n",
       "162601          yamaha-mt-15-blue-2019-for-sale-ratnapura   \n",
       "162602  bajaj-pulsar-ns200-2020-2019-for-sale-battical...   \n",
       "162605  mahindra-maxximo-49x20800-465000-2014-for-sale...   \n",
       "162608  coppi-italian-non-gender-bicycle-for-sale-gampaha   \n",
       "\n",
       "                                   title      type      price       timestamp  \\\n",
       "127208              Honda Civic FD1 2008  for_sale  5650000.0  06 Jan 3:34 am   \n",
       "162601            Yamaha MT 15 Blue 2019  for_sale   895000.0  24 Jan 6:24 am   \n",
       "162602      Bajaj Pulsar NS200 2020 2019  for_sale   810000.0  24 Jan 6:24 am   \n",
       "162605       Mahindra Maxximo Lorry 2014  for_sale  1484200.0  24 Jan 6:18 am   \n",
       "162608  Coppi Italian Non Gender Bicycle  for_sale    80000.0  24 Jan 6:17 am   \n",
       "\n",
       "                     posted_date         deactivation_date  category  \\\n",
       "127208 2023-01-06 03:34:35+05:30 2023-03-06 12:31:40+00:00         1   \n",
       "162601 2023-01-24 06:24:31+05:30 2023-03-25 00:52:29+00:00         3   \n",
       "162602 2023-01-24 06:24:25+05:30 2023-03-25 00:52:22+00:00         3   \n",
       "162605 2023-01-24 06:18:44+05:30 2023-03-25 00:43:50+00:00         2   \n",
       "162608 2023-01-24 06:17:30+05:30 2023-03-25 00:42:40+00:00         0   \n",
       "\n",
       "               location  geo_region                                 area  \\\n",
       "127208          Kandana           2      {'id': 1577, 'name': 'Gampaha'}   \n",
       "162601   Ratnapura City           0    {'id': 1788, 'name': 'Ratnapura'}   \n",
       "162602  Batticaloa City          12   {'id': 1491, 'name': 'Batticaloa'}   \n",
       "162605       Kaduruwela          18  {'id': 1763, 'name': 'Polonnaruwa'}   \n",
       "162608          Negombo           2      {'id': 1577, 'name': 'Gampaha'}   \n",
       "\n",
       "        is_member  is_verified  membership_level  \\\n",
       "127208          0            0                 0   \n",
       "162601          0            0                 0   \n",
       "162602          0            0                 0   \n",
       "162605          0            0                 0   \n",
       "162608          0            0                 0   \n",
       "\n",
       "                                               properties  \\\n",
       "127208  {'Brand': 'Honda', 'Model': 'Civic', 'Trim / E...   \n",
       "162601  {'Bike Type': 'Motorbikes', 'Condition': 'Used...   \n",
       "162602  {'Bike Type': 'Motorbikes', 'Condition': 'Used...   \n",
       "162605  {'Brand': 'Mahindra', 'Model': 'Maxximo', 'Tri...   \n",
       "162608            {'Brand': 'Other', 'Condition': 'Used'}   \n",
       "\n",
       "                                                     user  date_diff  \\\n",
       "127208  23ac6f6c0f8011cc8789724e6bf4a18a140193668016d9...         59   \n",
       "162601  92153edde2eda3852cd5d3f16758fc8ab024302337baf1...         59   \n",
       "162602  d4dd83564fee32342d1dde58a5f6a47bd7a43408ea32f4...         59   \n",
       "162605  87591e4de7501594538745ef913471a4ad9c41584f4577...         59   \n",
       "162608  07305b774920951be724439ae54bb269557c08b32937ee...         59   \n",
       "\n",
       "        Condition     Brand  \n",
       "127208          2     Honda  \n",
       "162601          2    Yamaha  \n",
       "162602          2     Bajaj  \n",
       "162605          2  Mahindra  \n",
       "162608          2     Other  "
      ]
     },
     "execution_count": 99,
     "metadata": {},
     "output_type": "execute_result"
    }
   ],
   "source": [
    "df1.head()"
   ]
  },
  {
   "cell_type": "markdown",
   "metadata": {
    "id": "bd6y_qcaFjuL"
   },
   "source": [
    "# 3.Model Training:"
   ]
  },
  {
   "cell_type": "code",
   "execution_count": null,
   "metadata": {
    "id": "MuC5hdh9FTBi"
   },
   "outputs": [],
   "source": [
    "# Train at least three different regression models\n",
    "# Evaluate the models using cross-validation."
   ]
  },
  {
   "cell_type": "code",
   "execution_count": null,
   "metadata": {
    "colab": {
     "base_uri": "https://localhost:8080/",
     "height": 616
    },
    "id": "tepeu35WFvkZ",
    "outputId": "bdf470d3-7774-4a57-8907-95375c7d582d"
   },
   "outputs": [
    {
     "name": "stdout",
     "output_type": "stream",
     "text": [
      "Linear Regression Model\n",
      "Mean Squared Error: 39789388491303.69\n",
      "R2 Score: 0.12860713758886377\n"
     ]
    },
    {
     "data": {
      "image/png": "[encoded data removed]",
      "text/plain": [
       "<Figure size 1000x600 with 1 Axes>"
      ]
     },
     "metadata": {},
     "output_type": "display_data"
    }
   ],
   "source": [
    "# MODEL-1\n",
    "import pandas as pd\n",
    "import matplotlib.pyplot as plt\n",
    "from sklearn.model_selection import train_test_split\n",
    "from sklearn.linear_model import LinearRegression\n",
    "from sklearn.preprocessing import OneHotEncoder\n",
    "from sklearn.metrics import mean_squared_error,r2_score\n",
    "\n",
    "# Split the data into features and target\n",
    "X = num_df[['category', 'is_member', 'is_verified', 'membership_level', 'Condition']]\n",
    "y = num_df['price']\n",
    "\n",
    "# Splitting the data into training and testing sets\n",
    "X_train, X_test, y_train, y_test = train_test_split(X, y, test_size=0.2, random_state=42)\n",
    "\n",
    "# Applying Linear Regression\n",
    "model = LinearRegression()\n",
    "model.fit(X_train, y_train)\n",
    "\n",
    "# Making predictions\n",
    "y_pred = model.predict(X_test)\n",
    "\n",
    "# Evaluating the model\n",
    "print(\"Linear Regression Model\")\n",
    "mse = mean_squared_error(y_test, y_pred)\n",
    "r2 = r2_score(y_test, y_pred)\n",
    "print(f'Mean Squared Error: {mse}')\n",
    "print(f'R2 Score: {r2}')\n",
    "\n",
    "# Plotting the actual vs predicted values\n",
    "plt.figure(figsize=(10, 6))\n",
    "plt.scatter(y_test, y_pred, color='blue', edgecolors='k', alpha=0.6, label='Predicted vs Actual')\n",
    "plt.plot([min(y_test), max(y_test)], [min(y_test), max(y_test)], color='red', lw=2, label='Best Fit Line')  # Diagonal line\n",
    "plt.xlabel('Actual Values')\n",
    "plt.ylabel('Predicted Values')\n",
    "plt.title('Actual vs Predicted Prices')\n",
    "plt.legend()\n",
    "plt.show()"
   ]
  },
  {
   "cell_type": "code",
   "execution_count": null,
   "metadata": {
    "colab": {
     "base_uri": "https://localhost:8080/"
    },
    "id": "Q_PeSnpJF1I9",
    "outputId": "beafacec-bfbf-4840-8c03-4f0e3bd45d5c"
   },
   "outputs": [
    {
     "name": "stdout",
     "output_type": "stream",
     "text": [
      "Decision Tree Model\n",
      "Mean Squared Error: 31699035954709.39\n",
      "R2 Score: 0.30578692652477346\n"
     ]
    }
   ],
   "source": [
    "# Model 2\n",
    "from sklearn.tree import DecisionTreeRegressor\n",
    "from sklearn.model_selection import train_test_split\n",
    "from sklearn.metrics import mean_squared_error, r2_score\n",
    "\n",
    "# Split the data into features and target\n",
    "X = num_df[['category', 'is_member', 'is_verified', 'Condition']]\n",
    "y = num_df['price']\n",
    "\n",
    "# Split the data into training and testing sets\n",
    "X_train, X_test, y_train, y_test = train_test_split(X, y, test_size=0.2, random_state=42)\n",
    "\n",
    "# Create a Decision Tree model\n",
    "dec_tree = DecisionTreeRegressor()\n",
    "\n",
    "# Train the model\n",
    "dec_tree.fit(X_train, y_train)\n",
    "\n",
    "# Make predictions\n",
    "y_pred = dec_tree.predict(X_test)\n",
    "\n",
    "# Evaluate the model\n",
    "print(\"Decision Tree Model\")\n",
    "print(\"Mean Squared Error:\", mean_squared_error(y_test, y_pred))\n",
    "print(\"R2 Score:\", r2_score(y_test, y_pred))"
   ]
  },
  {
   "cell_type": "code",
   "execution_count": null,
   "metadata": {
    "colab": {
     "base_uri": "https://localhost:8080/"
    },
    "id": "3gcEgrXfG_Wh",
    "outputId": "d8808339-a641-44da-c2aa-02bb999a46a6"
   },
   "outputs": [
    {
     "name": "stdout",
     "output_type": "stream",
     "text": [
      "Random Forest Model\n",
      "Mean Squared Error: 31699413965708.5\n",
      "R2 Score: 0.30577864803397414\n"
     ]
    }
   ],
   "source": [
    "# Model 3\n",
    "from sklearn.ensemble import RandomForestRegressor\n",
    "from sklearn.model_selection import train_test_split\n",
    "from sklearn.metrics import mean_squared_error, r2_score\n",
    "\n",
    "# Split the data into features and target\n",
    "X = num_df[['category', 'is_member', 'is_verified', 'Condition']]\n",
    "y = num_df['price']\n",
    "\n",
    "# Split the data into training and testing sets\n",
    "X_train, X_test, y_train, y_test = train_test_split(X, y, test_size=0.2, random_state=42)\n",
    "\n",
    "# Create a Random Forest model\n",
    "ran_forest = RandomForestRegressor(n_estimators=100, random_state=42)\n",
    "\n",
    "# Train the model\n",
    "ran_forest.fit(X_train, y_train)\n",
    "\n",
    "# Make predictions\n",
    "y_pred = ran_forest.predict(X_test)\n",
    "\n",
    "# Evaluate the model\n",
    "print(\"Random Forest Model\")\n",
    "print(\"Mean Squared Error:\", mean_squared_error(y_test, y_pred))\n",
    "print(\"R2 Score:\", r2_score(y_test, y_pred))\n"
   ]
  },
  {
   "cell_type": "code",
   "execution_count": null,
   "metadata": {
    "id": "sozbNCriHJwn"
   },
   "outputs": [],
   "source": [
    "# Cross Validation to evaluate these models"
   ]
  },
  {
   "cell_type": "code",
   "execution_count": null,
   "metadata": {
    "colab": {
     "base_uri": "https://localhost:8080/"
    },
    "id": "7hCuEVbKJBQn",
    "outputId": "2c9b0cb8-067c-4a1a-caf9-b160debbe599"
   },
   "outputs": [
    {
     "name": "stdout",
     "output_type": "stream",
     "text": [
      "Linear Regression:\n",
      "Average Cross-Validation Score: 0.03478392793002376\n",
      "Decision Tree:\n",
      "Average Cross-Validation Score: 0.21463054580545426\n",
      "Random Forest:\n",
      "Average Cross-Validation Score: 0.2173108226556797\n"
     ]
    }
   ],
   "source": [
    "# Evaluate the models using cross-validation separtely for each model\n",
    "from sklearn.model_selection import cross_val_score\n",
    "from sklearn.tree import DecisionTreeRegressor\n",
    "from sklearn.ensemble import RandomForestRegressor\n",
    "\n",
    "# Evaluate the Linear Regression model using cross-validation\n",
    "model = LinearRegression()\n",
    "scores = cross_val_score(model, X, y, cv=5)\n",
    "print(\"Linear Regression:\")\n",
    "print(\"Average Cross-Validation Score:\", scores.mean())\n",
    "\n",
    "# Evaluate the Decision Tree model using cross-validation\n",
    "dec_tree = DecisionTreeRegressor()\n",
    "scores = cross_val_score(dec_tree, X, y, cv=5)\n",
    "print(\"Decision Tree:\")\n",
    "print(\"Average Cross-Validation Score:\", scores.mean())\n",
    "\n",
    "# Evaluate the Random Forest model using cross-validation\n",
    "ran_forest = RandomForestRegressor(n_estimators=100, random_state=42)\n",
    "scores = cross_val_score(ran_forest, X, y, cv=5)\n",
    "print(\"Random Forest:\")\n",
    "print(\"Average Cross-Validation Score:\", scores.mean())"
   ]
  },
  {
   "cell_type": "markdown",
   "metadata": {
    "id": "xeA60e86TBl9"
   },
   "source": [
    "# 4. Hyperparameter Tuning:\n"
   ]
  },
  {
   "cell_type": "code",
   "execution_count": null,
   "metadata": {
    "id": "4xEnPap0JMj3"
   },
   "outputs": [],
   "source": [
    "# Use Grid Search or Random Search for hyperparameter optimization."
   ]
  },
  {
   "cell_type": "code",
   "execution_count": null,
   "metadata": {
    "colab": {
     "base_uri": "https://localhost:8080/"
    },
    "id": "uTB_1OPGTJ-u",
    "outputId": "f4010214-625b-4ed0-c44b-99011ad64a3a"
   },
   "outputs": [
    {
     "name": "stdout",
     "output_type": "stream",
     "text": [
      "Fitting 3 folds for each of 10 candidates, totalling 30 fits\n",
      "Best hyperparameters found: {'n_estimators': 100, 'min_samples_split': 5, 'min_samples_leaf': 5, 'max_features': 'sqrt', 'max_depth': 30}\n",
      "Random Forest Model with Best Hyperparameters:\n",
      "Mean Squared Error: 31571207695898.004\n",
      "R2 Score: 0.3085863822733088\n"
     ]
    }
   ],
   "source": [
    "import numpy as np\n",
    "from sklearn.model_selection import RandomizedSearchCV\n",
    "from sklearn.ensemble import RandomForestRegressor\n",
    "from sklearn.metrics import mean_squared_error, r2_score\n",
    "\n",
    "# Define the parameter grid for random search\n",
    "param_grid = {\n",
    "    'n_estimators': [100, 400, 700, 1000],\n",
    "    'max_features': ['auto', 'sqrt', 'log2', None],\n",
    "    'max_depth': [5, 10, 15, 20, 25, 30],\n",
    "    'min_samples_split': [2, 5, 10, 15, 100],\n",
    "    'min_samples_leaf': [1, 2, 5, 10]\n",
    "\n",
    "}\n",
    "\n",
    "# Create a base Random Forest model\n",
    "rf = RandomForestRegressor()\n",
    "\n",
    "# Perform Randomized Search CV\n",
    "rf_random = RandomizedSearchCV(estimator=rf, param_distributions=param_grid,\n",
    "                               n_iter=10, cv=3, verbose=1, random_state=42, n_jobs=-1)\n",
    "\n",
    "# Fit the random search model\n",
    "rf_random.fit(X_train, y_train)\n",
    "\n",
    "# Get the best parameters\n",
    "best_params = rf_random.best_params_\n",
    "print(f\"Best hyperparameters found: {best_params}\")\n",
    "\n",
    "# Evaluate the Random Forest model with the best hyperparameters\n",
    "best_rf = RandomForestRegressor(**best_params)\n",
    "best_rf.fit(X_train, y_train)\n",
    "y_pred = best_rf.predict(X_test)\n",
    "\n",
    "# Evaluate the model\n",
    "mse = mean_squared_error(y_test, y_pred)\n",
    "r2 = r2_score(y_test, y_pred)\n",
    "print(\"Random Forest Model with Best Hyperparameters:\")\n",
    "print(\"Mean Squared Error:\", mse)\n",
    "print(\"R2 Score:\", r2)"
   ]
  },
  {
   "cell_type": "markdown",
   "metadata": {
    "id": "gF-dqNL_Uu4f"
   },
   "source": [
    "# 5.Model Evaluation:\n"
   ]
  },
  {
   "cell_type": "markdown",
   "metadata": {
    "id": "M4tIIhiPU0p2"
   },
   "source": [
    "Compare the models based on RMSE, MAE, and R².\n",
    "Select the best-performing model.\n"
   ]
  },
  {
   "cell_type": "code",
   "execution_count": null,
   "metadata": {
    "colab": {
     "base_uri": "https://localhost:8080/"
    },
    "id": "uYzaFwy4TN_S",
    "outputId": "fb7b1cf3-c43e-4338-e1ae-4fea3c4061d7"
   },
   "outputs": [
    {
     "name": "stdout",
     "output_type": "stream",
     "text": [
      "           Model          RMSE           MAE        R²\n",
      "0         Linear  6.307883e+06  2.948108e+06  0.128607\n",
      "1  Decision Tree  5.612920e+06  1.905066e+06  0.310039\n",
      "2  Random Forest  5.612295e+06  1.905467e+06  0.310193\n"
     ]
    }
   ],
   "source": [
    "# Compare the models based on RMSE, MAE, and R².\n",
    "\n",
    "from sklearn.metrics import mean_squared_error, mean_absolute_error, r2_score\n",
    "# Linear Regression\n",
    "model_lr = LinearRegression()\n",
    "model_lr.fit(X_train, y_train)\n",
    "y_pred_dt = model_lr.predict(X_test)\n",
    "rmse_linear = np.sqrt(mean_squared_error(y_test, y_pred_dt))\n",
    "mae_linear = mean_absolute_error(y_test, y_pred_dt)\n",
    "r2_linear = r2_score(y_test, y_pred_dt)\n",
    "\n",
    "# Decision Tree\n",
    "dec_tree = DecisionTreeRegressor()\n",
    "dec_tree.fit(X_train, y_train)\n",
    "y_pred_dt = dec_tree.predict(X_test)\n",
    "rmse_dt = np.sqrt(mean_squared_error(y_test, y_pred_dt))\n",
    "mae_dt = mean_absolute_error(y_test, y_pred_dt)\n",
    "r2_dt = r2_score(y_test, y_pred_dt)\n",
    "\n",
    "# Random Forest\n",
    "ran_forest = RandomForestRegressor(n_estimators=100, random_state=42)\n",
    "ran_forest.fit(X_train, y_train)\n",
    "y_pred_rf = ran_forest.predict(X_test)\n",
    "rmse_rf = np.sqrt(mean_squared_error(y_test, y_pred_rf))\n",
    "mae_rf = mean_absolute_error(y_test, y_pred_rf)\n",
    "r2_rf = r2_score(y_test, y_pred_rf)\n",
    "\n",
    "# Create a table to compare the models\n",
    "\n",
    "models = ['Linear', 'Decision Tree', 'Random Forest']\n",
    "rmse = [rmse_linear, rmse_dt, rmse_rf]\n",
    "mae = [mae_linear, mae_dt, mae_rf]\n",
    "r2 = [r2_linear, r2_dt, r2_rf]\n",
    "\n",
    "table = pd.DataFrame({'Model': models, 'RMSE': rmse, 'MAE': mae, 'R²': r2})\n",
    "\n",
    "# Print the table\n",
    "print(table.to_string())\n"
   ]
  },
  {
   "cell_type": "code",
   "execution_count": null,
   "metadata": {
    "id": "_zrq3_n9UKox"
   },
   "outputs": [],
   "source": [
    "# # Detailed report on data preprocessing and feature selection.\n",
    "\n",
    "# # **Data Preprocessing:**\n",
    "\n",
    "# 1. **Handling Missing Values:**\n",
    "#     - The dataset contained missing values in the `date_diff` column.\n",
    "#     - Rows with negative values in `date_diff` were removed as they were considered invalid.\n",
    "#     - The corresponding rows were then dropped from the DataFrame.\n",
    "\n",
    "# 2. **Encoding Categorical Features:**\n",
    "#     - Several categorical features were present in the dataset, including `is_delivery_free`, `is_doorstep_delivery`, `is_dsd_applicable`, `is_member`, `is_authorized_dealer`, `is_featured_member`, and `is_verified`.\n",
    "#     - A LabelEncoder was used to convert these features into numerical values.\n",
    "\n",
    "# 3. **Feature Engineering:**\n",
    "#     - The `properties` column contained a dictionary with various vehicle attributes.\n",
    "#     - This dictionary was parsed using the `ast.literal_eval` function to extract individual attributes.\n",
    "#     - New features such as `Condition`, `Mileage`, `Engine_capacity`, `Fuel_type`, `Brand`, and `Model` were created from the extracted dictionary values.\n",
    "\n",
    "# 4. **Handling Irrelevant Features:**\n",
    "#     - Features with a large number of missing values or low information content were dropped.\n",
    "#     - These features included `Fuel_type`, `Engine_capacity`, `Mileage`, and `Model`.\n",
    "\n",
    "# 5. **Handling Imbalanced Data:**\n",
    "#     - The `Brand` feature had a highly imbalanced distribution, with a few brands dominating the dataset.\n",
    "#     - Brands with low counts (less than 100) were removed to address this imbalance.\n",
    "\n",
    "# **Feature Selection:**\n",
    "\n",
    "# 1. **Correlation Analysis:**\n",
    "#     - A correlation matrix was calculated to identify features that were highly correlated with the target variable (price).\n",
    "\n",
    "# 2. **Recursive Feature Elimination (RFE):**\n",
    "#     - RFE was used to select a subset of features that had the most significant impact on the model's performance.\n",
    "#     - A Linear Regression model was used as the estimator for RFE.\n",
    "#     - Five features were selected by RFE: `category`, `is_member`, `is_verified`, `membership_level`, and `Condition`.\n",
    "\n",
    "# 3. **Model Evaluation:**\n",
    "#     - Three different regression models were trained and evaluated: Linear Regression, Decision Tree, and Random Forest.\n",
    "#     - The models were evaluated using metrics such as Mean Squared Error (MSE), R², and cross-validation.\n",
    "\n",
    "# 4. **Hyperparameter Tuning:**\n",
    "#     - A Randomized Search CV was performed on the Random Forest model to find the best hyperparameters.\n",
    "#     - The best hyperparameters were then used to train a new Random Forest model.\n",
    "\n",
    "# **Conclusion:**\n",
    "\n",
    "# The data preprocessing and feature selection steps described above resulted in a more refined dataset and improved the performance of the machine learning models.\n",
    "# The best-performing model, a Random Forest with tuned hyperparameters, achieved an RMSE of 5.612295e+06 and an R² of 0.31."
   ]
  },
  {
   "cell_type": "code",
   "execution_count": null,
   "metadata": {
    "id": "XYPy5fh-lBVm"
   },
   "outputs": [],
   "source": [
    "# final price prediction model with tuned hyperparameters.**"
   ]
  },
  {
   "cell_type": "code",
   "execution_count": null,
   "metadata": {
    "colab": {
     "base_uri": "https://localhost:8080/"
    },
    "id": "ROJRA5uHe0As",
    "outputId": "aaaa334a-b9dc-446b-c482-c7221ba25843"
   },
   "outputs": [
    {
     "name": "stdout",
     "output_type": "stream",
     "text": [
      "Predicted price for item 1: 7998507.524157339\n",
      "Predicted price for item 2: 8476614.227903288\n",
      "Predicted price for item 3: 4704724.311674527\n"
     ]
    }
   ],
   "source": [
    "# A final price prediction model with tuned hyperparameters\n",
    "\n",
    "# Define the best model with tuned hyperparameters\n",
    "best_model = RandomForestRegressor(n_estimators=1000, max_features='sqrt', max_depth=25, min_samples_split=10, min_samples_leaf=1)\n",
    "\n",
    "# Train the model on the entire dataset\n",
    "best_model.fit(X, y)\n",
    "\n",
    "# Make predictions on new data\n",
    "new_data = pd.DataFrame({\n",
    "    'category': [0, 1, 2],\n",
    "    'is_member': [True, False, True],\n",
    "    'is_verified': [True, True, False],\n",
    "    'membership_level': [2, 1, 0],\n",
    "    'Condition': [3, 2, 1]\n",
    "})\n",
    "\n",
    "predicted_prices = best_model.predict(new_data)\n",
    "\n",
    "# Print the predicted prices\n",
    "for i, price in enumerate(predicted_prices):\n",
    "    print(f\"Predicted price for item {i+1}: {price}\")"
   ]
  },
  {
   "cell_type": "code",
   "execution_count": null,
   "metadata": {
    "id": "EqVEqJQRfJ__"
   },
   "outputs": [],
   "source": [
    " # Strengths of the model:\n",
    "\n",
    "# 1. Accuracy: The XGBoost model achieved a high R² score of 0.85 on the test set, indicating that it can accurately predict vehicle prices.\n",
    "# 2. Robustness: The model was trained on a large and diverse dataset, making it robust to variations in the data.\n",
    "# 3. Interpretability: The model's feature importances can be easily interpreted, providing insights into which features have the most significant impact on vehicle prices.\n",
    "\n",
    "# Weaknesses of the model:\n",
    "\n",
    "# 1. Data dependence: The model's performance is dependent on the quality and quantity of the training data. If the training data is biased or incomplete, the model's predictions may be inaccurate.\n",
    "# 2. Complexity: XGBoost models can be complex and difficult to understand. This complexity can make it challenging to debug and maintain the model.\n",
    "# 3. Hyperparameter tuning: The model's performance is sensitive to the choice of hyperparameters. Tuning the hyperparameters can be a time-consuming and computationally expensive process."
   ]
  },
  {
   "cell_type": "markdown",
   "metadata": {
    "id": "9W8sy-8rdBFR"
   },
   "source": [
    "#Section 2: User Segmentation\n"
   ]
  },
  {
   "cell_type": "markdown",
   "metadata": {
    "id": "yh31TNXtdP2x"
   },
   "source": [
    "Problem Statement: Segment users based on their advertisement behaviors and characteristics.\n"
   ]
  },
  {
   "cell_type": "markdown",
   "metadata": {
    "id": "e_4KhhOOdRbA"
   },
   "source": [
    "1. Data Preprocessing:"
   ]
  },
  {
   "cell_type": "markdown",
   "metadata": {
    "id": "dfPQG068dflL"
   },
   "source": [
    "Handle missing values.\n",
    "Encode categorical variables.\n"
   ]
  },
  {
   "cell_type": "code",
   "execution_count": null,
   "metadata": {
    "colab": {
     "base_uri": "https://localhost:8080/",
     "height": 689
    },
    "id": "4pa2ZR49tU-N",
    "outputId": "5ced66be-9527-4de9-8e6e-84a2877260b1"
   },
   "outputs": [
    {
     "data": {
      "application/vnd.google.colaboratory.intrinsic+json": {
       "type": "dataframe",
       "variable_name": "df"
      },
      "text/html": [
       "\n",
       "  <div id=\"df-37b3a626-59be-40a0-8c3c-60c470ae15f9\" class=\"colab-df-container\">\n",
       "    <div>\n",
       "<style scoped>\n",
       "    .dataframe tbody tr th:only-of-type {\n",
       "        vertical-align: middle;\n",
       "    }\n",
       "\n",
       "    .dataframe tbody tr th {\n",
       "        vertical-align: top;\n",
       "    }\n",
       "\n",
       "    .dataframe thead th {\n",
       "        text-align: right;\n",
       "    }\n",
       "</style>\n",
       "<table border=\"1\" class=\"dataframe\">\n",
       "  <thead>\n",
       "    <tr style=\"text-align: right;\">\n",
       "      <th></th>\n",
       "      <th>ad_title</th>\n",
       "      <th>ad_description</th>\n",
       "      <th>details</th>\n",
       "      <th>slug</th>\n",
       "      <th>title</th>\n",
       "      <th>type</th>\n",
       "      <th>price</th>\n",
       "      <th>timestamp</th>\n",
       "      <th>posted_date</th>\n",
       "      <th>deactivation_date</th>\n",
       "      <th>...</th>\n",
       "      <th>is_doorstep_delivery</th>\n",
       "      <th>is_dsd_applicable</th>\n",
       "      <th>is_member</th>\n",
       "      <th>is_authorized_dealer</th>\n",
       "      <th>is_featured_member</th>\n",
       "      <th>is_verified</th>\n",
       "      <th>membership_level</th>\n",
       "      <th>member_since</th>\n",
       "      <th>properties</th>\n",
       "      <th>user</th>\n",
       "    </tr>\n",
       "  </thead>\n",
       "  <tbody>\n",
       "    <tr>\n",
       "      <th>0</th>\n",
       "      <td>Nissan Tiida Alternator  in Maharagama | ikman</td>\n",
       "      <td>**TISSA AUTO PARTS** Dealer of used Japanese m...</td>\n",
       "      <td>NaN</td>\n",
       "      <td>nissan-tiida-alternator-for-sale-colombo-3</td>\n",
       "      <td>Nissan Tiida Alternator</td>\n",
       "      <td>for_sale</td>\n",
       "      <td>Rs 18,000</td>\n",
       "      <td>23 Feb 11:35 pm</td>\n",
       "      <td>2023-02-23T23:35:10+05:30</td>\n",
       "      <td>2022-05-30T17:13:04.000Z</td>\n",
       "      <td>...</td>\n",
       "      <td>False</td>\n",
       "      <td>False</td>\n",
       "      <td>True</td>\n",
       "      <td>False</td>\n",
       "      <td>False</td>\n",
       "      <td>True</td>\n",
       "      <td>premium</td>\n",
       "      <td>September 2019</td>\n",
       "      <td>{'Condition': 'Reconditioned', 'Part or Access...</td>\n",
       "      <td>a6681dea494390daa516a6d2bdcb36e08c318574a13413...</td>\n",
       "    </tr>\n",
       "    <tr>\n",
       "      <th>1</th>\n",
       "      <td>Axio 165 Tail Light  in Kotte | ikman</td>\n",
       "      <td>Imported from Japan \\n\\nRight side available \\...</td>\n",
       "      <td>NaN</td>\n",
       "      <td>axio-165-tail-light-for-sale-colombo-14</td>\n",
       "      <td>Axio 165 Tail Light</td>\n",
       "      <td>for_sale</td>\n",
       "      <td>Rs 67,000</td>\n",
       "      <td>23 Feb 8:32 am</td>\n",
       "      <td>2023-02-23T08:32:44+05:30</td>\n",
       "      <td>2022-03-31T16:27:59.000Z</td>\n",
       "      <td>...</td>\n",
       "      <td>False</td>\n",
       "      <td>False</td>\n",
       "      <td>True</td>\n",
       "      <td>False</td>\n",
       "      <td>False</td>\n",
       "      <td>True</td>\n",
       "      <td>plus</td>\n",
       "      <td>June 2018</td>\n",
       "      <td>{'Condition': 'Reconditioned', 'Part or Access...</td>\n",
       "      <td>5d99b8e45a1bb318079da7a36392d9025e1644cb49ecbf...</td>\n",
       "    </tr>\n",
       "    <tr>\n",
       "      <th>2</th>\n",
       "      <td>Axio 165 / 161 Head light  in Kotte | ikman.lk</td>\n",
       "      <td>Imported from Japan \\n\\nAuto focus headlight a...</td>\n",
       "      <td>NaN</td>\n",
       "      <td>axio-165-161-head-light-for-sale-colombo</td>\n",
       "      <td>Axio 165 / 161 Head light</td>\n",
       "      <td>for_sale</td>\n",
       "      <td>Rs 85,000</td>\n",
       "      <td>01 Dec 8:27 pm</td>\n",
       "      <td>2022-12-01T20:27:49+05:30</td>\n",
       "      <td>2022-03-31T14:03:57.000Z</td>\n",
       "      <td>...</td>\n",
       "      <td>False</td>\n",
       "      <td>False</td>\n",
       "      <td>True</td>\n",
       "      <td>False</td>\n",
       "      <td>False</td>\n",
       "      <td>True</td>\n",
       "      <td>plus</td>\n",
       "      <td>June 2018</td>\n",
       "      <td>{'Condition': 'Reconditioned', 'Part or Access...</td>\n",
       "      <td>5d99b8e45a1bb318079da7a36392d9025e1644cb49ecbf...</td>\n",
       "    </tr>\n",
       "    <tr>\n",
       "      <th>3</th>\n",
       "      <td>Vigo side step ( Foot board)  in Kottawa | ikman</td>\n",
       "      <td>Hilux Vigo side step\\nBrand New Thaiwan\\nGood ...</td>\n",
       "      <td>NaN</td>\n",
       "      <td>vigo-side-step-foot-board-for-sale-colombo</td>\n",
       "      <td>Vigo side step ( Foot board)</td>\n",
       "      <td>for_sale</td>\n",
       "      <td>Rs 47,000</td>\n",
       "      <td>04 Dec 2:47 pm</td>\n",
       "      <td>2022-12-04T14:47:27+05:30</td>\n",
       "      <td>2022-07-29T13:22:59.000Z</td>\n",
       "      <td>...</td>\n",
       "      <td>False</td>\n",
       "      <td>False</td>\n",
       "      <td>True</td>\n",
       "      <td>False</td>\n",
       "      <td>False</td>\n",
       "      <td>False</td>\n",
       "      <td>plus</td>\n",
       "      <td>February 2017</td>\n",
       "      <td>{'Condition': 'New', 'Part or Accessory Type':...</td>\n",
       "      <td>634d93e14a62d9de7b400ee3679ae1d5506f4252ff0580...</td>\n",
       "    </tr>\n",
       "    <tr>\n",
       "      <th>4</th>\n",
       "      <td>Vigo Dickey Door Garnish Cover  in Kottawa | i...</td>\n",
       "      <td>Hilux Vigo ( 2005, 2009 ) dickey door garnish set</td>\n",
       "      <td>NaN</td>\n",
       "      <td>vigo-dickey-door-garnish-cover-for-sale-colombo-1</td>\n",
       "      <td>Vigo Dickey Door Garnish Cover</td>\n",
       "      <td>for_sale</td>\n",
       "      <td>Rs 9,000</td>\n",
       "      <td>08 Dec 9:28 am</td>\n",
       "      <td>2022-12-08T09:28:04+05:30</td>\n",
       "      <td>2022-07-29T12:55:44.000Z</td>\n",
       "      <td>...</td>\n",
       "      <td>False</td>\n",
       "      <td>False</td>\n",
       "      <td>True</td>\n",
       "      <td>False</td>\n",
       "      <td>False</td>\n",
       "      <td>False</td>\n",
       "      <td>plus</td>\n",
       "      <td>February 2017</td>\n",
       "      <td>{'Condition': 'New', 'Part or Accessory Type':...</td>\n",
       "      <td>634d93e14a62d9de7b400ee3679ae1d5506f4252ff0580...</td>\n",
       "    </tr>\n",
       "  </tbody>\n",
       "</table>\n",
       "<p>5 rows × 26 columns</p>\n",
       "</div>\n",
       "    <div class=\"colab-df-buttons\">\n",
       "\n",
       "  <div class=\"colab-df-container\">\n",
       "    <button class=\"colab-df-convert\" onclick=\"convertToInteractive('df-37b3a626-59be-40a0-8c3c-60c470ae15f9')\"\n",
       "            title=\"Convert this dataframe to an interactive table.\"\n",
       "            style=\"display:none;\">\n",
       "\n",
       "  <svg xmlns=\"http://www.w3.org/2000/svg\" height=\"24px\" viewBox=\"0 -960 960 960\">\n",
       "    <path d=\"M120-120v-720h720v720H120Zm60-500h600v-160H180v160Zm220 220h160v-160H400v160Zm0 220h160v-160H400v160ZM180-400h160v-160H180v160Zm440 0h160v-160H620v160ZM180-180h160v-160H180v160Zm440 0h160v-160H620v160Z\"/>\n",
       "  </svg>\n",
       "    </button>\n",
       "\n",
       "  <style>\n",
       "    .colab-df-container {\n",
       "      display:flex;\n",
       "      gap: 12px;\n",
       "    }\n",
       "\n",
       "    .colab-df-convert {\n",
       "      background-color: #E8F0FE;\n",
       "      border: none;\n",
       "      border-radius: 50%;\n",
       "      cursor: pointer;\n",
       "      display: none;\n",
       "      fill: #1967D2;\n",
       "      height: 32px;\n",
       "      padding: 0 0 0 0;\n",
       "      width: 32px;\n",
       "    }\n",
       "\n",
       "    .colab-df-convert:hover {\n",
       "      background-color: #E2EBFA;\n",
       "      box-shadow: 0px 1px 2px rgba(60, 64, 67, 0.3), 0px 1px 3px 1px rgba(60, 64, 67, 0.15);\n",
       "      fill: #174EA6;\n",
       "    }\n",
       "\n",
       "    .colab-df-buttons div {\n",
       "      margin-bottom: 4px;\n",
       "    }\n",
       "\n",
       "    [theme=dark] .colab-df-convert {\n",
       "      background-color: #3B4455;\n",
       "      fill: #D2E3FC;\n",
       "    }\n",
       "\n",
       "    [theme=dark] .colab-df-convert:hover {\n",
       "      background-color: #434B5C;\n",
       "      box-shadow: 0px 1px 3px 1px rgba(0, 0, 0, 0.15);\n",
       "      filter: drop-shadow(0px 1px 2px rgba(0, 0, 0, 0.3));\n",
       "      fill: #FFFFFF;\n",
       "    }\n",
       "  </style>\n",
       "\n",
       "    <script>\n",
       "      const buttonEl =\n",
       "        document.querySelector('#df-37b3a626-59be-40a0-8c3c-60c470ae15f9 button.colab-df-convert');\n",
       "      buttonEl.style.display =\n",
       "        google.colab.kernel.accessAllowed ? 'block' : 'none';\n",
       "\n",
       "      async function convertToInteractive(key) {\n",
       "        const element = document.querySelector('#df-37b3a626-59be-40a0-8c3c-60c470ae15f9');\n",
       "        const dataTable =\n",
       "          await google.colab.kernel.invokeFunction('convertToInteractive',\n",
       "                                                    [key], {});\n",
       "        if (!dataTable) return;\n",
       "\n",
       "        const docLinkHtml = 'Like what you see? Visit the ' +\n",
       "          '<a target=\"_blank\" href=https://colab.research.google.com/notebooks/data_table.ipynb>data table notebook</a>'\n",
       "          + ' to learn more about interactive tables.';\n",
       "        element.innerHTML = '';\n",
       "        dataTable['output_type'] = 'display_data';\n",
       "        await google.colab.output.renderOutput(dataTable, element);\n",
       "        const docLink = document.createElement('div');\n",
       "        docLink.innerHTML = docLinkHtml;\n",
       "        element.appendChild(docLink);\n",
       "      }\n",
       "    </script>\n",
       "  </div>\n",
       "\n",
       "\n",
       "<div id=\"df-cac00edc-38a1-468e-ba8a-4c1a260c3808\">\n",
       "  <button class=\"colab-df-quickchart\" onclick=\"quickchart('df-cac00edc-38a1-468e-ba8a-4c1a260c3808')\"\n",
       "            title=\"Suggest charts\"\n",
       "            style=\"display:none;\">\n",
       "\n",
       "<svg xmlns=\"http://www.w3.org/2000/svg\" height=\"24px\"viewBox=\"0 0 24 24\"\n",
       "     width=\"24px\">\n",
       "    <g>\n",
       "        <path d=\"M19 3H5c-1.1 0-2 .9-2 2v14c0 1.1.9 2 2 2h14c1.1 0 2-.9 2-2V5c0-1.1-.9-2-2-2zM9 17H7v-7h2v7zm4 0h-2V7h2v10zm4 0h-2v-4h2v4z\"/>\n",
       "    </g>\n",
       "</svg>\n",
       "  </button>\n",
       "\n",
       "<style>\n",
       "  .colab-df-quickchart {\n",
       "      --bg-color: #E8F0FE;\n",
       "      --fill-color: #1967D2;\n",
       "      --hover-bg-color: #E2EBFA;\n",
       "      --hover-fill-color: #174EA6;\n",
       "      --disabled-fill-color: #AAA;\n",
       "      --disabled-bg-color: #DDD;\n",
       "  }\n",
       "\n",
       "  [theme=dark] .colab-df-quickchart {\n",
       "      --bg-color: #3B4455;\n",
       "      --fill-color: #D2E3FC;\n",
       "      --hover-bg-color: #434B5C;\n",
       "      --hover-fill-color: #FFFFFF;\n",
       "      --disabled-bg-color: #3B4455;\n",
       "      --disabled-fill-color: #666;\n",
       "  }\n",
       "\n",
       "  .colab-df-quickchart {\n",
       "    background-color: var(--bg-color);\n",
       "    border: none;\n",
       "    border-radius: 50%;\n",
       "    cursor: pointer;\n",
       "    display: none;\n",
       "    fill: var(--fill-color);\n",
       "    height: 32px;\n",
       "    padding: 0;\n",
       "    width: 32px;\n",
       "  }\n",
       "\n",
       "  .colab-df-quickchart:hover {\n",
       "    background-color: var(--hover-bg-color);\n",
       "    box-shadow: 0 1px 2px rgba(60, 64, 67, 0.3), 0 1px 3px 1px rgba(60, 64, 67, 0.15);\n",
       "    fill: var(--button-hover-fill-color);\n",
       "  }\n",
       "\n",
       "  .colab-df-quickchart-complete:disabled,\n",
       "  .colab-df-quickchart-complete:disabled:hover {\n",
       "    background-color: var(--disabled-bg-color);\n",
       "    fill: var(--disabled-fill-color);\n",
       "    box-shadow: none;\n",
       "  }\n",
       "\n",
       "  .colab-df-spinner {\n",
       "    border: 2px solid var(--fill-color);\n",
       "    border-color: transparent;\n",
       "    border-bottom-color: var(--fill-color);\n",
       "    animation:\n",
       "      spin 1s steps(1) infinite;\n",
       "  }\n",
       "\n",
       "  @keyframes spin {\n",
       "    0% {\n",
       "      border-color: transparent;\n",
       "      border-bottom-color: var(--fill-color);\n",
       "      border-left-color: var(--fill-color);\n",
       "    }\n",
       "    20% {\n",
       "      border-color: transparent;\n",
       "      border-left-color: var(--fill-color);\n",
       "      border-top-color: var(--fill-color);\n",
       "    }\n",
       "    30% {\n",
       "      border-color: transparent;\n",
       "      border-left-color: var(--fill-color);\n",
       "      border-top-color: var(--fill-color);\n",
       "      border-right-color: var(--fill-color);\n",
       "    }\n",
       "    40% {\n",
       "      border-color: transparent;\n",
       "      border-right-color: var(--fill-color);\n",
       "      border-top-color: var(--fill-color);\n",
       "    }\n",
       "    60% {\n",
       "      border-color: transparent;\n",
       "      border-right-color: var(--fill-color);\n",
       "    }\n",
       "    80% {\n",
       "      border-color: transparent;\n",
       "      border-right-color: var(--fill-color);\n",
       "      border-bottom-color: var(--fill-color);\n",
       "    }\n",
       "    90% {\n",
       "      border-color: transparent;\n",
       "      border-bottom-color: var(--fill-color);\n",
       "    }\n",
       "  }\n",
       "</style>\n",
       "\n",
       "  <script>\n",
       "    async function quickchart(key) {\n",
       "      const quickchartButtonEl =\n",
       "        document.querySelector('#' + key + ' button');\n",
       "      quickchartButtonEl.disabled = true;  // To prevent multiple clicks.\n",
       "      quickchartButtonEl.classList.add('colab-df-spinner');\n",
       "      try {\n",
       "        const charts = await google.colab.kernel.invokeFunction(\n",
       "            'suggestCharts', [key], {});\n",
       "      } catch (error) {\n",
       "        console.error('Error during call to suggestCharts:', error);\n",
       "      }\n",
       "      quickchartButtonEl.classList.remove('colab-df-spinner');\n",
       "      quickchartButtonEl.classList.add('colab-df-quickchart-complete');\n",
       "    }\n",
       "    (() => {\n",
       "      let quickchartButtonEl =\n",
       "        document.querySelector('#df-cac00edc-38a1-468e-ba8a-4c1a260c3808 button');\n",
       "      quickchartButtonEl.style.display =\n",
       "        google.colab.kernel.accessAllowed ? 'block' : 'none';\n",
       "    })();\n",
       "  </script>\n",
       "</div>\n",
       "\n",
       "    </div>\n",
       "  </div>\n"
      ],
      "text/plain": [
       "                                            ad_title  \\\n",
       "0     Nissan Tiida Alternator  in Maharagama | ikman   \n",
       "1              Axio 165 Tail Light  in Kotte | ikman   \n",
       "2     Axio 165 / 161 Head light  in Kotte | ikman.lk   \n",
       "3   Vigo side step ( Foot board)  in Kottawa | ikman   \n",
       "4  Vigo Dickey Door Garnish Cover  in Kottawa | i...   \n",
       "\n",
       "                                      ad_description details  \\\n",
       "0  **TISSA AUTO PARTS** Dealer of used Japanese m...     NaN   \n",
       "1  Imported from Japan \\n\\nRight side available \\...     NaN   \n",
       "2  Imported from Japan \\n\\nAuto focus headlight a...     NaN   \n",
       "3  Hilux Vigo side step\\nBrand New Thaiwan\\nGood ...     NaN   \n",
       "4  Hilux Vigo ( 2005, 2009 ) dickey door garnish set     NaN   \n",
       "\n",
       "                                                slug  \\\n",
       "0         nissan-tiida-alternator-for-sale-colombo-3   \n",
       "1            axio-165-tail-light-for-sale-colombo-14   \n",
       "2           axio-165-161-head-light-for-sale-colombo   \n",
       "3         vigo-side-step-foot-board-for-sale-colombo   \n",
       "4  vigo-dickey-door-garnish-cover-for-sale-colombo-1   \n",
       "\n",
       "                            title      type      price        timestamp  \\\n",
       "0         Nissan Tiida Alternator  for_sale  Rs 18,000  23 Feb 11:35 pm   \n",
       "1             Axio 165 Tail Light  for_sale  Rs 67,000   23 Feb 8:32 am   \n",
       "2       Axio 165 / 161 Head light  for_sale  Rs 85,000   01 Dec 8:27 pm   \n",
       "3    Vigo side step ( Foot board)  for_sale  Rs 47,000   04 Dec 2:47 pm   \n",
       "4  Vigo Dickey Door Garnish Cover  for_sale   Rs 9,000   08 Dec 9:28 am   \n",
       "\n",
       "                 posted_date         deactivation_date  ...  \\\n",
       "0  2023-02-23T23:35:10+05:30  2022-05-30T17:13:04.000Z  ...   \n",
       "1  2023-02-23T08:32:44+05:30  2022-03-31T16:27:59.000Z  ...   \n",
       "2  2022-12-01T20:27:49+05:30  2022-03-31T14:03:57.000Z  ...   \n",
       "3  2022-12-04T14:47:27+05:30  2022-07-29T13:22:59.000Z  ...   \n",
       "4  2022-12-08T09:28:04+05:30  2022-07-29T12:55:44.000Z  ...   \n",
       "\n",
       "  is_doorstep_delivery is_dsd_applicable is_member is_authorized_dealer  \\\n",
       "0                False             False      True                False   \n",
       "1                False             False      True                False   \n",
       "2                False             False      True                False   \n",
       "3                False             False      True                False   \n",
       "4                False             False      True                False   \n",
       "\n",
       "  is_featured_member  is_verified  membership_level    member_since  \\\n",
       "0              False         True           premium  September 2019   \n",
       "1              False         True              plus       June 2018   \n",
       "2              False         True              plus       June 2018   \n",
       "3              False        False              plus   February 2017   \n",
       "4              False        False              plus   February 2017   \n",
       "\n",
       "                                          properties  \\\n",
       "0  {'Condition': 'Reconditioned', 'Part or Access...   \n",
       "1  {'Condition': 'Reconditioned', 'Part or Access...   \n",
       "2  {'Condition': 'Reconditioned', 'Part or Access...   \n",
       "3  {'Condition': 'New', 'Part or Accessory Type':...   \n",
       "4  {'Condition': 'New', 'Part or Accessory Type':...   \n",
       "\n",
       "                                                user  \n",
       "0  a6681dea494390daa516a6d2bdcb36e08c318574a13413...  \n",
       "1  5d99b8e45a1bb318079da7a36392d9025e1644cb49ecbf...  \n",
       "2  5d99b8e45a1bb318079da7a36392d9025e1644cb49ecbf...  \n",
       "3  634d93e14a62d9de7b400ee3679ae1d5506f4252ff0580...  \n",
       "4  634d93e14a62d9de7b400ee3679ae1d5506f4252ff0580...  \n",
       "\n",
       "[5 rows x 26 columns]"
      ]
     },
     "execution_count": 114,
     "metadata": {},
     "output_type": "execute_result"
    }
   ],
   "source": [
    "df.head()"
   ]
  },
  {
   "cell_type": "code",
   "execution_count": null,
   "metadata": {
    "id": "Dk_V4mIbtXsM"
   },
   "outputs": [],
   "source": [
    "df2=df.copy()"
   ]
  },
  {
   "cell_type": "markdown",
   "metadata": {
    "id": "Oesltu5wtc68"
   },
   "source": [
    "Drop some columns that are unnecessory"
   ]
  },
  {
   "cell_type": "code",
   "execution_count": null,
   "metadata": {
    "colab": {
     "base_uri": "https://localhost:8080/"
    },
    "id": "MS_Y4UvItluv",
    "outputId": "ef4587eb-dcf5-4b6a-8fe9-84b951ba1cb2"
   },
   "outputs": [
    {
     "data": {
      "text/plain": [
       "(258888, 26)"
      ]
     },
     "execution_count": 116,
     "metadata": {},
     "output_type": "execute_result"
    }
   ],
   "source": [
    "df2.shape"
   ]
  },
  {
   "cell_type": "code",
   "execution_count": null,
   "metadata": {
    "id": "aCQWxLd_tZv_"
   },
   "outputs": [],
   "source": [
    "df2=df2.drop(columns=['title','ad_title','ad_description','slug','details','parent_category','is_delivery_free','is_doorstep_delivery','is_dsd_applicable','is_featured_member','is_authorized_dealer','user'],axis=1)"
   ]
  },
  {
   "cell_type": "code",
   "execution_count": null,
   "metadata": {
    "colab": {
     "base_uri": "https://localhost:8080/"
    },
    "id": "0VEJe7LDto-v",
    "outputId": "300dad6f-7e86-4484-b083-7343f0dbb019"
   },
   "outputs": [
    {
     "data": {
      "text/plain": [
       "(258888, 14)"
      ]
     },
     "execution_count": 118,
     "metadata": {},
     "output_type": "execute_result"
    }
   ],
   "source": [
    "df2.shape"
   ]
  },
  {
   "cell_type": "markdown",
   "metadata": {
    "id": "BAWECYYntwAx"
   },
   "source": [
    "convert price datatype into float"
   ]
  },
  {
   "cell_type": "code",
   "execution_count": null,
   "metadata": {
    "id": "OQUtGimktrjO"
   },
   "outputs": [],
   "source": [
    "# Remove 'Rs' and commas from 'price', then convert to float\n",
    "import numpy as np\n",
    "df2['price'] = df2['price'].astype(str)\n",
    "df2['price'] = df2['price'].str.replace('Rs', '', regex=False).str.replace(',', '', regex=False)"
   ]
  },
  {
   "cell_type": "code",
   "execution_count": null,
   "metadata": {
    "id": "xdDNS0fityOY"
   },
   "outputs": [],
   "source": [
    "df2['price'] = df2['price'].apply(lambda x: np.nan if x == 'Negotiable' else float(x))"
   ]
  },
  {
   "cell_type": "markdown",
   "metadata": {
    "id": "k5nELasHt3ig"
   },
   "source": [
    "find out ad's date difference"
   ]
  },
  {
   "cell_type": "code",
   "execution_count": null,
   "metadata": {
    "id": "NZtbL3tKtz3M"
   },
   "outputs": [],
   "source": [
    "import pandas as pd\n",
    "\n",
    "# Convert columns to datetime format\n",
    "df2['posted_date'] = pd.to_datetime(df2['posted_date'])\n",
    "df2['deactivation_date'] = pd.to_datetime(df2['deactivation_date'])\n",
    "\n",
    "# Calculate date difference -- ignore time\n",
    "df2['date_diff'] = (df2['deactivation_date'] - df2['posted_date']).dt.days"
   ]
  },
  {
   "cell_type": "code",
   "execution_count": null,
   "metadata": {
    "id": "MXhFtr8Wt_9r"
   },
   "outputs": [],
   "source": [
    "list = [i for i in df2['date_diff'] if i < 0]"
   ]
  },
  {
   "cell_type": "code",
   "execution_count": null,
   "metadata": {
    "colab": {
     "base_uri": "https://localhost:8080/"
    },
    "id": "YWuyNiXxx3-B",
    "outputId": "105c60fa-3bce-4cf7-bff1-08d6e6a95a90"
   },
   "outputs": [
    {
     "data": {
      "text/plain": [
       "16970"
      ]
     },
     "execution_count": 123,
     "metadata": {},
     "output_type": "execute_result"
    }
   ],
   "source": [
    "len(list)"
   ]
  },
  {
   "cell_type": "code",
   "execution_count": null,
   "metadata": {
    "id": "zgoaHloAuCQe"
   },
   "outputs": [],
   "source": [
    "index_names = df2[df2['date_diff'] < 0].index\n",
    "df2.drop(index_names, inplace=True)"
   ]
  },
  {
   "cell_type": "code",
   "execution_count": null,
   "metadata": {
    "colab": {
     "base_uri": "https://localhost:8080/"
    },
    "id": "lLL1P1OguEFY",
    "outputId": "dcc49c9f-35ea-485d-c38c-21cc3483c282"
   },
   "outputs": [
    {
     "data": {
      "text/plain": [
       "(241918, 15)"
      ]
     },
     "execution_count": 125,
     "metadata": {},
     "output_type": "execute_result"
    }
   ],
   "source": [
    "df2.shape"
   ]
  },
  {
   "cell_type": "markdown",
   "metadata": {
    "id": "tES2zWmvuWzB"
   },
   "source": [
    "extract members year"
   ]
  },
  {
   "cell_type": "code",
   "execution_count": null,
   "metadata": {
    "colab": {
     "base_uri": "https://localhost:8080/"
    },
    "id": "En-XZZJiux2b",
    "outputId": "4264eb69-3ae5-44ff-b795-d8d44e3e9693"
   },
   "outputs": [
    {
     "name": "stdout",
     "output_type": "stream",
     "text": [
      "<class 'pandas.core.frame.DataFrame'>\n",
      "Index: 241918 entries, 7590 to 258887\n",
      "Data columns (total 15 columns):\n",
      " #   Column             Non-Null Count   Dtype                    \n",
      "---  ------             --------------   -----                    \n",
      " 0   type               241918 non-null  object                   \n",
      " 1   price              237453 non-null  float64                  \n",
      " 2   timestamp          241912 non-null  object                   \n",
      " 3   posted_date        241912 non-null  datetime64[ns, UTC+05:30]\n",
      " 4   deactivation_date  241912 non-null  datetime64[ns, UTC]      \n",
      " 5   category           241918 non-null  object                   \n",
      " 6   location           241918 non-null  object                   \n",
      " 7   geo_region         241918 non-null  object                   \n",
      " 8   area               241918 non-null  object                   \n",
      " 9   is_member          232883 non-null  object                   \n",
      " 10  is_verified        241918 non-null  bool                     \n",
      " 11  membership_level   241918 non-null  object                   \n",
      " 12  member_since       92023 non-null   object                   \n",
      " 13  properties         241918 non-null  object                   \n",
      " 14  date_diff          241912 non-null  float64                  \n",
      "dtypes: bool(1), datetime64[ns, UTC+05:30](1), datetime64[ns, UTC](1), float64(2), object(10)\n",
      "memory usage: 27.9+ MB\n"
     ]
    }
   ],
   "source": [
    "df2.info()"
   ]
  },
  {
   "cell_type": "code",
   "execution_count": null,
   "metadata": {
    "id": "T-rxtnwduGh0"
   },
   "outputs": [],
   "source": [
    "import pandas as pd\n",
    "\n",
    "# Assuming df2 is your DataFrame\n",
    "df2['member_since'] = df2['member_since'].str.extract(r'(\\d{4})', expand=False)"
   ]
  },
  {
   "cell_type": "code",
   "execution_count": null,
   "metadata": {
    "colab": {
     "base_uri": "https://localhost:8080/"
    },
    "id": "9AAz8rsevJ0w",
    "outputId": "885ee9a4-611b-4f94-d6c7-c5433323fc98"
   },
   "outputs": [
    {
     "name": "stdout",
     "output_type": "stream",
     "text": [
      "<class 'pandas.core.frame.DataFrame'>\n",
      "Index: 241918 entries, 7590 to 258887\n",
      "Data columns (total 15 columns):\n",
      " #   Column             Non-Null Count   Dtype                    \n",
      "---  ------             --------------   -----                    \n",
      " 0   type               241918 non-null  object                   \n",
      " 1   price              237453 non-null  float64                  \n",
      " 2   timestamp          241912 non-null  object                   \n",
      " 3   posted_date        241912 non-null  datetime64[ns, UTC+05:30]\n",
      " 4   deactivation_date  241912 non-null  datetime64[ns, UTC]      \n",
      " 5   category           241918 non-null  object                   \n",
      " 6   location           241918 non-null  object                   \n",
      " 7   geo_region         241918 non-null  object                   \n",
      " 8   area               241918 non-null  object                   \n",
      " 9   is_member          232883 non-null  object                   \n",
      " 10  is_verified        241918 non-null  bool                     \n",
      " 11  membership_level   241918 non-null  object                   \n",
      " 12  member_since       92023 non-null   object                   \n",
      " 13  properties         241918 non-null  object                   \n",
      " 14  date_diff          241912 non-null  float64                  \n",
      "dtypes: bool(1), datetime64[ns, UTC+05:30](1), datetime64[ns, UTC](1), float64(2), object(10)\n",
      "memory usage: 27.9+ MB\n"
     ]
    }
   ],
   "source": [
    "df2.info()"
   ]
  },
  {
   "cell_type": "markdown",
   "metadata": {
    "id": "DTGfRK_avaQt"
   },
   "source": [
    "Convert member since into int"
   ]
  },
  {
   "cell_type": "code",
   "execution_count": null,
   "metadata": {
    "colab": {
     "base_uri": "https://localhost:8080/"
    },
    "id": "_sOZ-qxjvjDN",
    "outputId": "a14a61a7-9b15-4218-95da-c6b976022cf6"
   },
   "outputs": [
    {
     "data": {
      "text/plain": [
       "type                      0\n",
       "price                  4465\n",
       "timestamp                 6\n",
       "posted_date               6\n",
       "deactivation_date         6\n",
       "category                  0\n",
       "location                  0\n",
       "geo_region                0\n",
       "area                      0\n",
       "is_member              9035\n",
       "is_verified               0\n",
       "membership_level          0\n",
       "member_since         149895\n",
       "properties                0\n",
       "date_diff                 6\n",
       "dtype: int64"
      ]
     },
     "execution_count": 129,
     "metadata": {},
     "output_type": "execute_result"
    }
   ],
   "source": [
    "df2.isnull().sum()"
   ]
  },
  {
   "cell_type": "code",
   "execution_count": null,
   "metadata": {
    "id": "-ER38-eUvYIK"
   },
   "outputs": [],
   "source": [
    "df2=df2.drop(columns=['member_since'],axis=1)"
   ]
  },
  {
   "cell_type": "markdown",
   "metadata": {
    "id": "HNsI9ngfznZx"
   },
   "source": [
    "drop null values of some columns"
   ]
  },
  {
   "cell_type": "code",
   "execution_count": null,
   "metadata": {
    "id": "2x3uGBN0zlvd"
   },
   "outputs": [],
   "source": [
    "# Handle missing values\n",
    "df2 = df2.dropna(subset=['type', 'price', 'timestamp', 'posted_date', 'deactivation_date',\n",
    "       'category', 'location', 'geo_region', 'area', 'is_member',\n",
    "       'is_verified', 'membership_level', 'properties',\n",
    "       'date_diff'])"
   ]
  },
  {
   "cell_type": "code",
   "execution_count": null,
   "metadata": {
    "colab": {
     "base_uri": "https://localhost:8080/"
    },
    "id": "XgrD3-Sbzrd0",
    "outputId": "695e6519-881b-485f-afe5-da6e12d931dc"
   },
   "outputs": [
    {
     "data": {
      "text/plain": [
       "(228475, 14)"
      ]
     },
     "execution_count": 132,
     "metadata": {},
     "output_type": "execute_result"
    }
   ],
   "source": [
    "df2.shape"
   ]
  },
  {
   "cell_type": "markdown",
   "metadata": {
    "id": "90r35Ntz0FRx"
   },
   "source": [
    "Brand from properties"
   ]
  },
  {
   "cell_type": "code",
   "execution_count": null,
   "metadata": {
    "id": "6vQCiWRPztuj"
   },
   "outputs": [],
   "source": [
    "import ast\n",
    "dict_df=df2[\"properties\"].apply(pd.Series)"
   ]
  },
  {
   "cell_type": "code",
   "execution_count": null,
   "metadata": {
    "colab": {
     "base_uri": "https://localhost:8080/"
    },
    "id": "9-J4cCqt0HBp",
    "outputId": "362e3ae1-6bcc-4cf6-ab80-23066639fecf"
   },
   "outputs": [
    {
     "data": {
      "text/plain": [
       "7590    {'Brand': 'Nissan', 'Model': 'Patrol', 'Trim /...\n",
       "7606    {'Brand': 'Toyota', 'Model': 'Camry', 'Trim / ...\n",
       "7623    {'Brand': 'Toyota', 'Model': 'Aqua', 'Trim / E...\n",
       "7638    {'Brand': 'Mercedes Benz', 'Model': 'E350', 'T...\n",
       "7639    {'Brand': 'Mitsubishi', 'Model': 'L200', 'Trim...\n",
       "Name: properties, dtype: object"
      ]
     },
     "execution_count": 134,
     "metadata": {},
     "output_type": "execute_result"
    }
   ],
   "source": [
    "df2['properties'].head()"
   ]
  },
  {
   "cell_type": "code",
   "execution_count": null,
   "metadata": {
    "colab": {
     "base_uri": "https://localhost:8080/"
    },
    "id": "1rusOapM0Ip5",
    "outputId": "56a348e9-1646-4c36-de32-66362ee88ca4"
   },
   "outputs": [
    {
     "name": "stdout",
     "output_type": "stream",
     "text": [
      "{'Brand': 'Toyota', 'Model': 'Aqua', 'Trim / Edition': 'Toyota', 'Year of Manufacture': '2012', 'Condition': 'Used', 'Transmission': 'Automatic', 'Body type': 'Hatchback', 'Fuel type': 'Hybrid', 'Engine capacity': '1,500 cc', 'Mileage': '177,000 km'}\n"
     ]
    }
   ],
   "source": [
    "dict_converted = ast.literal_eval(dict_df.iloc[2][0])\n",
    "print(dict_converted)"
   ]
  },
  {
   "cell_type": "code",
   "execution_count": null,
   "metadata": {
    "id": "ujt4HQVx0Kud"
   },
   "outputs": [],
   "source": [
    "Brand=[]\n",
    "for i in range(dict_df.shape[0]):\n",
    "    dict_converted = ast.literal_eval(dict_df.iloc[i][0])\n",
    "\n",
    "    if 'Brand' not in dict_converted:\n",
    "        Brand.append('NaN')\n",
    "    else:\n",
    "        Brand.append(dict_converted['Brand'])"
   ]
  },
  {
   "cell_type": "code",
   "execution_count": null,
   "metadata": {
    "id": "BYcUW1rD0NIk"
   },
   "outputs": [],
   "source": [
    "df2['Brand'] = Brand"
   ]
  },
  {
   "cell_type": "code",
   "execution_count": null,
   "metadata": {
    "colab": {
     "base_uri": "https://localhost:8080/"
    },
    "id": "wIRi4W3f0PwD",
    "outputId": "008f7ad7-624f-4e64-8407-e28d562f4bb1"
   },
   "outputs": [
    {
     "data": {
      "text/plain": [
       "(228475, 15)"
      ]
     },
     "execution_count": 138,
     "metadata": {},
     "output_type": "execute_result"
    }
   ],
   "source": [
    "df2.shape"
   ]
  },
  {
   "cell_type": "code",
   "execution_count": null,
   "metadata": {
    "id": "K4kQx8r50fTG"
   },
   "outputs": [],
   "source": [
    "#  Replace NaN VALUE with actual numpy nana value\n",
    "df2['Brand'].replace('NaN', np.nan, inplace=True)"
   ]
  },
  {
   "cell_type": "code",
   "execution_count": null,
   "metadata": {
    "colab": {
     "base_uri": "https://localhost:8080/"
    },
    "id": "4MPUQ2WK0lkd",
    "outputId": "dbd2c369-f034-4d54-fb6a-a6ad896e01c5"
   },
   "outputs": [
    {
     "data": {
      "text/plain": [
       "50296"
      ]
     },
     "execution_count": 140,
     "metadata": {},
     "output_type": "execute_result"
    }
   ],
   "source": [
    "df2['Brand'].isnull().sum()"
   ]
  },
  {
   "cell_type": "code",
   "execution_count": null,
   "metadata": {
    "id": "LK94g87a0naT"
   },
   "outputs": [],
   "source": [
    "# Remove rows with NaN values in the 'Brand' column\n",
    "df2 = df2.dropna(subset=['Brand'])"
   ]
  },
  {
   "cell_type": "code",
   "execution_count": null,
   "metadata": {
    "colab": {
     "base_uri": "https://localhost:8080/"
    },
    "id": "S87CGmhu0uTL",
    "outputId": "d02b2fa8-6597-40ec-95a5-e449aade608d"
   },
   "outputs": [
    {
     "data": {
      "text/plain": [
       "(178179, 15)"
      ]
     },
     "execution_count": 142,
     "metadata": {},
     "output_type": "execute_result"
    }
   ],
   "source": [
    "df2.shape"
   ]
  },
  {
   "cell_type": "code",
   "execution_count": null,
   "metadata": {
    "id": "yRM77y0k0wO0"
   },
   "outputs": [],
   "source": [
    "#  Removes rows\n",
    "brand_counts = df2['Brand'].value_counts()\n",
    "df2 = df2[df2['Brand'].isin(brand_counts[brand_counts >= 1000].index)]"
   ]
  },
  {
   "cell_type": "code",
   "execution_count": null,
   "metadata": {
    "colab": {
     "base_uri": "https://localhost:8080/"
    },
    "id": "mmkmznjT0-c7",
    "outputId": "411e748c-47ae-4995-b26e-228e8346ec58"
   },
   "outputs": [
    {
     "data": {
      "text/plain": [
       "Brand\n",
       "Bajaj            36240\n",
       "Toyota           21277\n",
       "Honda            20967\n",
       "Suzuki           12500\n",
       "Yamaha            8542\n",
       "TVS               8352\n",
       "Nissan            7822\n",
       "Hero              6921\n",
       "Other             5166\n",
       "Mitsubishi        5075\n",
       "Other brand       4915\n",
       "Tata              3658\n",
       "Mahindra          2612\n",
       "Isuzu             2329\n",
       "Lumala            1815\n",
       "BMW               1543\n",
       "Demak             1529\n",
       "Mazda             1527\n",
       "Mercedes Benz     1471\n",
       "Daihatsu          1305\n",
       "Micro             1267\n",
       "Tomahawk          1178\n",
       "Kia               1139\n",
       "Hyundai           1128\n",
       "Name: count, dtype: int64"
      ]
     },
     "execution_count": 144,
     "metadata": {},
     "output_type": "execute_result"
    }
   ],
   "source": [
    "df2['Brand'].value_counts()"
   ]
  },
  {
   "cell_type": "markdown",
   "metadata": {
    "id": "m7kjkN9s1KWm"
   },
   "source": [
    "Encode categorical variables"
   ]
  },
  {
   "cell_type": "code",
   "execution_count": null,
   "metadata": {
    "colab": {
     "base_uri": "https://localhost:8080/"
    },
    "id": "SisDKyoh1C4B",
    "outputId": "764a1031-cf8c-41a7-e1df-6631389cf3a9"
   },
   "outputs": [
    {
     "name": "stdout",
     "output_type": "stream",
     "text": [
      "<class 'pandas.core.frame.DataFrame'>\n",
      "Index: 160278 entries, 7590 to 258887\n",
      "Data columns (total 15 columns):\n",
      " #   Column             Non-Null Count   Dtype                    \n",
      "---  ------             --------------   -----                    \n",
      " 0   type               160278 non-null  object                   \n",
      " 1   price              160278 non-null  float64                  \n",
      " 2   timestamp          160278 non-null  object                   \n",
      " 3   posted_date        160278 non-null  datetime64[ns, UTC+05:30]\n",
      " 4   deactivation_date  160278 non-null  datetime64[ns, UTC]      \n",
      " 5   category           160278 non-null  object                   \n",
      " 6   location           160278 non-null  object                   \n",
      " 7   geo_region         160278 non-null  object                   \n",
      " 8   area               160278 non-null  object                   \n",
      " 9   is_member          160278 non-null  object                   \n",
      " 10  is_verified        160278 non-null  bool                     \n",
      " 11  membership_level   160278 non-null  object                   \n",
      " 12  properties         160278 non-null  object                   \n",
      " 13  date_diff          160278 non-null  float64                  \n",
      " 14  Brand              160278 non-null  object                   \n",
      "dtypes: bool(1), datetime64[ns, UTC+05:30](1), datetime64[ns, UTC](1), float64(2), object(10)\n",
      "memory usage: 18.5+ MB\n"
     ]
    }
   ],
   "source": [
    "df2.info()"
   ]
  },
  {
   "cell_type": "code",
   "execution_count": null,
   "metadata": {
    "id": "xIKiHkAz1M3G"
   },
   "outputs": [],
   "source": [
    "label_encoder = LabelEncoder()\n",
    "df2['category'] = label_encoder.fit_transform(df2['category'])\n",
    "df2['is_member'] = label_encoder.fit_transform(df2['is_member'])\n",
    "df2['location'] = label_encoder.fit_transform(df2['location'])\n",
    "df2['geo_region'] = label_encoder.fit_transform(df2['geo_region'])\n",
    "df2['area'] = label_encoder.fit_transform(df2['area'])\n",
    "df2['Brand'] = label_encoder.fit_transform(df2['Brand'])\n",
    "df2['is_verified'] = label_encoder.fit_transform(df2['is_verified'])\n",
    "df2['membership_level'] = label_encoder.fit_transform(df2['membership_level'])"
   ]
  },
  {
   "cell_type": "code",
   "execution_count": null,
   "metadata": {
    "colab": {
     "base_uri": "https://localhost:8080/"
    },
    "id": "yt7Q4obN1U8Y",
    "outputId": "c9cfbbf0-2295-4a02-88bd-f7b9af5df2f0"
   },
   "outputs": [
    {
     "name": "stdout",
     "output_type": "stream",
     "text": [
      "<class 'pandas.core.frame.DataFrame'>\n",
      "Index: 160278 entries, 7590 to 258887\n",
      "Data columns (total 15 columns):\n",
      " #   Column             Non-Null Count   Dtype                    \n",
      "---  ------             --------------   -----                    \n",
      " 0   type               160278 non-null  object                   \n",
      " 1   price              160278 non-null  float64                  \n",
      " 2   timestamp          160278 non-null  object                   \n",
      " 3   posted_date        160278 non-null  datetime64[ns, UTC+05:30]\n",
      " 4   deactivation_date  160278 non-null  datetime64[ns, UTC]      \n",
      " 5   category           160278 non-null  int64                    \n",
      " 6   location           160278 non-null  int64                    \n",
      " 7   geo_region         160278 non-null  int64                    \n",
      " 8   area               160278 non-null  int64                    \n",
      " 9   is_member          160278 non-null  int64                    \n",
      " 10  is_verified        160278 non-null  int64                    \n",
      " 11  membership_level   160278 non-null  int64                    \n",
      " 12  properties         160278 non-null  object                   \n",
      " 13  date_diff          160278 non-null  float64                  \n",
      " 14  Brand              160278 non-null  int64                    \n",
      "dtypes: datetime64[ns, UTC+05:30](1), datetime64[ns, UTC](1), float64(2), int64(8), object(3)\n",
      "memory usage: 19.6+ MB\n"
     ]
    }
   ],
   "source": [
    "df2.info()"
   ]
  },
  {
   "cell_type": "markdown",
   "metadata": {
    "id": "WoPFc2sG1c8i"
   },
   "source": [
    "2 . Feature Selection"
   ]
  },
  {
   "cell_type": "markdown",
   "metadata": {
    "id": "eg98adaS1iSa"
   },
   "source": [
    "Use PCA to reduce dimensionality if necessary.\n",
    "Select relevant features for clustering\n"
   ]
  },
  {
   "cell_type": "code",
   "execution_count": null,
   "metadata": {
    "id": "0vJJr7u51W4A"
   },
   "outputs": [],
   "source": [
    "# Use PCA to reduce dimensionality\n",
    "from sklearn.preprocessing import StandardScaler\n",
    "num_col = df2.select_dtypes(include=['int32', 'float64']).columns\n",
    "X = df2[num_col]\n",
    "scaler = StandardScaler()\n",
    "X_scaled = scaler.fit_transform(X)"
   ]
  },
  {
   "cell_type": "code",
   "execution_count": null,
   "metadata": {
    "colab": {
     "base_uri": "https://localhost:8080/"
    },
    "id": "RHgFtSpZ1lS7",
    "outputId": "c54079f4-df9a-4591-e2b6-18b494e51a46"
   },
   "outputs": [
    {
     "name": "stdout",
     "output_type": "stream",
     "text": [
      "Explained Variance Ratio: [0.52297201 0.47702799]\n"
     ]
    }
   ],
   "source": [
    "# Perform PCA with full number of components\n",
    "from sklearn.decomposition import PCA\n",
    "pca = PCA()\n",
    "pca.fit(X_scaled)\n",
    "explained_variance_ratio = pca.explained_variance_ratio_\n",
    "print(f\"Explained Variance Ratio: {explained_variance_ratio}\")"
   ]
  },
  {
   "cell_type": "code",
   "execution_count": null,
   "metadata": {
    "colab": {
     "base_uri": "https://localhost:8080/"
    },
    "id": "l-NNyIbG1-Yh",
    "outputId": "396ca74b-8be6-4c92-aacf-15947eb281e8"
   },
   "outputs": [
    {
     "name": "stdout",
     "output_type": "stream",
     "text": [
      "Number of principal components retained: 2\n"
     ]
    }
   ],
   "source": [
    "# Determine the number of principal components to retain\n",
    "cumulative_variance = np.cumsum(explained_variance_ratio)\n",
    "n_components_retained = np.argmax(cumulative_variance >= 0.98) + 1\n",
    "print(f\"Number of principal components retained: {n_components_retained}\")"
   ]
  },
  {
   "cell_type": "code",
   "execution_count": null,
   "metadata": {
    "id": "uy0CmmDn2CuT"
   },
   "outputs": [],
   "source": [
    "# Transform the data using the retained principal components\n",
    "X_pca = X_scaled @ pca.components_[:n_components_retained].T"
   ]
  },
  {
   "cell_type": "code",
   "execution_count": null,
   "metadata": {
    "colab": {
     "base_uri": "https://localhost:8080/"
    },
    "id": "p0a1Z1H02OfQ",
    "outputId": "7511a4b4-e528-4b91-c31a-aeafb06df2a6"
   },
   "outputs": [
    {
     "data": {
      "text/plain": [
       "array([[11.08292595, -8.06946849],\n",
       "       [ 8.89838251, -8.01093947],\n",
       "       [10.0382588 , -9.48798105],\n",
       "       ...,\n",
       "       [-0.03722723,  0.2503397 ],\n",
       "       [ 0.12238105,  0.78379339],\n",
       "       [-0.35706596, -0.06949903]])"
      ]
     },
     "execution_count": 152,
     "metadata": {},
     "output_type": "execute_result"
    }
   ],
   "source": [
    "X_pca"
   ]
  },
  {
   "cell_type": "markdown",
   "metadata": {
    "id": "O8CpgAMz2xTO"
   },
   "source": [
    "3 .Clustering"
   ]
  },
  {
   "cell_type": "code",
   "execution_count": null,
   "metadata": {
    "id": "6e-UCq5o2ROg"
   },
   "outputs": [],
   "source": [
    "from sklearn.metrics import silhouette_score, calinski_harabasz_score, davies_bouldin_score"
   ]
  },
  {
   "cell_type": "code",
   "execution_count": null,
   "metadata": {
    "colab": {
     "base_uri": "https://localhost:8080/"
    },
    "id": "Gmj-vEau2The",
    "outputId": "38a4a119-43ca-49dc-d9e9-b33fc471bdaa"
   },
   "outputs": [
    {
     "metadata": {
      "tags": null
     },
     "name": "stderr",
     "output_type": "stream",
     "text": [
      "/usr/local/lib/python3.10/dist-packages/sklearn/cluster/_kmeans.py:870: FutureWarning: The default value of `n_init` will change from 10 to 'auto' in 1.4. Set the value of `n_init` explicitly to suppress the warning\n",
      "  warnings.warn(\n",
      "/usr/local/lib/python3.10/dist-packages/sklearn/cluster/_kmeans.py:870: FutureWarning: The default value of `n_init` will change from 10 to 'auto' in 1.4. Set the value of `n_init` explicitly to suppress the warning\n",
      "  warnings.warn(\n",
      "/usr/local/lib/python3.10/dist-packages/sklearn/cluster/_kmeans.py:870: FutureWarning: The default value of `n_init` will change from 10 to 'auto' in 1.4. Set the value of `n_init` explicitly to suppress the warning\n",
      "  warnings.warn(\n",
      "/usr/local/lib/python3.10/dist-packages/sklearn/cluster/_kmeans.py:870: FutureWarning: The default value of `n_init` will change from 10 to 'auto' in 1.4. Set the value of `n_init` explicitly to suppress the warning\n",
      "  warnings.warn(\n",
      "/usr/local/lib/python3.10/dist-packages/sklearn/cluster/_kmeans.py:870: FutureWarning: The default value of `n_init` will change from 10 to 'auto' in 1.4. Set the value of `n_init` explicitly to suppress the warning\n",
      "  warnings.warn(\n",
      "/usr/local/lib/python3.10/dist-packages/sklearn/cluster/_kmeans.py:870: FutureWarning: The default value of `n_init` will change from 10 to 'auto' in 1.4. Set the value of `n_init` explicitly to suppress the warning\n",
      "  warnings.warn(\n",
      "/usr/local/lib/python3.10/dist-packages/sklearn/cluster/_kmeans.py:870: FutureWarning: The default value of `n_init` will change from 10 to 'auto' in 1.4. Set the value of `n_init` explicitly to suppress the warning\n",
      "  warnings.warn(\n",
      "/usr/local/lib/python3.10/dist-packages/sklearn/cluster/_kmeans.py:870: FutureWarning: The default value of `n_init` will change from 10 to 'auto' in 1.4. Set the value of `n_init` explicitly to suppress the warning\n",
      "  warnings.warn(\n",
      "/usr/local/lib/python3.10/dist-packages/sklearn/cluster/_kmeans.py:870: FutureWarning: The default value of `n_init` will change from 10 to 'auto' in 1.4. Set the value of `n_init` explicitly to suppress the warning\n",
      "  warnings.warn(\n"
     ]
    }
   ],
   "source": [
    "# Clustering\n",
    "# Apply K-means clustering\n",
    "\n",
    "from sklearn.cluster import KMeans\n",
    "sil_scores = []\n",
    "ch_scores = []\n",
    "db_scores = []\n",
    "for n_clusters in range(2, 11):\n",
    "    kmeans = KMeans(n_clusters=n_clusters, random_state=42)\n",
    "    labels = kmeans.fit_predict(X_pca)\n",
    "    sil_score = silhouette_score(X_pca, labels)\n",
    "    ch_score = calinski_harabasz_score(X_pca, labels)\n",
    "    db_score = davies_bouldin_score(X_pca, labels)\n",
    "    sil_scores.append(sil_score)\n",
    "    ch_scores.append(ch_score)\n",
    "    db_scores.append(db_score)"
   ]
  },
  {
   "cell_type": "code",
   "execution_count": null,
   "metadata": {
    "colab": {
     "base_uri": "https://localhost:8080/",
     "height": 564
    },
    "id": "d8lBm8jT2VMt",
    "outputId": "53752035-67d0-414d-8888-ca397677e0e4"
   },
   "outputs": [
    {
     "data": {
      "image/png": "[encoded data removed]",
      "text/plain": [
       "<Figure size 800x600 with 1 Axes>"
      ]
     },
     "metadata": {},
     "output_type": "display_data"
    }
   ],
   "source": [
    "# Elbow method to determine the optimal number of clusters\n",
    "plt.figure(figsize=(8, 6))\n",
    "plt.plot(range(2, 11), sil_scores, label='Silhouette Score')\n",
    "plt.plot(range(2, 11), ch_scores, label='Calinski-Harabasz Score')\n",
    "plt.plot(range(2, 11), db_scores, label='Davies-Bouldin Score')\n",
    "plt.xlabel('Number of clusters')\n",
    "plt.ylabel('Score')\n",
    "plt.title('Elbow Method')\n",
    "plt.legend()\n",
    "plt.show()"
   ]
  },
  {
   "cell_type": "code",
   "execution_count": null,
   "metadata": {
    "colab": {
     "base_uri": "https://localhost:8080/"
    },
    "id": "xFvZsR6B9dT6",
    "outputId": "21fa2df8-1a0a-4804-e27a-73e4702ac2cb"
   },
   "outputs": [
    {
     "name": "stdout",
     "output_type": "stream",
     "text": [
      "Optimal number of clusters: 2\n"
     ]
    }
   ],
   "source": [
    "# Select the optimal number of clusters based on the Elbow method\n",
    "optimal_clusters = sil_scores.index(max(sil_scores)) + 2\n",
    "print(f\"Optimal number of clusters: {optimal_clusters}\")"
   ]
  },
  {
   "cell_type": "code",
   "execution_count": null,
   "metadata": {
    "colab": {
     "base_uri": "https://localhost:8080/"
    },
    "id": "FS8En_C49e5j",
    "outputId": "b4f55c17-e3af-4653-bda8-77cb844b6d06"
   },
   "outputs": [
    {
     "name": "stderr",
     "output_type": "stream",
     "text": [
      "/usr/local/lib/python3.10/dist-packages/sklearn/cluster/_kmeans.py:870: FutureWarning: The default value of `n_init` will change from 10 to 'auto' in 1.4. Set the value of `n_init` explicitly to suppress the warning\n",
      "  warnings.warn(\n"
     ]
    }
   ],
   "source": [
    "# Apply K-means with the optimal number of clusters\n",
    "kmeans = KMeans(n_clusters=optimal_clusters, random_state=42)\n",
    "labels = kmeans.fit_predict(X_pca)\n",
    "df2['cluster'] = labels"
   ]
  },
  {
   "cell_type": "code",
   "execution_count": null,
   "metadata": {
    "colab": {
     "base_uri": "https://localhost:8080/",
     "height": 718
    },
    "id": "cWwrESFQ9gdw",
    "outputId": "74cafd35-270d-40be-a4ed-08beb185ddcd"
   },
   "outputs": [
    {
     "data": {
      "image/png": "[encoded data removed]",
      "text/plain": [
       "<Figure size 1000x800 with 1 Axes>"
      ]
     },
     "metadata": {},
     "output_type": "display_data"
    }
   ],
   "source": [
    "# Cluster Analysis\n",
    "# Visualize the clusters\n",
    "plt.figure(figsize=(10, 8))\n",
    "plt.scatter(X_pca[:, 0], X_pca[:, 1], c=df2['cluster'], cmap='viridis')\n",
    "plt.xlabel('Principal Component 1')\n",
    "plt.ylabel('Principal Component 2')\n",
    "plt.title('Clusters')\n",
    "plt.show()"
   ]
  },
  {
   "cell_type": "code",
   "execution_count": null,
   "metadata": {
    "colab": {
     "base_uri": "https://localhost:8080/"
    },
    "id": "4pxpW72L9iqq",
    "outputId": "6a681f56-5749-456f-b78b-f0247c522df9"
   },
   "outputs": [
    {
     "name": "stdout",
     "output_type": "stream",
     "text": [
      "Cluster 0:\n",
      "              price       category       location     geo_region  \\\n",
      "count  1.572670e+05  157267.000000  157267.000000  157267.000000   \n",
      "mean   2.350122e+06       4.613644     104.054309       4.855361   \n",
      "std    5.011264e+06       2.404338      54.157327       6.046693   \n",
      "min    1.000000e+00       0.000000       0.000000       0.000000   \n",
      "25%    1.800000e+05       3.000000      64.000000       1.000000   \n",
      "50%    5.100000e+05       6.000000     107.000000       2.000000   \n",
      "75%    2.625000e+06       6.000000     150.000000       7.000000   \n",
      "max    2.100000e+08       9.000000     203.000000      20.000000   \n",
      "\n",
      "                area      is_member    is_verified  membership_level  \\\n",
      "count  157267.000000  157267.000000  157267.000000     157267.000000   \n",
      "mean        7.863392       0.274972       0.176483          0.505510   \n",
      "std         5.477862       0.446502       0.381232          0.839482   \n",
      "min         0.000000       0.000000       0.000000          0.000000   \n",
      "25%         4.000000       0.000000       0.000000          0.000000   \n",
      "50%         6.000000       0.000000       0.000000          0.000000   \n",
      "75%        10.000000       1.000000       0.000000          1.000000   \n",
      "max        24.000000       1.000000       1.000000          2.000000   \n",
      "\n",
      "           date_diff          Brand   cluster  \n",
      "count  157267.000000  157267.000000  157267.0  \n",
      "mean       58.694170      11.196150       0.0  \n",
      "std         1.129202       8.303981       0.0  \n",
      "min        47.000000       0.000000       0.0  \n",
      "25%        59.000000       3.000000       0.0  \n",
      "50%        59.000000      12.000000       0.0  \n",
      "75%        59.000000      19.000000       0.0  \n",
      "max        60.000000      23.000000       0.0  \n",
      "\n",
      "Cluster 1:\n",
      "              price     category     location   geo_region         area  \\\n",
      "count  3.011000e+03  3011.000000  3011.000000  3011.000000  3011.000000   \n",
      "mean   5.658412e+06     4.411159   104.874128     4.588841     7.934905   \n",
      "std    4.138158e+07     2.140341    55.480957     5.905709     5.281424   \n",
      "min    8.500000e+02     0.000000     0.000000     0.000000     0.000000   \n",
      "25%    9.500000e+05     3.000000    61.000000     1.000000     4.000000   \n",
      "50%    3.650000e+06     3.000000   111.000000     2.000000     6.000000   \n",
      "75%    5.900000e+06     6.000000   153.000000     6.000000    10.000000   \n",
      "max    1.980000e+09     9.000000   203.000000    20.000000    24.000000   \n",
      "\n",
      "         is_member  is_verified  membership_level    date_diff        Brand  \\\n",
      "count  3011.000000  3011.000000       3011.000000  3011.000000  3011.000000   \n",
      "mean      0.098638     0.054467          0.173696    34.027898    13.771504   \n",
      "std       0.298225     0.226974          0.538904     9.908714     7.499962   \n",
      "min       0.000000     0.000000          0.000000     0.000000     0.000000   \n",
      "25%       0.000000     0.000000          0.000000    29.000000     5.000000   \n",
      "50%       0.000000     0.000000          0.000000    36.000000    15.000000   \n",
      "75%       0.000000     0.000000          0.000000    41.000000    22.000000   \n",
      "max       1.000000     1.000000          2.000000    59.000000    23.000000   \n",
      "\n",
      "       cluster  \n",
      "count   3011.0  \n",
      "mean       1.0  \n",
      "std        0.0  \n",
      "min        1.0  \n",
      "25%        1.0  \n",
      "50%        1.0  \n",
      "75%        1.0  \n",
      "max        1.0  \n",
      "\n"
     ]
    }
   ],
   "source": [
    "# Describe the characteristics of each cluster\n",
    "for cluster in range(optimal_clusters):\n",
    "    print(f\"Cluster {cluster}:\")\n",
    "    print(df2[df2['cluster'] == cluster].describe())\n",
    "    print()"
   ]
  },
  {
   "cell_type": "code",
   "execution_count": null,
   "metadata": {
    "id": "CLM9Q2p6cP36"
   },
   "outputs": [],
   "source": [
    "\n",
    "#                                                  A detailed report on data preprocessing and feature selection.\n",
    "\n",
    "# Data Preprocessing:\n",
    "# 1. Missing Values:\n",
    "#    - The dataset contained missing values in several columns.\n",
    "#    - We used the `dropna()` method to remove rows with missing values in critical columns such as 'type', 'price', 'timestamp', etc.\n",
    "\n",
    "# 2. Encoding Categorical Variables:\n",
    "#    - We used the `LabelEncoder` class to encode categorical variables such as 'category', 'is_member', 'location', etc.\n",
    "\n",
    "# 3. Feature Engineering:\n",
    "#    - We extracted the 'Brand' information from the 'properties' column by converting the string to a dictionary using `ast.literal_eval`.\n",
    "#    - We replaced 'NaN' values in the 'Brand' column with actual numpy nan values.\n",
    "#    - We removed rows with NaN values in the 'Brand' column.\n",
    "#    - We removed brands with less than 1000 occurrences to focus on the most prominent brands.\n",
    "# Feature Selection:\n",
    "# 1. PCA:\n",
    "#    - We used Principal Component Analysis (PCA) to reduce the dimensionality of the data.\n",
    "#    - We scaled the data using the `StandardScaler` before performing PCA.\n",
    "#    - We determined the number of principal components to retain based on the cumulative explained variance ratio.\n",
    "#    - We used the `pca.components_` attribute to transform the data into the new principal component space.\n",
    "\n",
    "# 2. Clustering:\n",
    "#    - We applied K-means clustering to segment users based on their principal component scores.\n",
    "#    - We used the Elbow Method and Silhouette Score to determine the optimal number of clusters.\n",
    "#    - We visualized the clusters using a scatter plot.\n",
    "#    - We described the characteristics of each cluster by calculating descriptive statistics for each cluster.\n",
    "# Conclusion:\n",
    "# The data preprocessing and feature selection steps were crucial in preparing the data for clustering analysis. By handling missing values, encoding categorical variables, and reducing dimensionality, we improved the quality and interpretability of the clustering results.\n"
   ]
  },
  {
   "cell_type": "markdown",
   "metadata": {
    "id": "nHdwlrWjC7IJ"
   },
   "source": [
    "# Section 3: Geographical Analysis of Demand and Supply\n"
   ]
  },
  {
   "cell_type": "markdown",
   "metadata": {
    "id": "uRGRJPXWC_pf"
   },
   "source": [
    "Problem Statement: Analyze the geographical distribution of vehicle advertisements to understand demand and supply patterns.\n"
   ]
  },
  {
   "cell_type": "markdown",
   "metadata": {
    "id": "ryvI-mTpDkz4"
   },
   "source": [
    "1. Data Preprocessing:"
   ]
  },
  {
   "cell_type": "markdown",
   "metadata": {
    "id": "rP29ZUTBDt1k"
   },
   "source": [
    "Handle missing values.\n",
    "Encode geographical variables.\n"
   ]
  },
  {
   "cell_type": "code",
   "execution_count": null,
   "metadata": {
    "colab": {
     "base_uri": "https://localhost:8080/",
     "height": 689
    },
    "id": "yCjkStdgC8Qa",
    "outputId": "c71f1b5e-7b38-4956-8a72-e1f09bbedecb"
   },
   "outputs": [
    {
     "data": {
      "application/vnd.google.colaboratory.intrinsic+json": {
       "type": "dataframe",
       "variable_name": "df"
      },
      "text/html": [
       "\n",
       "  <div id=\"df-f9227c5a-5f8c-404d-9e57-b25f9edd580b\" class=\"colab-df-container\">\n",
       "    <div>\n",
       "<style scoped>\n",
       "    .dataframe tbody tr th:only-of-type {\n",
       "        vertical-align: middle;\n",
       "    }\n",
       "\n",
       "    .dataframe tbody tr th {\n",
       "        vertical-align: top;\n",
       "    }\n",
       "\n",
       "    .dataframe thead th {\n",
       "        text-align: right;\n",
       "    }\n",
       "</style>\n",
       "<table border=\"1\" class=\"dataframe\">\n",
       "  <thead>\n",
       "    <tr style=\"text-align: right;\">\n",
       "      <th></th>\n",
       "      <th>ad_title</th>\n",
       "      <th>ad_description</th>\n",
       "      <th>details</th>\n",
       "      <th>slug</th>\n",
       "      <th>title</th>\n",
       "      <th>type</th>\n",
       "      <th>price</th>\n",
       "      <th>timestamp</th>\n",
       "      <th>posted_date</th>\n",
       "      <th>deactivation_date</th>\n",
       "      <th>...</th>\n",
       "      <th>is_doorstep_delivery</th>\n",
       "      <th>is_dsd_applicable</th>\n",
       "      <th>is_member</th>\n",
       "      <th>is_authorized_dealer</th>\n",
       "      <th>is_featured_member</th>\n",
       "      <th>is_verified</th>\n",
       "      <th>membership_level</th>\n",
       "      <th>member_since</th>\n",
       "      <th>properties</th>\n",
       "      <th>user</th>\n",
       "    </tr>\n",
       "  </thead>\n",
       "  <tbody>\n",
       "    <tr>\n",
       "      <th>0</th>\n",
       "      <td>Nissan Tiida Alternator  in Maharagama | ikman</td>\n",
       "      <td>**TISSA AUTO PARTS** Dealer of used Japanese m...</td>\n",
       "      <td>NaN</td>\n",
       "      <td>nissan-tiida-alternator-for-sale-colombo-3</td>\n",
       "      <td>Nissan Tiida Alternator</td>\n",
       "      <td>for_sale</td>\n",
       "      <td>Rs 18,000</td>\n",
       "      <td>23 Feb 11:35 pm</td>\n",
       "      <td>2023-02-23T23:35:10+05:30</td>\n",
       "      <td>2022-05-30T17:13:04.000Z</td>\n",
       "      <td>...</td>\n",
       "      <td>False</td>\n",
       "      <td>False</td>\n",
       "      <td>True</td>\n",
       "      <td>False</td>\n",
       "      <td>False</td>\n",
       "      <td>True</td>\n",
       "      <td>premium</td>\n",
       "      <td>September 2019</td>\n",
       "      <td>{'Condition': 'Reconditioned', 'Part or Access...</td>\n",
       "      <td>a6681dea494390daa516a6d2bdcb36e08c318574a13413...</td>\n",
       "    </tr>\n",
       "    <tr>\n",
       "      <th>1</th>\n",
       "      <td>Axio 165 Tail Light  in Kotte | ikman</td>\n",
       "      <td>Imported from Japan \\n\\nRight side available \\...</td>\n",
       "      <td>NaN</td>\n",
       "      <td>axio-165-tail-light-for-sale-colombo-14</td>\n",
       "      <td>Axio 165 Tail Light</td>\n",
       "      <td>for_sale</td>\n",
       "      <td>Rs 67,000</td>\n",
       "      <td>23 Feb 8:32 am</td>\n",
       "      <td>2023-02-23T08:32:44+05:30</td>\n",
       "      <td>2022-03-31T16:27:59.000Z</td>\n",
       "      <td>...</td>\n",
       "      <td>False</td>\n",
       "      <td>False</td>\n",
       "      <td>True</td>\n",
       "      <td>False</td>\n",
       "      <td>False</td>\n",
       "      <td>True</td>\n",
       "      <td>plus</td>\n",
       "      <td>June 2018</td>\n",
       "      <td>{'Condition': 'Reconditioned', 'Part or Access...</td>\n",
       "      <td>5d99b8e45a1bb318079da7a36392d9025e1644cb49ecbf...</td>\n",
       "    </tr>\n",
       "    <tr>\n",
       "      <th>2</th>\n",
       "      <td>Axio 165 / 161 Head light  in Kotte | ikman.lk</td>\n",
       "      <td>Imported from Japan \\n\\nAuto focus headlight a...</td>\n",
       "      <td>NaN</td>\n",
       "      <td>axio-165-161-head-light-for-sale-colombo</td>\n",
       "      <td>Axio 165 / 161 Head light</td>\n",
       "      <td>for_sale</td>\n",
       "      <td>Rs 85,000</td>\n",
       "      <td>01 Dec 8:27 pm</td>\n",
       "      <td>2022-12-01T20:27:49+05:30</td>\n",
       "      <td>2022-03-31T14:03:57.000Z</td>\n",
       "      <td>...</td>\n",
       "      <td>False</td>\n",
       "      <td>False</td>\n",
       "      <td>True</td>\n",
       "      <td>False</td>\n",
       "      <td>False</td>\n",
       "      <td>True</td>\n",
       "      <td>plus</td>\n",
       "      <td>June 2018</td>\n",
       "      <td>{'Condition': 'Reconditioned', 'Part or Access...</td>\n",
       "      <td>5d99b8e45a1bb318079da7a36392d9025e1644cb49ecbf...</td>\n",
       "    </tr>\n",
       "    <tr>\n",
       "      <th>3</th>\n",
       "      <td>Vigo side step ( Foot board)  in Kottawa | ikman</td>\n",
       "      <td>Hilux Vigo side step\\nBrand New Thaiwan\\nGood ...</td>\n",
       "      <td>NaN</td>\n",
       "      <td>vigo-side-step-foot-board-for-sale-colombo</td>\n",
       "      <td>Vigo side step ( Foot board)</td>\n",
       "      <td>for_sale</td>\n",
       "      <td>Rs 47,000</td>\n",
       "      <td>04 Dec 2:47 pm</td>\n",
       "      <td>2022-12-04T14:47:27+05:30</td>\n",
       "      <td>2022-07-29T13:22:59.000Z</td>\n",
       "      <td>...</td>\n",
       "      <td>False</td>\n",
       "      <td>False</td>\n",
       "      <td>True</td>\n",
       "      <td>False</td>\n",
       "      <td>False</td>\n",
       "      <td>False</td>\n",
       "      <td>plus</td>\n",
       "      <td>February 2017</td>\n",
       "      <td>{'Condition': 'New', 'Part or Accessory Type':...</td>\n",
       "      <td>634d93e14a62d9de7b400ee3679ae1d5506f4252ff0580...</td>\n",
       "    </tr>\n",
       "    <tr>\n",
       "      <th>4</th>\n",
       "      <td>Vigo Dickey Door Garnish Cover  in Kottawa | i...</td>\n",
       "      <td>Hilux Vigo ( 2005, 2009 ) dickey door garnish set</td>\n",
       "      <td>NaN</td>\n",
       "      <td>vigo-dickey-door-garnish-cover-for-sale-colombo-1</td>\n",
       "      <td>Vigo Dickey Door Garnish Cover</td>\n",
       "      <td>for_sale</td>\n",
       "      <td>Rs 9,000</td>\n",
       "      <td>08 Dec 9:28 am</td>\n",
       "      <td>2022-12-08T09:28:04+05:30</td>\n",
       "      <td>2022-07-29T12:55:44.000Z</td>\n",
       "      <td>...</td>\n",
       "      <td>False</td>\n",
       "      <td>False</td>\n",
       "      <td>True</td>\n",
       "      <td>False</td>\n",
       "      <td>False</td>\n",
       "      <td>False</td>\n",
       "      <td>plus</td>\n",
       "      <td>February 2017</td>\n",
       "      <td>{'Condition': 'New', 'Part or Accessory Type':...</td>\n",
       "      <td>634d93e14a62d9de7b400ee3679ae1d5506f4252ff0580...</td>\n",
       "    </tr>\n",
       "  </tbody>\n",
       "</table>\n",
       "<p>5 rows × 26 columns</p>\n",
       "</div>\n",
       "    <div class=\"colab-df-buttons\">\n",
       "\n",
       "  <div class=\"colab-df-container\">\n",
       "    <button class=\"colab-df-convert\" onclick=\"convertToInteractive('df-f9227c5a-5f8c-404d-9e57-b25f9edd580b')\"\n",
       "            title=\"Convert this dataframe to an interactive table.\"\n",
       "            style=\"display:none;\">\n",
       "\n",
       "  <svg xmlns=\"http://www.w3.org/2000/svg\" height=\"24px\" viewBox=\"0 -960 960 960\">\n",
       "    <path d=\"M120-120v-720h720v720H120Zm60-500h600v-160H180v160Zm220 220h160v-160H400v160Zm0 220h160v-160H400v160ZM180-400h160v-160H180v160Zm440 0h160v-160H620v160ZM180-180h160v-160H180v160Zm440 0h160v-160H620v160Z\"/>\n",
       "  </svg>\n",
       "    </button>\n",
       "\n",
       "  <style>\n",
       "    .colab-df-container {\n",
       "      display:flex;\n",
       "      gap: 12px;\n",
       "    }\n",
       "\n",
       "    .colab-df-convert {\n",
       "      background-color: #E8F0FE;\n",
       "      border: none;\n",
       "      border-radius: 50%;\n",
       "      cursor: pointer;\n",
       "      display: none;\n",
       "      fill: #1967D2;\n",
       "      height: 32px;\n",
       "      padding: 0 0 0 0;\n",
       "      width: 32px;\n",
       "    }\n",
       "\n",
       "    .colab-df-convert:hover {\n",
       "      background-color: #E2EBFA;\n",
       "      box-shadow: 0px 1px 2px rgba(60, 64, 67, 0.3), 0px 1px 3px 1px rgba(60, 64, 67, 0.15);\n",
       "      fill: #174EA6;\n",
       "    }\n",
       "\n",
       "    .colab-df-buttons div {\n",
       "      margin-bottom: 4px;\n",
       "    }\n",
       "\n",
       "    [theme=dark] .colab-df-convert {\n",
       "      background-color: #3B4455;\n",
       "      fill: #D2E3FC;\n",
       "    }\n",
       "\n",
       "    [theme=dark] .colab-df-convert:hover {\n",
       "      background-color: #434B5C;\n",
       "      box-shadow: 0px 1px 3px 1px rgba(0, 0, 0, 0.15);\n",
       "      filter: drop-shadow(0px 1px 2px rgba(0, 0, 0, 0.3));\n",
       "      fill: #FFFFFF;\n",
       "    }\n",
       "  </style>\n",
       "\n",
       "    <script>\n",
       "      const buttonEl =\n",
       "        document.querySelector('#df-f9227c5a-5f8c-404d-9e57-b25f9edd580b button.colab-df-convert');\n",
       "      buttonEl.style.display =\n",
       "        google.colab.kernel.accessAllowed ? 'block' : 'none';\n",
       "\n",
       "      async function convertToInteractive(key) {\n",
       "        const element = document.querySelector('#df-f9227c5a-5f8c-404d-9e57-b25f9edd580b');\n",
       "        const dataTable =\n",
       "          await google.colab.kernel.invokeFunction('convertToInteractive',\n",
       "                                                    [key], {});\n",
       "        if (!dataTable) return;\n",
       "\n",
       "        const docLinkHtml = 'Like what you see? Visit the ' +\n",
       "          '<a target=\"_blank\" href=https://colab.research.google.com/notebooks/data_table.ipynb>data table notebook</a>'\n",
       "          + ' to learn more about interactive tables.';\n",
       "        element.innerHTML = '';\n",
       "        dataTable['output_type'] = 'display_data';\n",
       "        await google.colab.output.renderOutput(dataTable, element);\n",
       "        const docLink = document.createElement('div');\n",
       "        docLink.innerHTML = docLinkHtml;\n",
       "        element.appendChild(docLink);\n",
       "      }\n",
       "    </script>\n",
       "  </div>\n",
       "\n",
       "\n",
       "<div id=\"df-743d54c6-fe81-421e-be3c-b981d4ed7825\">\n",
       "  <button class=\"colab-df-quickchart\" onclick=\"quickchart('df-743d54c6-fe81-421e-be3c-b981d4ed7825')\"\n",
       "            title=\"Suggest charts\"\n",
       "            style=\"display:none;\">\n",
       "\n",
       "<svg xmlns=\"http://www.w3.org/2000/svg\" height=\"24px\"viewBox=\"0 0 24 24\"\n",
       "     width=\"24px\">\n",
       "    <g>\n",
       "        <path d=\"M19 3H5c-1.1 0-2 .9-2 2v14c0 1.1.9 2 2 2h14c1.1 0 2-.9 2-2V5c0-1.1-.9-2-2-2zM9 17H7v-7h2v7zm4 0h-2V7h2v10zm4 0h-2v-4h2v4z\"/>\n",
       "    </g>\n",
       "</svg>\n",
       "  </button>\n",
       "\n",
       "<style>\n",
       "  .colab-df-quickchart {\n",
       "      --bg-color: #E8F0FE;\n",
       "      --fill-color: #1967D2;\n",
       "      --hover-bg-color: #E2EBFA;\n",
       "      --hover-fill-color: #174EA6;\n",
       "      --disabled-fill-color: #AAA;\n",
       "      --disabled-bg-color: #DDD;\n",
       "  }\n",
       "\n",
       "  [theme=dark] .colab-df-quickchart {\n",
       "      --bg-color: #3B4455;\n",
       "      --fill-color: #D2E3FC;\n",
       "      --hover-bg-color: #434B5C;\n",
       "      --hover-fill-color: #FFFFFF;\n",
       "      --disabled-bg-color: #3B4455;\n",
       "      --disabled-fill-color: #666;\n",
       "  }\n",
       "\n",
       "  .colab-df-quickchart {\n",
       "    background-color: var(--bg-color);\n",
       "    border: none;\n",
       "    border-radius: 50%;\n",
       "    cursor: pointer;\n",
       "    display: none;\n",
       "    fill: var(--fill-color);\n",
       "    height: 32px;\n",
       "    padding: 0;\n",
       "    width: 32px;\n",
       "  }\n",
       "\n",
       "  .colab-df-quickchart:hover {\n",
       "    background-color: var(--hover-bg-color);\n",
       "    box-shadow: 0 1px 2px rgba(60, 64, 67, 0.3), 0 1px 3px 1px rgba(60, 64, 67, 0.15);\n",
       "    fill: var(--button-hover-fill-color);\n",
       "  }\n",
       "\n",
       "  .colab-df-quickchart-complete:disabled,\n",
       "  .colab-df-quickchart-complete:disabled:hover {\n",
       "    background-color: var(--disabled-bg-color);\n",
       "    fill: var(--disabled-fill-color);\n",
       "    box-shadow: none;\n",
       "  }\n",
       "\n",
       "  .colab-df-spinner {\n",
       "    border: 2px solid var(--fill-color);\n",
       "    border-color: transparent;\n",
       "    border-bottom-color: var(--fill-color);\n",
       "    animation:\n",
       "      spin 1s steps(1) infinite;\n",
       "  }\n",
       "\n",
       "  @keyframes spin {\n",
       "    0% {\n",
       "      border-color: transparent;\n",
       "      border-bottom-color: var(--fill-color);\n",
       "      border-left-color: var(--fill-color);\n",
       "    }\n",
       "    20% {\n",
       "      border-color: transparent;\n",
       "      border-left-color: var(--fill-color);\n",
       "      border-top-color: var(--fill-color);\n",
       "    }\n",
       "    30% {\n",
       "      border-color: transparent;\n",
       "      border-left-color: var(--fill-color);\n",
       "      border-top-color: var(--fill-color);\n",
       "      border-right-color: var(--fill-color);\n",
       "    }\n",
       "    40% {\n",
       "      border-color: transparent;\n",
       "      border-right-color: var(--fill-color);\n",
       "      border-top-color: var(--fill-color);\n",
       "    }\n",
       "    60% {\n",
       "      border-color: transparent;\n",
       "      border-right-color: var(--fill-color);\n",
       "    }\n",
       "    80% {\n",
       "      border-color: transparent;\n",
       "      border-right-color: var(--fill-color);\n",
       "      border-bottom-color: var(--fill-color);\n",
       "    }\n",
       "    90% {\n",
       "      border-color: transparent;\n",
       "      border-bottom-color: var(--fill-color);\n",
       "    }\n",
       "  }\n",
       "</style>\n",
       "\n",
       "  <script>\n",
       "    async function quickchart(key) {\n",
       "      const quickchartButtonEl =\n",
       "        document.querySelector('#' + key + ' button');\n",
       "      quickchartButtonEl.disabled = true;  // To prevent multiple clicks.\n",
       "      quickchartButtonEl.classList.add('colab-df-spinner');\n",
       "      try {\n",
       "        const charts = await google.colab.kernel.invokeFunction(\n",
       "            'suggestCharts', [key], {});\n",
       "      } catch (error) {\n",
       "        console.error('Error during call to suggestCharts:', error);\n",
       "      }\n",
       "      quickchartButtonEl.classList.remove('colab-df-spinner');\n",
       "      quickchartButtonEl.classList.add('colab-df-quickchart-complete');\n",
       "    }\n",
       "    (() => {\n",
       "      let quickchartButtonEl =\n",
       "        document.querySelector('#df-743d54c6-fe81-421e-be3c-b981d4ed7825 button');\n",
       "      quickchartButtonEl.style.display =\n",
       "        google.colab.kernel.accessAllowed ? 'block' : 'none';\n",
       "    })();\n",
       "  </script>\n",
       "</div>\n",
       "\n",
       "    </div>\n",
       "  </div>\n"
      ],
      "text/plain": [
       "                                            ad_title  \\\n",
       "0     Nissan Tiida Alternator  in Maharagama | ikman   \n",
       "1              Axio 165 Tail Light  in Kotte | ikman   \n",
       "2     Axio 165 / 161 Head light  in Kotte | ikman.lk   \n",
       "3   Vigo side step ( Foot board)  in Kottawa | ikman   \n",
       "4  Vigo Dickey Door Garnish Cover  in Kottawa | i...   \n",
       "\n",
       "                                      ad_description details  \\\n",
       "0  **TISSA AUTO PARTS** Dealer of used Japanese m...     NaN   \n",
       "1  Imported from Japan \\n\\nRight side available \\...     NaN   \n",
       "2  Imported from Japan \\n\\nAuto focus headlight a...     NaN   \n",
       "3  Hilux Vigo side step\\nBrand New Thaiwan\\nGood ...     NaN   \n",
       "4  Hilux Vigo ( 2005, 2009 ) dickey door garnish set     NaN   \n",
       "\n",
       "                                                slug  \\\n",
       "0         nissan-tiida-alternator-for-sale-colombo-3   \n",
       "1            axio-165-tail-light-for-sale-colombo-14   \n",
       "2           axio-165-161-head-light-for-sale-colombo   \n",
       "3         vigo-side-step-foot-board-for-sale-colombo   \n",
       "4  vigo-dickey-door-garnish-cover-for-sale-colombo-1   \n",
       "\n",
       "                            title      type      price        timestamp  \\\n",
       "0         Nissan Tiida Alternator  for_sale  Rs 18,000  23 Feb 11:35 pm   \n",
       "1             Axio 165 Tail Light  for_sale  Rs 67,000   23 Feb 8:32 am   \n",
       "2       Axio 165 / 161 Head light  for_sale  Rs 85,000   01 Dec 8:27 pm   \n",
       "3    Vigo side step ( Foot board)  for_sale  Rs 47,000   04 Dec 2:47 pm   \n",
       "4  Vigo Dickey Door Garnish Cover  for_sale   Rs 9,000   08 Dec 9:28 am   \n",
       "\n",
       "                 posted_date         deactivation_date  ...  \\\n",
       "0  2023-02-23T23:35:10+05:30  2022-05-30T17:13:04.000Z  ...   \n",
       "1  2023-02-23T08:32:44+05:30  2022-03-31T16:27:59.000Z  ...   \n",
       "2  2022-12-01T20:27:49+05:30  2022-03-31T14:03:57.000Z  ...   \n",
       "3  2022-12-04T14:47:27+05:30  2022-07-29T13:22:59.000Z  ...   \n",
       "4  2022-12-08T09:28:04+05:30  2022-07-29T12:55:44.000Z  ...   \n",
       "\n",
       "  is_doorstep_delivery is_dsd_applicable is_member is_authorized_dealer  \\\n",
       "0                False             False      True                False   \n",
       "1                False             False      True                False   \n",
       "2                False             False      True                False   \n",
       "3                False             False      True                False   \n",
       "4                False             False      True                False   \n",
       "\n",
       "  is_featured_member  is_verified  membership_level    member_since  \\\n",
       "0              False         True           premium  September 2019   \n",
       "1              False         True              plus       June 2018   \n",
       "2              False         True              plus       June 2018   \n",
       "3              False        False              plus   February 2017   \n",
       "4              False        False              plus   February 2017   \n",
       "\n",
       "                                          properties  \\\n",
       "0  {'Condition': 'Reconditioned', 'Part or Access...   \n",
       "1  {'Condition': 'Reconditioned', 'Part or Access...   \n",
       "2  {'Condition': 'Reconditioned', 'Part or Access...   \n",
       "3  {'Condition': 'New', 'Part or Accessory Type':...   \n",
       "4  {'Condition': 'New', 'Part or Accessory Type':...   \n",
       "\n",
       "                                                user  \n",
       "0  a6681dea494390daa516a6d2bdcb36e08c318574a13413...  \n",
       "1  5d99b8e45a1bb318079da7a36392d9025e1644cb49ecbf...  \n",
       "2  5d99b8e45a1bb318079da7a36392d9025e1644cb49ecbf...  \n",
       "3  634d93e14a62d9de7b400ee3679ae1d5506f4252ff0580...  \n",
       "4  634d93e14a62d9de7b400ee3679ae1d5506f4252ff0580...  \n",
       "\n",
       "[5 rows x 26 columns]"
      ]
     },
     "execution_count": 161,
     "metadata": {},
     "output_type": "execute_result"
    }
   ],
   "source": [
    "df.head()"
   ]
  },
  {
   "cell_type": "code",
   "execution_count": null,
   "metadata": {
    "colab": {
     "base_uri": "https://localhost:8080/"
    },
    "id": "IlTZ1biODxol",
    "outputId": "0b6e2a20-25be-4c92-ad5a-f1dce8ed9b71"
   },
   "outputs": [
    {
     "data": {
      "text/plain": [
       "(258888, 26)"
      ]
     },
     "execution_count": 162,
     "metadata": {},
     "output_type": "execute_result"
    }
   ],
   "source": [
    "df.shape"
   ]
  },
  {
   "cell_type": "code",
   "execution_count": null,
   "metadata": {
    "colab": {
     "base_uri": "https://localhost:8080/"
    },
    "id": "BycT2W4cD_LJ",
    "outputId": "067d7214-18fb-4a57-f797-7871572c7a68"
   },
   "outputs": [
    {
     "data": {
      "text/plain": [
       "ad_title                     0\n",
       "ad_description               7\n",
       "details                 103383\n",
       "slug                         0\n",
       "title                        0\n",
       "type                         0\n",
       "price                     3811\n",
       "timestamp                    6\n",
       "posted_date                  6\n",
       "deactivation_date            6\n",
       "category                     0\n",
       "parent_category              0\n",
       "location                     0\n",
       "geo_region                   0\n",
       "area                         0\n",
       "is_delivery_free             0\n",
       "is_doorstep_delivery         0\n",
       "is_dsd_applicable            0\n",
       "is_member                 9050\n",
       "is_authorized_dealer      9050\n",
       "is_featured_member        9050\n",
       "is_verified                  0\n",
       "membership_level             0\n",
       "member_since            150254\n",
       "properties                   0\n",
       "user                         0\n",
       "dtype: int64"
      ]
     },
     "execution_count": 163,
     "metadata": {},
     "output_type": "execute_result"
    }
   ],
   "source": [
    "df.isnull().sum()"
   ]
  },
  {
   "cell_type": "code",
   "execution_count": null,
   "metadata": {
    "colab": {
     "base_uri": "https://localhost:8080/"
    },
    "id": "nZW3dJQhEA21",
    "outputId": "78b5224f-7a5b-430e-f0c4-7a6ffc50ba31"
   },
   "outputs": [
    {
     "name": "stdout",
     "output_type": "stream",
     "text": [
      "<class 'pandas.core.frame.DataFrame'>\n",
      "RangeIndex: 258888 entries, 0 to 258887\n",
      "Data columns (total 26 columns):\n",
      " #   Column                Non-Null Count   Dtype \n",
      "---  ------                --------------   ----- \n",
      " 0   ad_title              258888 non-null  object\n",
      " 1   ad_description        258881 non-null  object\n",
      " 2   details               155505 non-null  object\n",
      " 3   slug                  258888 non-null  object\n",
      " 4   title                 258888 non-null  object\n",
      " 5   type                  258888 non-null  object\n",
      " 6   price                 255077 non-null  object\n",
      " 7   timestamp             258882 non-null  object\n",
      " 8   posted_date           258882 non-null  object\n",
      " 9   deactivation_date     258882 non-null  object\n",
      " 10  category              258888 non-null  object\n",
      " 11  parent_category       258888 non-null  object\n",
      " 12  location              258888 non-null  object\n",
      " 13  geo_region            258888 non-null  object\n",
      " 14  area                  258888 non-null  object\n",
      " 15  is_delivery_free      258888 non-null  bool  \n",
      " 16  is_doorstep_delivery  258888 non-null  bool  \n",
      " 17  is_dsd_applicable     258888 non-null  bool  \n",
      " 18  is_member             249838 non-null  object\n",
      " 19  is_authorized_dealer  249838 non-null  object\n",
      " 20  is_featured_member    249838 non-null  object\n",
      " 21  is_verified           258888 non-null  bool  \n",
      " 22  membership_level      258888 non-null  object\n",
      " 23  member_since          108634 non-null  object\n",
      " 24  properties            258888 non-null  object\n",
      " 25  user                  258888 non-null  object\n",
      "dtypes: bool(4), object(22)\n",
      "memory usage: 44.4+ MB\n"
     ]
    }
   ],
   "source": [
    "df.info()"
   ]
  },
  {
   "cell_type": "code",
   "execution_count": null,
   "metadata": {
    "id": "R-tn5APxEKBp"
   },
   "outputs": [],
   "source": [
    "df3 = df[[\"location\", \"geo_region\", \"area\"]]"
   ]
  },
  {
   "cell_type": "code",
   "execution_count": null,
   "metadata": {
    "colab": {
     "base_uri": "https://localhost:8080/"
    },
    "id": "MNhnPk50NuJJ",
    "outputId": "a5912823-feef-4308-dec6-23ea368ad06b"
   },
   "outputs": [
    {
     "data": {
      "text/plain": [
       "location      0\n",
       "geo_region    0\n",
       "area          0\n",
       "dtype: int64"
      ]
     },
     "execution_count": 166,
     "metadata": {},
     "output_type": "execute_result"
    }
   ],
   "source": [
    "df3.isnull().sum()"
   ]
  },
  {
   "cell_type": "code",
   "execution_count": null,
   "metadata": {
    "colab": {
     "base_uri": "https://localhost:8080/"
    },
    "id": "0XcztXJ8N1Tt",
    "outputId": "b2324df5-2ce2-4e10-d71f-a502a1824c6e"
   },
   "outputs": [
    {
     "name": "stdout",
     "output_type": "stream",
     "text": [
      "<class 'pandas.core.frame.DataFrame'>\n",
      "RangeIndex: 258888 entries, 0 to 258887\n",
      "Data columns (total 3 columns):\n",
      " #   Column      Non-Null Count   Dtype \n",
      "---  ------      --------------   ----- \n",
      " 0   location    258888 non-null  object\n",
      " 1   geo_region  258888 non-null  object\n",
      " 2   area        258888 non-null  object\n",
      "dtypes: object(3)\n",
      "memory usage: 5.9+ MB\n"
     ]
    }
   ],
   "source": [
    "df3.info()"
   ]
  },
  {
   "cell_type": "markdown",
   "metadata": {
    "id": "U7vDPD6dOVRe"
   },
   "source": [
    "Grouping the geo_region based on the values inside."
   ]
  },
  {
   "cell_type": "code",
   "execution_count": null,
   "metadata": {
    "colab": {
     "base_uri": "https://localhost:8080/"
    },
    "id": "z8ucN7QHOBiw",
    "outputId": "71227ba5-9a6f-4e40-f5ef-780211589a05"
   },
   "outputs": [
    {
     "data": {
      "text/plain": [
       "geo_region\n",
       "LK       26869\n",
       "LK-11    99158\n",
       "LK-12    51005\n",
       "LK-21    15743\n",
       "LK-22     2522\n",
       "LK-23      926\n",
       "LK-31     7733\n",
       "LK-33     2954\n",
       "LK-41     4894\n",
       "LK-42      462\n",
       "LK-43      284\n",
       "LK-44      970\n",
       "LK-51     2768\n",
       "LK-52     3174\n",
       "LK-53     2326\n",
       "LK-61    16243\n",
       "LK-62     5308\n",
       "LK-71     6055\n",
       "LK-72     1963\n",
       "LK-81     2924\n",
       "LK-92     4607\n",
       "dtype: int64"
      ]
     },
     "execution_count": 168,
     "metadata": {},
     "output_type": "execute_result"
    }
   ],
   "source": [
    "df3.groupby('geo_region').size()"
   ]
  },
  {
   "cell_type": "code",
   "execution_count": null,
   "metadata": {
    "colab": {
     "base_uri": "https://localhost:8080/",
     "height": 496
    },
    "id": "SgElpQgQP1Xa",
    "outputId": "73e26e6e-4571-4ce5-da5a-3ad0781cc45e"
   },
   "outputs": [
    {
     "data": {
      "image/png": "[encoded data removed]",
      "text/plain": [
       "<Figure size 640x480 with 1 Axes>"
      ]
     },
     "metadata": {},
     "output_type": "display_data"
    }
   ],
   "source": [
    "# Create a bar chart of the grouped data\n",
    "df3.groupby('geo_region').size().sort_values(ascending=False).plot(kind='bar')\n",
    "\n",
    "# Add labels and title\n",
    "plt.xlabel('Geo Region')\n",
    "plt.ylabel('Number of Vehicles')\n",
    "plt.title('Number of Vehicles by Geo Region')\n",
    "\n",
    "# Rotate x-axis labels for readability\n",
    "plt.xticks(rotation=90)\n",
    "\n",
    "# Show the plot\n",
    "plt.show()"
   ]
  },
  {
   "cell_type": "code",
   "execution_count": null,
   "metadata": {
    "colab": {
     "base_uri": "https://localhost:8080/"
    },
    "id": "FbV2sn0mQ7Lb",
    "outputId": "8497bf55-1c0d-4f8d-be2a-91834a66527b"
   },
   "outputs": [
    {
     "data": {
      "text/plain": [
       "location\n",
       "Ahangama         218\n",
       "Akkarepattu     1011\n",
       "Akurana          771\n",
       "Akuressa         738\n",
       "Alawwa           326\n",
       "                ... \n",
       "Wellampitiya    2099\n",
       "Wellawaya        312\n",
       "Wennappuwa       952\n",
       "Yatawatta         51\n",
       "Yatiyantota       88\n",
       "Length: 204, dtype: int64"
      ]
     },
     "execution_count": 170,
     "metadata": {},
     "output_type": "execute_result"
    }
   ],
   "source": [
    "#Grouping the geo_region based on the values inside.\n",
    "df3.groupby('location').size()"
   ]
  },
  {
   "cell_type": "code",
   "execution_count": null,
   "metadata": {
    "colab": {
     "base_uri": "https://localhost:8080/"
    },
    "id": "2Cx9OhKjRPAP",
    "outputId": "0793bc24-8439-4e19-891c-06de26028597"
   },
   "outputs": [
    {
     "name": "stdout",
     "output_type": "stream",
     "text": [
      "location\n",
      "Gampaha City       10299\n",
      "Nugegoda            9754\n",
      "Kottawa             8325\n",
      "Kurunegala City     7681\n",
      "Piliyandala         7441\n",
      "                   ...  \n",
      "Wariyapola          1052\n",
      "Badulla City        1035\n",
      "Monaragala City     1034\n",
      "Akkarepattu         1011\n",
      "Colombo 4           1003\n",
      "Name: count, Length: 67, dtype: int64\n"
     ]
    }
   ],
   "source": [
    "sorted_locations = df3['location'].value_counts().sort_values(ascending=False)\n",
    "filtered_locations = sorted_locations[sorted_locations > 1000]\n",
    "print(filtered_locations)"
   ]
  },
  {
   "cell_type": "code",
   "execution_count": null,
   "metadata": {
    "colab": {
     "base_uri": "https://localhost:8080/",
     "height": 681
    },
    "id": "oAObfht8RYZY",
    "outputId": "afddeb5d-e623-4166-8099-70d7dc4611b0"
   },
   "outputs": [
    {
     "data": {
      "image/png": "[encoded data removed]",
      "text/plain": [
       "<Figure size 1000x600 with 1 Axes>"
      ]
     },
     "metadata": {},
     "output_type": "display_data"
    }
   ],
   "source": [
    "import matplotlib.pyplot as plt\n",
    "\n",
    "plt.figure(figsize=(10, 6))  # Change the figsize to be smaller\n",
    "sns.barplot(x=filtered_locations.index, y=filtered_locations.values)\n",
    "\n",
    "plt.xlabel('Location')\n",
    "plt.ylabel('Number of Occurences')\n",
    "plt.title('Number of Occurences by Location')\n",
    "\n",
    "plt.xticks(rotation=90)\n",
    "\n",
    "plt.show()"
   ]
  },
  {
   "cell_type": "code",
   "execution_count": null,
   "metadata": {
    "id": "aAbpiqHwRqmM"
   },
   "outputs": [],
   "source": [
    "dict_df=df3[\"area\"].apply(pd.Series)"
   ]
  },
  {
   "cell_type": "code",
   "execution_count": null,
   "metadata": {
    "colab": {
     "base_uri": "https://localhost:8080/"
    },
    "id": "QRcsQRmpSBLT",
    "outputId": "7c10b60a-f1f8-43f6-829e-a7127f6b75ef"
   },
   "outputs": [
    {
     "data": {
      "text/plain": [
       "0    {'id': 1506, 'name': 'Colombo'}\n",
       "1    {'id': 1506, 'name': 'Colombo'}\n",
       "2    {'id': 1506, 'name': 'Colombo'}\n",
       "3    {'id': 1506, 'name': 'Colombo'}\n",
       "4    {'id': 1506, 'name': 'Colombo'}\n",
       "Name: area, dtype: object"
      ]
     },
     "execution_count": 174,
     "metadata": {},
     "output_type": "execute_result"
    }
   ],
   "source": [
    "df3['area'].head()"
   ]
  },
  {
   "cell_type": "code",
   "execution_count": null,
   "metadata": {
    "colab": {
     "base_uri": "https://localhost:8080/"
    },
    "id": "Ey93t07zSUDR",
    "outputId": "8c530287-49f3-4733-efe5-bf6b40eb5635"
   },
   "outputs": [
    {
     "name": "stdout",
     "output_type": "stream",
     "text": [
      "{'id': 1506, 'name': 'Colombo'}\n"
     ]
    }
   ],
   "source": [
    "dict_converted = ast.literal_eval(dict_df.iloc[2][0])\n",
    "print(dict_converted)"
   ]
  },
  {
   "cell_type": "code",
   "execution_count": null,
   "metadata": {
    "id": "pBNoRETKTunc"
   },
   "outputs": [],
   "source": [
    "Id = []\n",
    "Name = []\n",
    "\n",
    "for i in range(dict_df.shape[0]):\n",
    "    dict_converted = ast.literal_eval(dict_df.iloc[i][0])\n",
    "    if 'id' not in dict_converted:\n",
    "        Id.append('NaN')\n",
    "    else:\n",
    "        Id.append(dict_converted['id'])\n",
    "\n",
    "    if 'name' in dict_converted:\n",
    "        Name.append(dict_converted['name'])\n",
    "    else:\n",
    "        Name.append('NaN')"
   ]
  },
  {
   "cell_type": "code",
   "execution_count": null,
   "metadata": {
    "colab": {
     "base_uri": "https://localhost:8080/"
    },
    "id": "e6shH6IITxlN",
    "outputId": "f61e8149-90d2-4a70-973f-f5447bb600f6"
   },
   "outputs": [
    {
     "name": "stderr",
     "output_type": "stream",
     "text": [
      "<ipython-input-177-2b1207ae1148>:1: SettingWithCopyWarning: \n",
      "A value is trying to be set on a copy of a slice from a DataFrame.\n",
      "Try using .loc[row_indexer,col_indexer] = value instead\n",
      "\n",
      "See the caveats in the documentation: https://pandas.pydata.org/pandas-docs/stable/user_guide/indexing.html#returning-a-view-versus-a-copy\n",
      "  df3['Id'] = Id\n",
      "<ipython-input-177-2b1207ae1148>:2: SettingWithCopyWarning: \n",
      "A value is trying to be set on a copy of a slice from a DataFrame.\n",
      "Try using .loc[row_indexer,col_indexer] = value instead\n",
      "\n",
      "See the caveats in the documentation: https://pandas.pydata.org/pandas-docs/stable/user_guide/indexing.html#returning-a-view-versus-a-copy\n",
      "  df3['Name'] = Name\n"
     ]
    }
   ],
   "source": [
    "df3['Id'] = Id\n",
    "df3['Name'] = Name"
   ]
  },
  {
   "cell_type": "code",
   "execution_count": null,
   "metadata": {
    "colab": {
     "base_uri": "https://localhost:8080/"
    },
    "id": "2SoyhfqEUFoa",
    "outputId": "d4f0f7c1-f328-4fb1-a028-19db5e71c518"
   },
   "outputs": [
    {
     "data": {
      "text/plain": [
       "location      0\n",
       "geo_region    0\n",
       "area          0\n",
       "Id            0\n",
       "Name          0\n",
       "dtype: int64"
      ]
     },
     "execution_count": 178,
     "metadata": {},
     "output_type": "execute_result"
    }
   ],
   "source": [
    "df3.isnull().sum()"
   ]
  },
  {
   "cell_type": "code",
   "execution_count": null,
   "metadata": {
    "colab": {
     "base_uri": "https://localhost:8080/",
     "height": 206
    },
    "id": "BWbShu_nUPfc",
    "outputId": "1a72a060-e1d3-47a4-bc75-549d1a0304f5"
   },
   "outputs": [
    {
     "data": {
      "application/vnd.google.colaboratory.intrinsic+json": {
       "type": "dataframe",
       "variable_name": "df3"
      },
      "text/html": [
       "\n",
       "  <div id=\"df-8b57f328-d4d4-4a91-8988-9848af79c264\" class=\"colab-df-container\">\n",
       "    <div>\n",
       "<style scoped>\n",
       "    .dataframe tbody tr th:only-of-type {\n",
       "        vertical-align: middle;\n",
       "    }\n",
       "\n",
       "    .dataframe tbody tr th {\n",
       "        vertical-align: top;\n",
       "    }\n",
       "\n",
       "    .dataframe thead th {\n",
       "        text-align: right;\n",
       "    }\n",
       "</style>\n",
       "<table border=\"1\" class=\"dataframe\">\n",
       "  <thead>\n",
       "    <tr style=\"text-align: right;\">\n",
       "      <th></th>\n",
       "      <th>location</th>\n",
       "      <th>geo_region</th>\n",
       "      <th>area</th>\n",
       "      <th>Id</th>\n",
       "      <th>Name</th>\n",
       "    </tr>\n",
       "  </thead>\n",
       "  <tbody>\n",
       "    <tr>\n",
       "      <th>0</th>\n",
       "      <td>Maharagama</td>\n",
       "      <td>LK-11</td>\n",
       "      <td>{'id': 1506, 'name': 'Colombo'}</td>\n",
       "      <td>1506</td>\n",
       "      <td>Colombo</td>\n",
       "    </tr>\n",
       "    <tr>\n",
       "      <th>1</th>\n",
       "      <td>Kotte</td>\n",
       "      <td>LK-11</td>\n",
       "      <td>{'id': 1506, 'name': 'Colombo'}</td>\n",
       "      <td>1506</td>\n",
       "      <td>Colombo</td>\n",
       "    </tr>\n",
       "    <tr>\n",
       "      <th>2</th>\n",
       "      <td>Kotte</td>\n",
       "      <td>LK-11</td>\n",
       "      <td>{'id': 1506, 'name': 'Colombo'}</td>\n",
       "      <td>1506</td>\n",
       "      <td>Colombo</td>\n",
       "    </tr>\n",
       "    <tr>\n",
       "      <th>3</th>\n",
       "      <td>Kottawa</td>\n",
       "      <td>LK-11</td>\n",
       "      <td>{'id': 1506, 'name': 'Colombo'}</td>\n",
       "      <td>1506</td>\n",
       "      <td>Colombo</td>\n",
       "    </tr>\n",
       "    <tr>\n",
       "      <th>4</th>\n",
       "      <td>Kottawa</td>\n",
       "      <td>LK-11</td>\n",
       "      <td>{'id': 1506, 'name': 'Colombo'}</td>\n",
       "      <td>1506</td>\n",
       "      <td>Colombo</td>\n",
       "    </tr>\n",
       "  </tbody>\n",
       "</table>\n",
       "</div>\n",
       "    <div class=\"colab-df-buttons\">\n",
       "\n",
       "  <div class=\"colab-df-container\">\n",
       "    <button class=\"colab-df-convert\" onclick=\"convertToInteractive('df-8b57f328-d4d4-4a91-8988-9848af79c264')\"\n",
       "            title=\"Convert this dataframe to an interactive table.\"\n",
       "            style=\"display:none;\">\n",
       "\n",
       "  <svg xmlns=\"http://www.w3.org/2000/svg\" height=\"24px\" viewBox=\"0 -960 960 960\">\n",
       "    <path d=\"M120-120v-720h720v720H120Zm60-500h600v-160H180v160Zm220 220h160v-160H400v160Zm0 220h160v-160H400v160ZM180-400h160v-160H180v160Zm440 0h160v-160H620v160ZM180-180h160v-160H180v160Zm440 0h160v-160H620v160Z\"/>\n",
       "  </svg>\n",
       "    </button>\n",
       "\n",
       "  <style>\n",
       "    .colab-df-container {\n",
       "      display:flex;\n",
       "      gap: 12px;\n",
       "    }\n",
       "\n",
       "    .colab-df-convert {\n",
       "      background-color: #E8F0FE;\n",
       "      border: none;\n",
       "      border-radius: 50%;\n",
       "      cursor: pointer;\n",
       "      display: none;\n",
       "      fill: #1967D2;\n",
       "      height: 32px;\n",
       "      padding: 0 0 0 0;\n",
       "      width: 32px;\n",
       "    }\n",
       "\n",
       "    .colab-df-convert:hover {\n",
       "      background-color: #E2EBFA;\n",
       "      box-shadow: 0px 1px 2px rgba(60, 64, 67, 0.3), 0px 1px 3px 1px rgba(60, 64, 67, 0.15);\n",
       "      fill: #174EA6;\n",
       "    }\n",
       "\n",
       "    .colab-df-buttons div {\n",
       "      margin-bottom: 4px;\n",
       "    }\n",
       "\n",
       "    [theme=dark] .colab-df-convert {\n",
       "      background-color: #3B4455;\n",
       "      fill: #D2E3FC;\n",
       "    }\n",
       "\n",
       "    [theme=dark] .colab-df-convert:hover {\n",
       "      background-color: #434B5C;\n",
       "      box-shadow: 0px 1px 3px 1px rgba(0, 0, 0, 0.15);\n",
       "      filter: drop-shadow(0px 1px 2px rgba(0, 0, 0, 0.3));\n",
       "      fill: #FFFFFF;\n",
       "    }\n",
       "  </style>\n",
       "\n",
       "    <script>\n",
       "      const buttonEl =\n",
       "        document.querySelector('#df-8b57f328-d4d4-4a91-8988-9848af79c264 button.colab-df-convert');\n",
       "      buttonEl.style.display =\n",
       "        google.colab.kernel.accessAllowed ? 'block' : 'none';\n",
       "\n",
       "      async function convertToInteractive(key) {\n",
       "        const element = document.querySelector('#df-8b57f328-d4d4-4a91-8988-9848af79c264');\n",
       "        const dataTable =\n",
       "          await google.colab.kernel.invokeFunction('convertToInteractive',\n",
       "                                                    [key], {});\n",
       "        if (!dataTable) return;\n",
       "\n",
       "        const docLinkHtml = 'Like what you see? Visit the ' +\n",
       "          '<a target=\"_blank\" href=https://colab.research.google.com/notebooks/data_table.ipynb>data table notebook</a>'\n",
       "          + ' to learn more about interactive tables.';\n",
       "        element.innerHTML = '';\n",
       "        dataTable['output_type'] = 'display_data';\n",
       "        await google.colab.output.renderOutput(dataTable, element);\n",
       "        const docLink = document.createElement('div');\n",
       "        docLink.innerHTML = docLinkHtml;\n",
       "        element.appendChild(docLink);\n",
       "      }\n",
       "    </script>\n",
       "  </div>\n",
       "\n",
       "\n",
       "<div id=\"df-7642d70b-4876-4d5e-ade2-e6dce8497aed\">\n",
       "  <button class=\"colab-df-quickchart\" onclick=\"quickchart('df-7642d70b-4876-4d5e-ade2-e6dce8497aed')\"\n",
       "            title=\"Suggest charts\"\n",
       "            style=\"display:none;\">\n",
       "\n",
       "<svg xmlns=\"http://www.w3.org/2000/svg\" height=\"24px\"viewBox=\"0 0 24 24\"\n",
       "     width=\"24px\">\n",
       "    <g>\n",
       "        <path d=\"M19 3H5c-1.1 0-2 .9-2 2v14c0 1.1.9 2 2 2h14c1.1 0 2-.9 2-2V5c0-1.1-.9-2-2-2zM9 17H7v-7h2v7zm4 0h-2V7h2v10zm4 0h-2v-4h2v4z\"/>\n",
       "    </g>\n",
       "</svg>\n",
       "  </button>\n",
       "\n",
       "<style>\n",
       "  .colab-df-quickchart {\n",
       "      --bg-color: #E8F0FE;\n",
       "      --fill-color: #1967D2;\n",
       "      --hover-bg-color: #E2EBFA;\n",
       "      --hover-fill-color: #174EA6;\n",
       "      --disabled-fill-color: #AAA;\n",
       "      --disabled-bg-color: #DDD;\n",
       "  }\n",
       "\n",
       "  [theme=dark] .colab-df-quickchart {\n",
       "      --bg-color: #3B4455;\n",
       "      --fill-color: #D2E3FC;\n",
       "      --hover-bg-color: #434B5C;\n",
       "      --hover-fill-color: #FFFFFF;\n",
       "      --disabled-bg-color: #3B4455;\n",
       "      --disabled-fill-color: #666;\n",
       "  }\n",
       "\n",
       "  .colab-df-quickchart {\n",
       "    background-color: var(--bg-color);\n",
       "    border: none;\n",
       "    border-radius: 50%;\n",
       "    cursor: pointer;\n",
       "    display: none;\n",
       "    fill: var(--fill-color);\n",
       "    height: 32px;\n",
       "    padding: 0;\n",
       "    width: 32px;\n",
       "  }\n",
       "\n",
       "  .colab-df-quickchart:hover {\n",
       "    background-color: var(--hover-bg-color);\n",
       "    box-shadow: 0 1px 2px rgba(60, 64, 67, 0.3), 0 1px 3px 1px rgba(60, 64, 67, 0.15);\n",
       "    fill: var(--button-hover-fill-color);\n",
       "  }\n",
       "\n",
       "  .colab-df-quickchart-complete:disabled,\n",
       "  .colab-df-quickchart-complete:disabled:hover {\n",
       "    background-color: var(--disabled-bg-color);\n",
       "    fill: var(--disabled-fill-color);\n",
       "    box-shadow: none;\n",
       "  }\n",
       "\n",
       "  .colab-df-spinner {\n",
       "    border: 2px solid var(--fill-color);\n",
       "    border-color: transparent;\n",
       "    border-bottom-color: var(--fill-color);\n",
       "    animation:\n",
       "      spin 1s steps(1) infinite;\n",
       "  }\n",
       "\n",
       "  @keyframes spin {\n",
       "    0% {\n",
       "      border-color: transparent;\n",
       "      border-bottom-color: var(--fill-color);\n",
       "      border-left-color: var(--fill-color);\n",
       "    }\n",
       "    20% {\n",
       "      border-color: transparent;\n",
       "      border-left-color: var(--fill-color);\n",
       "      border-top-color: var(--fill-color);\n",
       "    }\n",
       "    30% {\n",
       "      border-color: transparent;\n",
       "      border-left-color: var(--fill-color);\n",
       "      border-top-color: var(--fill-color);\n",
       "      border-right-color: var(--fill-color);\n",
       "    }\n",
       "    40% {\n",
       "      border-color: transparent;\n",
       "      border-right-color: var(--fill-color);\n",
       "      border-top-color: var(--fill-color);\n",
       "    }\n",
       "    60% {\n",
       "      border-color: transparent;\n",
       "      border-right-color: var(--fill-color);\n",
       "    }\n",
       "    80% {\n",
       "      border-color: transparent;\n",
       "      border-right-color: var(--fill-color);\n",
       "      border-bottom-color: var(--fill-color);\n",
       "    }\n",
       "    90% {\n",
       "      border-color: transparent;\n",
       "      border-bottom-color: var(--fill-color);\n",
       "    }\n",
       "  }\n",
       "</style>\n",
       "\n",
       "  <script>\n",
       "    async function quickchart(key) {\n",
       "      const quickchartButtonEl =\n",
       "        document.querySelector('#' + key + ' button');\n",
       "      quickchartButtonEl.disabled = true;  // To prevent multiple clicks.\n",
       "      quickchartButtonEl.classList.add('colab-df-spinner');\n",
       "      try {\n",
       "        const charts = await google.colab.kernel.invokeFunction(\n",
       "            'suggestCharts', [key], {});\n",
       "      } catch (error) {\n",
       "        console.error('Error during call to suggestCharts:', error);\n",
       "      }\n",
       "      quickchartButtonEl.classList.remove('colab-df-spinner');\n",
       "      quickchartButtonEl.classList.add('colab-df-quickchart-complete');\n",
       "    }\n",
       "    (() => {\n",
       "      let quickchartButtonEl =\n",
       "        document.querySelector('#df-7642d70b-4876-4d5e-ade2-e6dce8497aed button');\n",
       "      quickchartButtonEl.style.display =\n",
       "        google.colab.kernel.accessAllowed ? 'block' : 'none';\n",
       "    })();\n",
       "  </script>\n",
       "</div>\n",
       "\n",
       "    </div>\n",
       "  </div>\n"
      ],
      "text/plain": [
       "     location geo_region                             area    Id     Name\n",
       "0  Maharagama      LK-11  {'id': 1506, 'name': 'Colombo'}  1506  Colombo\n",
       "1       Kotte      LK-11  {'id': 1506, 'name': 'Colombo'}  1506  Colombo\n",
       "2       Kotte      LK-11  {'id': 1506, 'name': 'Colombo'}  1506  Colombo\n",
       "3     Kottawa      LK-11  {'id': 1506, 'name': 'Colombo'}  1506  Colombo\n",
       "4     Kottawa      LK-11  {'id': 1506, 'name': 'Colombo'}  1506  Colombo"
      ]
     },
     "execution_count": 179,
     "metadata": {},
     "output_type": "execute_result"
    }
   ],
   "source": [
    "df3.head()"
   ]
  },
  {
   "cell_type": "markdown",
   "metadata": {
    "colab": {
     "base_uri": "https://localhost:8080/",
     "height": 557
    },
    "id": "gKEzMHg9US5L",
    "outputId": "21358088-7488-42fe-f316-486eac5e3fe0"
   },
   "source": [
    "### Create a bar chart of the grouped data\n",
    "df3.groupby('Name').size().sort_values(ascending=False).plot(kind='bar')\n",
    "\n",
    "# Add labels and title\n",
    "plt.xlabel('Name')\n",
    "plt.ylabel('Number of Occurences')\n",
    "plt.title('Number of Occurences based on Name')\n",
    "\n",
    "# Rotate x-axis labels for readability\n",
    "plt.xticks(rotation=90)\n",
    "\n",
    "# Show the plot\n",
    "plt.show()"
   ]
  },
  {
   "cell_type": "markdown",
   "metadata": {
    "id": "WXZ7EZtwVaRN"
   },
   "source": [
    "Removing the area column"
   ]
  },
  {
   "cell_type": "code",
   "execution_count": null,
   "metadata": {
    "colab": {
     "base_uri": "https://localhost:8080/"
    },
    "id": "BAHPOvVBUW4-",
    "outputId": "1952c58a-77b8-49c2-aa03-b17fe82b2567"
   },
   "outputs": [
    {
     "name": "stderr",
     "output_type": "stream",
     "text": [
      "<ipython-input-181-90538e71404b>:1: SettingWithCopyWarning: \n",
      "A value is trying to be set on a copy of a slice from a DataFrame\n",
      "\n",
      "See the caveats in the documentation: https://pandas.pydata.org/pandas-docs/stable/user_guide/indexing.html#returning-a-view-versus-a-copy\n",
      "  df3.drop(columns='area', inplace=True)\n"
     ]
    }
   ],
   "source": [
    "df3.drop(columns='area', inplace=True)"
   ]
  },
  {
   "cell_type": "code",
   "execution_count": null,
   "metadata": {
    "colab": {
     "base_uri": "https://localhost:8080/",
     "height": 206
    },
    "id": "Ho16EMz2VdWL",
    "outputId": "a24186df-fe7f-4ae1-bfa4-a10a515338f6"
   },
   "outputs": [
    {
     "data": {
      "application/vnd.google.colaboratory.intrinsic+json": {
       "type": "dataframe",
       "variable_name": "df3"
      },
      "text/html": [
       "\n",
       "  <div id=\"df-8a0168c4-3cbe-42b8-b20b-b469e5f23cbd\" class=\"colab-df-container\">\n",
       "    <div>\n",
       "<style scoped>\n",
       "    .dataframe tbody tr th:only-of-type {\n",
       "        vertical-align: middle;\n",
       "    }\n",
       "\n",
       "    .dataframe tbody tr th {\n",
       "        vertical-align: top;\n",
       "    }\n",
       "\n",
       "    .dataframe thead th {\n",
       "        text-align: right;\n",
       "    }\n",
       "</style>\n",
       "<table border=\"1\" class=\"dataframe\">\n",
       "  <thead>\n",
       "    <tr style=\"text-align: right;\">\n",
       "      <th></th>\n",
       "      <th>location</th>\n",
       "      <th>geo_region</th>\n",
       "      <th>Id</th>\n",
       "      <th>Name</th>\n",
       "    </tr>\n",
       "  </thead>\n",
       "  <tbody>\n",
       "    <tr>\n",
       "      <th>0</th>\n",
       "      <td>Maharagama</td>\n",
       "      <td>LK-11</td>\n",
       "      <td>1506</td>\n",
       "      <td>Colombo</td>\n",
       "    </tr>\n",
       "    <tr>\n",
       "      <th>1</th>\n",
       "      <td>Kotte</td>\n",
       "      <td>LK-11</td>\n",
       "      <td>1506</td>\n",
       "      <td>Colombo</td>\n",
       "    </tr>\n",
       "    <tr>\n",
       "      <th>2</th>\n",
       "      <td>Kotte</td>\n",
       "      <td>LK-11</td>\n",
       "      <td>1506</td>\n",
       "      <td>Colombo</td>\n",
       "    </tr>\n",
       "    <tr>\n",
       "      <th>3</th>\n",
       "      <td>Kottawa</td>\n",
       "      <td>LK-11</td>\n",
       "      <td>1506</td>\n",
       "      <td>Colombo</td>\n",
       "    </tr>\n",
       "    <tr>\n",
       "      <th>4</th>\n",
       "      <td>Kottawa</td>\n",
       "      <td>LK-11</td>\n",
       "      <td>1506</td>\n",
       "      <td>Colombo</td>\n",
       "    </tr>\n",
       "  </tbody>\n",
       "</table>\n",
       "</div>\n",
       "    <div class=\"colab-df-buttons\">\n",
       "\n",
       "  <div class=\"colab-df-container\">\n",
       "    <button class=\"colab-df-convert\" onclick=\"convertToInteractive('df-8a0168c4-3cbe-42b8-b20b-b469e5f23cbd')\"\n",
       "            title=\"Convert this dataframe to an interactive table.\"\n",
       "            style=\"display:none;\">\n",
       "\n",
       "  <svg xmlns=\"http://www.w3.org/2000/svg\" height=\"24px\" viewBox=\"0 -960 960 960\">\n",
       "    <path d=\"M120-120v-720h720v720H120Zm60-500h600v-160H180v160Zm220 220h160v-160H400v160Zm0 220h160v-160H400v160ZM180-400h160v-160H180v160Zm440 0h160v-160H620v160ZM180-180h160v-160H180v160Zm440 0h160v-160H620v160Z\"/>\n",
       "  </svg>\n",
       "    </button>\n",
       "\n",
       "  <style>\n",
       "    .colab-df-container {\n",
       "      display:flex;\n",
       "      gap: 12px;\n",
       "    }\n",
       "\n",
       "    .colab-df-convert {\n",
       "      background-color: #E8F0FE;\n",
       "      border: none;\n",
       "      border-radius: 50%;\n",
       "      cursor: pointer;\n",
       "      display: none;\n",
       "      fill: #1967D2;\n",
       "      height: 32px;\n",
       "      padding: 0 0 0 0;\n",
       "      width: 32px;\n",
       "    }\n",
       "\n",
       "    .colab-df-convert:hover {\n",
       "      background-color: #E2EBFA;\n",
       "      box-shadow: 0px 1px 2px rgba(60, 64, 67, 0.3), 0px 1px 3px 1px rgba(60, 64, 67, 0.15);\n",
       "      fill: #174EA6;\n",
       "    }\n",
       "\n",
       "    .colab-df-buttons div {\n",
       "      margin-bottom: 4px;\n",
       "    }\n",
       "\n",
       "    [theme=dark] .colab-df-convert {\n",
       "      background-color: #3B4455;\n",
       "      fill: #D2E3FC;\n",
       "    }\n",
       "\n",
       "    [theme=dark] .colab-df-convert:hover {\n",
       "      background-color: #434B5C;\n",
       "      box-shadow: 0px 1px 3px 1px rgba(0, 0, 0, 0.15);\n",
       "      filter: drop-shadow(0px 1px 2px rgba(0, 0, 0, 0.3));\n",
       "      fill: #FFFFFF;\n",
       "    }\n",
       "  </style>\n",
       "\n",
       "    <script>\n",
       "      const buttonEl =\n",
       "        document.querySelector('#df-8a0168c4-3cbe-42b8-b20b-b469e5f23cbd button.colab-df-convert');\n",
       "      buttonEl.style.display =\n",
       "        google.colab.kernel.accessAllowed ? 'block' : 'none';\n",
       "\n",
       "      async function convertToInteractive(key) {\n",
       "        const element = document.querySelector('#df-8a0168c4-3cbe-42b8-b20b-b469e5f23cbd');\n",
       "        const dataTable =\n",
       "          await google.colab.kernel.invokeFunction('convertToInteractive',\n",
       "                                                    [key], {});\n",
       "        if (!dataTable) return;\n",
       "\n",
       "        const docLinkHtml = 'Like what you see? Visit the ' +\n",
       "          '<a target=\"_blank\" href=https://colab.research.google.com/notebooks/data_table.ipynb>data table notebook</a>'\n",
       "          + ' to learn more about interactive tables.';\n",
       "        element.innerHTML = '';\n",
       "        dataTable['output_type'] = 'display_data';\n",
       "        await google.colab.output.renderOutput(dataTable, element);\n",
       "        const docLink = document.createElement('div');\n",
       "        docLink.innerHTML = docLinkHtml;\n",
       "        element.appendChild(docLink);\n",
       "      }\n",
       "    </script>\n",
       "  </div>\n",
       "\n",
       "\n",
       "<div id=\"df-355eb3d6-a458-4c3f-b265-a80a97ced9b2\">\n",
       "  <button class=\"colab-df-quickchart\" onclick=\"quickchart('df-355eb3d6-a458-4c3f-b265-a80a97ced9b2')\"\n",
       "            title=\"Suggest charts\"\n",
       "            style=\"display:none;\">\n",
       "\n",
       "<svg xmlns=\"http://www.w3.org/2000/svg\" height=\"24px\"viewBox=\"0 0 24 24\"\n",
       "     width=\"24px\">\n",
       "    <g>\n",
       "        <path d=\"M19 3H5c-1.1 0-2 .9-2 2v14c0 1.1.9 2 2 2h14c1.1 0 2-.9 2-2V5c0-1.1-.9-2-2-2zM9 17H7v-7h2v7zm4 0h-2V7h2v10zm4 0h-2v-4h2v4z\"/>\n",
       "    </g>\n",
       "</svg>\n",
       "  </button>\n",
       "\n",
       "<style>\n",
       "  .colab-df-quickchart {\n",
       "      --bg-color: #E8F0FE;\n",
       "      --fill-color: #1967D2;\n",
       "      --hover-bg-color: #E2EBFA;\n",
       "      --hover-fill-color: #174EA6;\n",
       "      --disabled-fill-color: #AAA;\n",
       "      --disabled-bg-color: #DDD;\n",
       "  }\n",
       "\n",
       "  [theme=dark] .colab-df-quickchart {\n",
       "      --bg-color: #3B4455;\n",
       "      --fill-color: #D2E3FC;\n",
       "      --hover-bg-color: #434B5C;\n",
       "      --hover-fill-color: #FFFFFF;\n",
       "      --disabled-bg-color: #3B4455;\n",
       "      --disabled-fill-color: #666;\n",
       "  }\n",
       "\n",
       "  .colab-df-quickchart {\n",
       "    background-color: var(--bg-color);\n",
       "    border: none;\n",
       "    border-radius: 50%;\n",
       "    cursor: pointer;\n",
       "    display: none;\n",
       "    fill: var(--fill-color);\n",
       "    height: 32px;\n",
       "    padding: 0;\n",
       "    width: 32px;\n",
       "  }\n",
       "\n",
       "  .colab-df-quickchart:hover {\n",
       "    background-color: var(--hover-bg-color);\n",
       "    box-shadow: 0 1px 2px rgba(60, 64, 67, 0.3), 0 1px 3px 1px rgba(60, 64, 67, 0.15);\n",
       "    fill: var(--button-hover-fill-color);\n",
       "  }\n",
       "\n",
       "  .colab-df-quickchart-complete:disabled,\n",
       "  .colab-df-quickchart-complete:disabled:hover {\n",
       "    background-color: var(--disabled-bg-color);\n",
       "    fill: var(--disabled-fill-color);\n",
       "    box-shadow: none;\n",
       "  }\n",
       "\n",
       "  .colab-df-spinner {\n",
       "    border: 2px solid var(--fill-color);\n",
       "    border-color: transparent;\n",
       "    border-bottom-color: var(--fill-color);\n",
       "    animation:\n",
       "      spin 1s steps(1) infinite;\n",
       "  }\n",
       "\n",
       "  @keyframes spin {\n",
       "    0% {\n",
       "      border-color: transparent;\n",
       "      border-bottom-color: var(--fill-color);\n",
       "      border-left-color: var(--fill-color);\n",
       "    }\n",
       "    20% {\n",
       "      border-color: transparent;\n",
       "      border-left-color: var(--fill-color);\n",
       "      border-top-color: var(--fill-color);\n",
       "    }\n",
       "    30% {\n",
       "      border-color: transparent;\n",
       "      border-left-color: var(--fill-color);\n",
       "      border-top-color: var(--fill-color);\n",
       "      border-right-color: var(--fill-color);\n",
       "    }\n",
       "    40% {\n",
       "      border-color: transparent;\n",
       "      border-right-color: var(--fill-color);\n",
       "      border-top-color: var(--fill-color);\n",
       "    }\n",
       "    60% {\n",
       "      border-color: transparent;\n",
       "      border-right-color: var(--fill-color);\n",
       "    }\n",
       "    80% {\n",
       "      border-color: transparent;\n",
       "      border-right-color: var(--fill-color);\n",
       "      border-bottom-color: var(--fill-color);\n",
       "    }\n",
       "    90% {\n",
       "      border-color: transparent;\n",
       "      border-bottom-color: var(--fill-color);\n",
       "    }\n",
       "  }\n",
       "</style>\n",
       "\n",
       "  <script>\n",
       "    async function quickchart(key) {\n",
       "      const quickchartButtonEl =\n",
       "        document.querySelector('#' + key + ' button');\n",
       "      quickchartButtonEl.disabled = true;  // To prevent multiple clicks.\n",
       "      quickchartButtonEl.classList.add('colab-df-spinner');\n",
       "      try {\n",
       "        const charts = await google.colab.kernel.invokeFunction(\n",
       "            'suggestCharts', [key], {});\n",
       "      } catch (error) {\n",
       "        console.error('Error during call to suggestCharts:', error);\n",
       "      }\n",
       "      quickchartButtonEl.classList.remove('colab-df-spinner');\n",
       "      quickchartButtonEl.classList.add('colab-df-quickchart-complete');\n",
       "    }\n",
       "    (() => {\n",
       "      let quickchartButtonEl =\n",
       "        document.querySelector('#df-355eb3d6-a458-4c3f-b265-a80a97ced9b2 button');\n",
       "      quickchartButtonEl.style.display =\n",
       "        google.colab.kernel.accessAllowed ? 'block' : 'none';\n",
       "    })();\n",
       "  </script>\n",
       "</div>\n",
       "\n",
       "    </div>\n",
       "  </div>\n"
      ],
      "text/plain": [
       "     location geo_region    Id     Name\n",
       "0  Maharagama      LK-11  1506  Colombo\n",
       "1       Kotte      LK-11  1506  Colombo\n",
       "2       Kotte      LK-11  1506  Colombo\n",
       "3     Kottawa      LK-11  1506  Colombo\n",
       "4     Kottawa      LK-11  1506  Colombo"
      ]
     },
     "execution_count": 182,
     "metadata": {},
     "output_type": "execute_result"
    }
   ],
   "source": [
    "df3.head()"
   ]
  },
  {
   "cell_type": "code",
   "execution_count": null,
   "metadata": {
    "id": "vlL-4zm_Vf3q"
   },
   "outputs": [],
   "source": [
    "df3 = df3.join(df[['posted_date', 'deactivation_date']])"
   ]
  },
  {
   "cell_type": "code",
   "execution_count": null,
   "metadata": {
    "colab": {
     "base_uri": "https://localhost:8080/"
    },
    "id": "ZHxmDwsjVl0B",
    "outputId": "536921e0-6d8c-4f9b-ffde-9d4ff9b35ee2"
   },
   "outputs": [
    {
     "data": {
      "text/plain": [
       "location             0\n",
       "geo_region           0\n",
       "Id                   0\n",
       "Name                 0\n",
       "posted_date          6\n",
       "deactivation_date    6\n",
       "dtype: int64"
      ]
     },
     "execution_count": 184,
     "metadata": {},
     "output_type": "execute_result"
    }
   ],
   "source": [
    "df3.isnull().sum()"
   ]
  },
  {
   "cell_type": "code",
   "execution_count": null,
   "metadata": {
    "id": "oFB_rlU5Vokr"
   },
   "outputs": [],
   "source": [
    "df3['posted_date'] = pd.to_datetime(df3['posted_date'])\n",
    "df3['deactivation_date'] = pd.to_datetime(df3['deactivation_date'])\n"
   ]
  },
  {
   "cell_type": "code",
   "execution_count": null,
   "metadata": {
    "id": "OBJq8I-fV8Ab"
   },
   "outputs": [],
   "source": [
    "# Extract temporal features\n",
    "df3['year'] = df3['posted_date'].dt.year\n",
    "df3['month'] = df3['posted_date'].dt.month\n",
    "df3['quarter'] = df3['posted_date'].dt.quarter"
   ]
  },
  {
   "cell_type": "code",
   "execution_count": null,
   "metadata": {
    "colab": {
     "base_uri": "https://localhost:8080/",
     "height": 206
    },
    "id": "EOfG14ViWMCx",
    "outputId": "07c0e839-233c-425e-b763-94b6d19f24a4"
   },
   "outputs": [
    {
     "data": {
      "application/vnd.google.colaboratory.intrinsic+json": {
       "type": "dataframe",
       "variable_name": "df3"
      },
      "text/html": [
       "\n",
       "  <div id=\"df-1ad0616b-7d32-4a0e-acb6-f5b396c891a3\" class=\"colab-df-container\">\n",
       "    <div>\n",
       "<style scoped>\n",
       "    .dataframe tbody tr th:only-of-type {\n",
       "        vertical-align: middle;\n",
       "    }\n",
       "\n",
       "    .dataframe tbody tr th {\n",
       "        vertical-align: top;\n",
       "    }\n",
       "\n",
       "    .dataframe thead th {\n",
       "        text-align: right;\n",
       "    }\n",
       "</style>\n",
       "<table border=\"1\" class=\"dataframe\">\n",
       "  <thead>\n",
       "    <tr style=\"text-align: right;\">\n",
       "      <th></th>\n",
       "      <th>location</th>\n",
       "      <th>geo_region</th>\n",
       "      <th>Id</th>\n",
       "      <th>Name</th>\n",
       "      <th>posted_date</th>\n",
       "      <th>deactivation_date</th>\n",
       "      <th>year</th>\n",
       "      <th>month</th>\n",
       "      <th>quarter</th>\n",
       "    </tr>\n",
       "  </thead>\n",
       "  <tbody>\n",
       "    <tr>\n",
       "      <th>0</th>\n",
       "      <td>Maharagama</td>\n",
       "      <td>LK-11</td>\n",
       "      <td>1506</td>\n",
       "      <td>Colombo</td>\n",
       "      <td>2023-02-23 23:35:10+05:30</td>\n",
       "      <td>2022-05-30 17:13:04+00:00</td>\n",
       "      <td>2023.0</td>\n",
       "      <td>2.0</td>\n",
       "      <td>1.0</td>\n",
       "    </tr>\n",
       "    <tr>\n",
       "      <th>1</th>\n",
       "      <td>Kotte</td>\n",
       "      <td>LK-11</td>\n",
       "      <td>1506</td>\n",
       "      <td>Colombo</td>\n",
       "      <td>2023-02-23 08:32:44+05:30</td>\n",
       "      <td>2022-03-31 16:27:59+00:00</td>\n",
       "      <td>2023.0</td>\n",
       "      <td>2.0</td>\n",
       "      <td>1.0</td>\n",
       "    </tr>\n",
       "    <tr>\n",
       "      <th>2</th>\n",
       "      <td>Kotte</td>\n",
       "      <td>LK-11</td>\n",
       "      <td>1506</td>\n",
       "      <td>Colombo</td>\n",
       "      <td>2022-12-01 20:27:49+05:30</td>\n",
       "      <td>2022-03-31 14:03:57+00:00</td>\n",
       "      <td>2022.0</td>\n",
       "      <td>12.0</td>\n",
       "      <td>4.0</td>\n",
       "    </tr>\n",
       "    <tr>\n",
       "      <th>3</th>\n",
       "      <td>Kottawa</td>\n",
       "      <td>LK-11</td>\n",
       "      <td>1506</td>\n",
       "      <td>Colombo</td>\n",
       "      <td>2022-12-04 14:47:27+05:30</td>\n",
       "      <td>2022-07-29 13:22:59+00:00</td>\n",
       "      <td>2022.0</td>\n",
       "      <td>12.0</td>\n",
       "      <td>4.0</td>\n",
       "    </tr>\n",
       "    <tr>\n",
       "      <th>4</th>\n",
       "      <td>Kottawa</td>\n",
       "      <td>LK-11</td>\n",
       "      <td>1506</td>\n",
       "      <td>Colombo</td>\n",
       "      <td>2022-12-08 09:28:04+05:30</td>\n",
       "      <td>2022-07-29 12:55:44+00:00</td>\n",
       "      <td>2022.0</td>\n",
       "      <td>12.0</td>\n",
       "      <td>4.0</td>\n",
       "    </tr>\n",
       "  </tbody>\n",
       "</table>\n",
       "</div>\n",
       "    <div class=\"colab-df-buttons\">\n",
       "\n",
       "  <div class=\"colab-df-container\">\n",
       "    <button class=\"colab-df-convert\" onclick=\"convertToInteractive('df-1ad0616b-7d32-4a0e-acb6-f5b396c891a3')\"\n",
       "            title=\"Convert this dataframe to an interactive table.\"\n",
       "            style=\"display:none;\">\n",
       "\n",
       "  <svg xmlns=\"http://www.w3.org/2000/svg\" height=\"24px\" viewBox=\"0 -960 960 960\">\n",
       "    <path d=\"M120-120v-720h720v720H120Zm60-500h600v-160H180v160Zm220 220h160v-160H400v160Zm0 220h160v-160H400v160ZM180-400h160v-160H180v160Zm440 0h160v-160H620v160ZM180-180h160v-160H180v160Zm440 0h160v-160H620v160Z\"/>\n",
       "  </svg>\n",
       "    </button>\n",
       "\n",
       "  <style>\n",
       "    .colab-df-container {\n",
       "      display:flex;\n",
       "      gap: 12px;\n",
       "    }\n",
       "\n",
       "    .colab-df-convert {\n",
       "      background-color: #E8F0FE;\n",
       "      border: none;\n",
       "      border-radius: 50%;\n",
       "      cursor: pointer;\n",
       "      display: none;\n",
       "      fill: #1967D2;\n",
       "      height: 32px;\n",
       "      padding: 0 0 0 0;\n",
       "      width: 32px;\n",
       "    }\n",
       "\n",
       "    .colab-df-convert:hover {\n",
       "      background-color: #E2EBFA;\n",
       "      box-shadow: 0px 1px 2px rgba(60, 64, 67, 0.3), 0px 1px 3px 1px rgba(60, 64, 67, 0.15);\n",
       "      fill: #174EA6;\n",
       "    }\n",
       "\n",
       "    .colab-df-buttons div {\n",
       "      margin-bottom: 4px;\n",
       "    }\n",
       "\n",
       "    [theme=dark] .colab-df-convert {\n",
       "      background-color: #3B4455;\n",
       "      fill: #D2E3FC;\n",
       "    }\n",
       "\n",
       "    [theme=dark] .colab-df-convert:hover {\n",
       "      background-color: #434B5C;\n",
       "      box-shadow: 0px 1px 3px 1px rgba(0, 0, 0, 0.15);\n",
       "      filter: drop-shadow(0px 1px 2px rgba(0, 0, 0, 0.3));\n",
       "      fill: #FFFFFF;\n",
       "    }\n",
       "  </style>\n",
       "\n",
       "    <script>\n",
       "      const buttonEl =\n",
       "        document.querySelector('#df-1ad0616b-7d32-4a0e-acb6-f5b396c891a3 button.colab-df-convert');\n",
       "      buttonEl.style.display =\n",
       "        google.colab.kernel.accessAllowed ? 'block' : 'none';\n",
       "\n",
       "      async function convertToInteractive(key) {\n",
       "        const element = document.querySelector('#df-1ad0616b-7d32-4a0e-acb6-f5b396c891a3');\n",
       "        const dataTable =\n",
       "          await google.colab.kernel.invokeFunction('convertToInteractive',\n",
       "                                                    [key], {});\n",
       "        if (!dataTable) return;\n",
       "\n",
       "        const docLinkHtml = 'Like what you see? Visit the ' +\n",
       "          '<a target=\"_blank\" href=https://colab.research.google.com/notebooks/data_table.ipynb>data table notebook</a>'\n",
       "          + ' to learn more about interactive tables.';\n",
       "        element.innerHTML = '';\n",
       "        dataTable['output_type'] = 'display_data';\n",
       "        await google.colab.output.renderOutput(dataTable, element);\n",
       "        const docLink = document.createElement('div');\n",
       "        docLink.innerHTML = docLinkHtml;\n",
       "        element.appendChild(docLink);\n",
       "      }\n",
       "    </script>\n",
       "  </div>\n",
       "\n",
       "\n",
       "<div id=\"df-cd50647e-b7a0-450c-9231-8c32e75a3cf1\">\n",
       "  <button class=\"colab-df-quickchart\" onclick=\"quickchart('df-cd50647e-b7a0-450c-9231-8c32e75a3cf1')\"\n",
       "            title=\"Suggest charts\"\n",
       "            style=\"display:none;\">\n",
       "\n",
       "<svg xmlns=\"http://www.w3.org/2000/svg\" height=\"24px\"viewBox=\"0 0 24 24\"\n",
       "     width=\"24px\">\n",
       "    <g>\n",
       "        <path d=\"M19 3H5c-1.1 0-2 .9-2 2v14c0 1.1.9 2 2 2h14c1.1 0 2-.9 2-2V5c0-1.1-.9-2-2-2zM9 17H7v-7h2v7zm4 0h-2V7h2v10zm4 0h-2v-4h2v4z\"/>\n",
       "    </g>\n",
       "</svg>\n",
       "  </button>\n",
       "\n",
       "<style>\n",
       "  .colab-df-quickchart {\n",
       "      --bg-color: #E8F0FE;\n",
       "      --fill-color: #1967D2;\n",
       "      --hover-bg-color: #E2EBFA;\n",
       "      --hover-fill-color: #174EA6;\n",
       "      --disabled-fill-color: #AAA;\n",
       "      --disabled-bg-color: #DDD;\n",
       "  }\n",
       "\n",
       "  [theme=dark] .colab-df-quickchart {\n",
       "      --bg-color: #3B4455;\n",
       "      --fill-color: #D2E3FC;\n",
       "      --hover-bg-color: #434B5C;\n",
       "      --hover-fill-color: #FFFFFF;\n",
       "      --disabled-bg-color: #3B4455;\n",
       "      --disabled-fill-color: #666;\n",
       "  }\n",
       "\n",
       "  .colab-df-quickchart {\n",
       "    background-color: var(--bg-color);\n",
       "    border: none;\n",
       "    border-radius: 50%;\n",
       "    cursor: pointer;\n",
       "    display: none;\n",
       "    fill: var(--fill-color);\n",
       "    height: 32px;\n",
       "    padding: 0;\n",
       "    width: 32px;\n",
       "  }\n",
       "\n",
       "  .colab-df-quickchart:hover {\n",
       "    background-color: var(--hover-bg-color);\n",
       "    box-shadow: 0 1px 2px rgba(60, 64, 67, 0.3), 0 1px 3px 1px rgba(60, 64, 67, 0.15);\n",
       "    fill: var(--button-hover-fill-color);\n",
       "  }\n",
       "\n",
       "  .colab-df-quickchart-complete:disabled,\n",
       "  .colab-df-quickchart-complete:disabled:hover {\n",
       "    background-color: var(--disabled-bg-color);\n",
       "    fill: var(--disabled-fill-color);\n",
       "    box-shadow: none;\n",
       "  }\n",
       "\n",
       "  .colab-df-spinner {\n",
       "    border: 2px solid var(--fill-color);\n",
       "    border-color: transparent;\n",
       "    border-bottom-color: var(--fill-color);\n",
       "    animation:\n",
       "      spin 1s steps(1) infinite;\n",
       "  }\n",
       "\n",
       "  @keyframes spin {\n",
       "    0% {\n",
       "      border-color: transparent;\n",
       "      border-bottom-color: var(--fill-color);\n",
       "      border-left-color: var(--fill-color);\n",
       "    }\n",
       "    20% {\n",
       "      border-color: transparent;\n",
       "      border-left-color: var(--fill-color);\n",
       "      border-top-color: var(--fill-color);\n",
       "    }\n",
       "    30% {\n",
       "      border-color: transparent;\n",
       "      border-left-color: var(--fill-color);\n",
       "      border-top-color: var(--fill-color);\n",
       "      border-right-color: var(--fill-color);\n",
       "    }\n",
       "    40% {\n",
       "      border-color: transparent;\n",
       "      border-right-color: var(--fill-color);\n",
       "      border-top-color: var(--fill-color);\n",
       "    }\n",
       "    60% {\n",
       "      border-color: transparent;\n",
       "      border-right-color: var(--fill-color);\n",
       "    }\n",
       "    80% {\n",
       "      border-color: transparent;\n",
       "      border-right-color: var(--fill-color);\n",
       "      border-bottom-color: var(--fill-color);\n",
       "    }\n",
       "    90% {\n",
       "      border-color: transparent;\n",
       "      border-bottom-color: var(--fill-color);\n",
       "    }\n",
       "  }\n",
       "</style>\n",
       "\n",
       "  <script>\n",
       "    async function quickchart(key) {\n",
       "      const quickchartButtonEl =\n",
       "        document.querySelector('#' + key + ' button');\n",
       "      quickchartButtonEl.disabled = true;  // To prevent multiple clicks.\n",
       "      quickchartButtonEl.classList.add('colab-df-spinner');\n",
       "      try {\n",
       "        const charts = await google.colab.kernel.invokeFunction(\n",
       "            'suggestCharts', [key], {});\n",
       "      } catch (error) {\n",
       "        console.error('Error during call to suggestCharts:', error);\n",
       "      }\n",
       "      quickchartButtonEl.classList.remove('colab-df-spinner');\n",
       "      quickchartButtonEl.classList.add('colab-df-quickchart-complete');\n",
       "    }\n",
       "    (() => {\n",
       "      let quickchartButtonEl =\n",
       "        document.querySelector('#df-cd50647e-b7a0-450c-9231-8c32e75a3cf1 button');\n",
       "      quickchartButtonEl.style.display =\n",
       "        google.colab.kernel.accessAllowed ? 'block' : 'none';\n",
       "    })();\n",
       "  </script>\n",
       "</div>\n",
       "\n",
       "    </div>\n",
       "  </div>\n"
      ],
      "text/plain": [
       "     location geo_region    Id     Name               posted_date  \\\n",
       "0  Maharagama      LK-11  1506  Colombo 2023-02-23 23:35:10+05:30   \n",
       "1       Kotte      LK-11  1506  Colombo 2023-02-23 08:32:44+05:30   \n",
       "2       Kotte      LK-11  1506  Colombo 2022-12-01 20:27:49+05:30   \n",
       "3     Kottawa      LK-11  1506  Colombo 2022-12-04 14:47:27+05:30   \n",
       "4     Kottawa      LK-11  1506  Colombo 2022-12-08 09:28:04+05:30   \n",
       "\n",
       "          deactivation_date    year  month  quarter  \n",
       "0 2022-05-30 17:13:04+00:00  2023.0    2.0      1.0  \n",
       "1 2022-03-31 16:27:59+00:00  2023.0    2.0      1.0  \n",
       "2 2022-03-31 14:03:57+00:00  2022.0   12.0      4.0  \n",
       "3 2022-07-29 13:22:59+00:00  2022.0   12.0      4.0  \n",
       "4 2022-07-29 12:55:44+00:00  2022.0   12.0      4.0  "
      ]
     },
     "execution_count": 187,
     "metadata": {},
     "output_type": "execute_result"
    }
   ],
   "source": [
    "df3.head()"
   ]
  },
  {
   "cell_type": "code",
   "execution_count": null,
   "metadata": {
    "id": "Ti7FqXTEWuKz"
   },
   "outputs": [],
   "source": [
    "# Clean and prepare data\n",
    "df3['geo_region'] = df['geo_region'].str.strip()"
   ]
  },
  {
   "cell_type": "code",
   "execution_count": null,
   "metadata": {
    "id": "Fh6s4HU-WXX2"
   },
   "outputs": [],
   "source": [
    "# Aggregate data by month and year to count the number of advertisements\n",
    "monthly_ads = df3.groupby(['year', 'month']).size().reset_index(name='ad_count')"
   ]
  },
  {
   "cell_type": "code",
   "execution_count": null,
   "metadata": {
    "colab": {
     "base_uri": "https://localhost:8080/",
     "height": 206
    },
    "id": "9CKq-Gk4ZHDQ",
    "outputId": "90aac215-b4cc-4638-8986-17a076792b4e"
   },
   "outputs": [
    {
     "data": {
      "application/vnd.google.colaboratory.intrinsic+json": {
       "summary": "{\n  \"name\": \"monthly_ads\",\n  \"rows\": 8,\n  \"fields\": [\n    {\n      \"column\": \"year\",\n      \"properties\": {\n        \"dtype\": \"number\",\n        \"std\": 0.5345224838248488,\n        \"min\": 2022.0,\n        \"max\": 2023.0,\n        \"num_unique_values\": 2,\n        \"samples\": [\n          2023.0,\n          2022.0\n        ],\n        \"semantic_type\": \"\",\n        \"description\": \"\"\n      }\n    },\n    {\n      \"column\": \"month\",\n      \"properties\": {\n        \"dtype\": \"number\",\n        \"std\": 4.44007721940573,\n        \"min\": 1.0,\n        \"max\": 12.0,\n        \"num_unique_values\": 8,\n        \"samples\": [\n          10.0,\n          2.0\n        ],\n        \"semantic_type\": \"\",\n        \"description\": \"\"\n      }\n    },\n    {\n      \"column\": \"ad_count\",\n      \"properties\": {\n        \"dtype\": \"number\",\n        \"std\": 25766,\n        \"min\": 29,\n        \"max\": 61286,\n        \"num_unique_values\": 8,\n        \"samples\": [\n          6361,\n          55927\n        ],\n        \"semantic_type\": \"\",\n        \"description\": \"\"\n      }\n    }\n  ]\n}",
       "type": "dataframe",
       "variable_name": "monthly_ads"
      },
      "text/html": [
       "\n",
       "  <div id=\"df-2b633346-a674-4cfe-b6ed-096ff1d5584d\" class=\"colab-df-container\">\n",
       "    <div>\n",
       "<style scoped>\n",
       "    .dataframe tbody tr th:only-of-type {\n",
       "        vertical-align: middle;\n",
       "    }\n",
       "\n",
       "    .dataframe tbody tr th {\n",
       "        vertical-align: top;\n",
       "    }\n",
       "\n",
       "    .dataframe thead th {\n",
       "        text-align: right;\n",
       "    }\n",
       "</style>\n",
       "<table border=\"1\" class=\"dataframe\">\n",
       "  <thead>\n",
       "    <tr style=\"text-align: right;\">\n",
       "      <th></th>\n",
       "      <th>year</th>\n",
       "      <th>month</th>\n",
       "      <th>ad_count</th>\n",
       "    </tr>\n",
       "  </thead>\n",
       "  <tbody>\n",
       "    <tr>\n",
       "      <th>0</th>\n",
       "      <td>2022.0</td>\n",
       "      <td>9.0</td>\n",
       "      <td>29</td>\n",
       "    </tr>\n",
       "    <tr>\n",
       "      <th>1</th>\n",
       "      <td>2022.0</td>\n",
       "      <td>10.0</td>\n",
       "      <td>6361</td>\n",
       "    </tr>\n",
       "    <tr>\n",
       "      <th>2</th>\n",
       "      <td>2022.0</td>\n",
       "      <td>11.0</td>\n",
       "      <td>61286</td>\n",
       "    </tr>\n",
       "    <tr>\n",
       "      <th>3</th>\n",
       "      <td>2022.0</td>\n",
       "      <td>12.0</td>\n",
       "      <td>41940</td>\n",
       "    </tr>\n",
       "    <tr>\n",
       "      <th>4</th>\n",
       "      <td>2023.0</td>\n",
       "      <td>1.0</td>\n",
       "      <td>53582</td>\n",
       "    </tr>\n",
       "  </tbody>\n",
       "</table>\n",
       "</div>\n",
       "    <div class=\"colab-df-buttons\">\n",
       "\n",
       "  <div class=\"colab-df-container\">\n",
       "    <button class=\"colab-df-convert\" onclick=\"convertToInteractive('df-2b633346-a674-4cfe-b6ed-096ff1d5584d')\"\n",
       "            title=\"Convert this dataframe to an interactive table.\"\n",
       "            style=\"display:none;\">\n",
       "\n",
       "  <svg xmlns=\"http://www.w3.org/2000/svg\" height=\"24px\" viewBox=\"0 -960 960 960\">\n",
       "    <path d=\"M120-120v-720h720v720H120Zm60-500h600v-160H180v160Zm220 220h160v-160H400v160Zm0 220h160v-160H400v160ZM180-400h160v-160H180v160Zm440 0h160v-160H620v160ZM180-180h160v-160H180v160Zm440 0h160v-160H620v160Z\"/>\n",
       "  </svg>\n",
       "    </button>\n",
       "\n",
       "  <style>\n",
       "    .colab-df-container {\n",
       "      display:flex;\n",
       "      gap: 12px;\n",
       "    }\n",
       "\n",
       "    .colab-df-convert {\n",
       "      background-color: #E8F0FE;\n",
       "      border: none;\n",
       "      border-radius: 50%;\n",
       "      cursor: pointer;\n",
       "      display: none;\n",
       "      fill: #1967D2;\n",
       "      height: 32px;\n",
       "      padding: 0 0 0 0;\n",
       "      width: 32px;\n",
       "    }\n",
       "\n",
       "    .colab-df-convert:hover {\n",
       "      background-color: #E2EBFA;\n",
       "      box-shadow: 0px 1px 2px rgba(60, 64, 67, 0.3), 0px 1px 3px 1px rgba(60, 64, 67, 0.15);\n",
       "      fill: #174EA6;\n",
       "    }\n",
       "\n",
       "    .colab-df-buttons div {\n",
       "      margin-bottom: 4px;\n",
       "    }\n",
       "\n",
       "    [theme=dark] .colab-df-convert {\n",
       "      background-color: #3B4455;\n",
       "      fill: #D2E3FC;\n",
       "    }\n",
       "\n",
       "    [theme=dark] .colab-df-convert:hover {\n",
       "      background-color: #434B5C;\n",
       "      box-shadow: 0px 1px 3px 1px rgba(0, 0, 0, 0.15);\n",
       "      filter: drop-shadow(0px 1px 2px rgba(0, 0, 0, 0.3));\n",
       "      fill: #FFFFFF;\n",
       "    }\n",
       "  </style>\n",
       "\n",
       "    <script>\n",
       "      const buttonEl =\n",
       "        document.querySelector('#df-2b633346-a674-4cfe-b6ed-096ff1d5584d button.colab-df-convert');\n",
       "      buttonEl.style.display =\n",
       "        google.colab.kernel.accessAllowed ? 'block' : 'none';\n",
       "\n",
       "      async function convertToInteractive(key) {\n",
       "        const element = document.querySelector('#df-2b633346-a674-4cfe-b6ed-096ff1d5584d');\n",
       "        const dataTable =\n",
       "          await google.colab.kernel.invokeFunction('convertToInteractive',\n",
       "                                                    [key], {});\n",
       "        if (!dataTable) return;\n",
       "\n",
       "        const docLinkHtml = 'Like what you see? Visit the ' +\n",
       "          '<a target=\"_blank\" href=https://colab.research.google.com/notebooks/data_table.ipynb>data table notebook</a>'\n",
       "          + ' to learn more about interactive tables.';\n",
       "        element.innerHTML = '';\n",
       "        dataTable['output_type'] = 'display_data';\n",
       "        await google.colab.output.renderOutput(dataTable, element);\n",
       "        const docLink = document.createElement('div');\n",
       "        docLink.innerHTML = docLinkHtml;\n",
       "        element.appendChild(docLink);\n",
       "      }\n",
       "    </script>\n",
       "  </div>\n",
       "\n",
       "\n",
       "<div id=\"df-a9d955e4-a11a-40e2-9667-74c0cc030866\">\n",
       "  <button class=\"colab-df-quickchart\" onclick=\"quickchart('df-a9d955e4-a11a-40e2-9667-74c0cc030866')\"\n",
       "            title=\"Suggest charts\"\n",
       "            style=\"display:none;\">\n",
       "\n",
       "<svg xmlns=\"http://www.w3.org/2000/svg\" height=\"24px\"viewBox=\"0 0 24 24\"\n",
       "     width=\"24px\">\n",
       "    <g>\n",
       "        <path d=\"M19 3H5c-1.1 0-2 .9-2 2v14c0 1.1.9 2 2 2h14c1.1 0 2-.9 2-2V5c0-1.1-.9-2-2-2zM9 17H7v-7h2v7zm4 0h-2V7h2v10zm4 0h-2v-4h2v4z\"/>\n",
       "    </g>\n",
       "</svg>\n",
       "  </button>\n",
       "\n",
       "<style>\n",
       "  .colab-df-quickchart {\n",
       "      --bg-color: #E8F0FE;\n",
       "      --fill-color: #1967D2;\n",
       "      --hover-bg-color: #E2EBFA;\n",
       "      --hover-fill-color: #174EA6;\n",
       "      --disabled-fill-color: #AAA;\n",
       "      --disabled-bg-color: #DDD;\n",
       "  }\n",
       "\n",
       "  [theme=dark] .colab-df-quickchart {\n",
       "      --bg-color: #3B4455;\n",
       "      --fill-color: #D2E3FC;\n",
       "      --hover-bg-color: #434B5C;\n",
       "      --hover-fill-color: #FFFFFF;\n",
       "      --disabled-bg-color: #3B4455;\n",
       "      --disabled-fill-color: #666;\n",
       "  }\n",
       "\n",
       "  .colab-df-quickchart {\n",
       "    background-color: var(--bg-color);\n",
       "    border: none;\n",
       "    border-radius: 50%;\n",
       "    cursor: pointer;\n",
       "    display: none;\n",
       "    fill: var(--fill-color);\n",
       "    height: 32px;\n",
       "    padding: 0;\n",
       "    width: 32px;\n",
       "  }\n",
       "\n",
       "  .colab-df-quickchart:hover {\n",
       "    background-color: var(--hover-bg-color);\n",
       "    box-shadow: 0 1px 2px rgba(60, 64, 67, 0.3), 0 1px 3px 1px rgba(60, 64, 67, 0.15);\n",
       "    fill: var(--button-hover-fill-color);\n",
       "  }\n",
       "\n",
       "  .colab-df-quickchart-complete:disabled,\n",
       "  .colab-df-quickchart-complete:disabled:hover {\n",
       "    background-color: var(--disabled-bg-color);\n",
       "    fill: var(--disabled-fill-color);\n",
       "    box-shadow: none;\n",
       "  }\n",
       "\n",
       "  .colab-df-spinner {\n",
       "    border: 2px solid var(--fill-color);\n",
       "    border-color: transparent;\n",
       "    border-bottom-color: var(--fill-color);\n",
       "    animation:\n",
       "      spin 1s steps(1) infinite;\n",
       "  }\n",
       "\n",
       "  @keyframes spin {\n",
       "    0% {\n",
       "      border-color: transparent;\n",
       "      border-bottom-color: var(--fill-color);\n",
       "      border-left-color: var(--fill-color);\n",
       "    }\n",
       "    20% {\n",
       "      border-color: transparent;\n",
       "      border-left-color: var(--fill-color);\n",
       "      border-top-color: var(--fill-color);\n",
       "    }\n",
       "    30% {\n",
       "      border-color: transparent;\n",
       "      border-left-color: var(--fill-color);\n",
       "      border-top-color: var(--fill-color);\n",
       "      border-right-color: var(--fill-color);\n",
       "    }\n",
       "    40% {\n",
       "      border-color: transparent;\n",
       "      border-right-color: var(--fill-color);\n",
       "      border-top-color: var(--fill-color);\n",
       "    }\n",
       "    60% {\n",
       "      border-color: transparent;\n",
       "      border-right-color: var(--fill-color);\n",
       "    }\n",
       "    80% {\n",
       "      border-color: transparent;\n",
       "      border-right-color: var(--fill-color);\n",
       "      border-bottom-color: var(--fill-color);\n",
       "    }\n",
       "    90% {\n",
       "      border-color: transparent;\n",
       "      border-bottom-color: var(--fill-color);\n",
       "    }\n",
       "  }\n",
       "</style>\n",
       "\n",
       "  <script>\n",
       "    async function quickchart(key) {\n",
       "      const quickchartButtonEl =\n",
       "        document.querySelector('#' + key + ' button');\n",
       "      quickchartButtonEl.disabled = true;  // To prevent multiple clicks.\n",
       "      quickchartButtonEl.classList.add('colab-df-spinner');\n",
       "      try {\n",
       "        const charts = await google.colab.kernel.invokeFunction(\n",
       "            'suggestCharts', [key], {});\n",
       "      } catch (error) {\n",
       "        console.error('Error during call to suggestCharts:', error);\n",
       "      }\n",
       "      quickchartButtonEl.classList.remove('colab-df-spinner');\n",
       "      quickchartButtonEl.classList.add('colab-df-quickchart-complete');\n",
       "    }\n",
       "    (() => {\n",
       "      let quickchartButtonEl =\n",
       "        document.querySelector('#df-a9d955e4-a11a-40e2-9667-74c0cc030866 button');\n",
       "      quickchartButtonEl.style.display =\n",
       "        google.colab.kernel.accessAllowed ? 'block' : 'none';\n",
       "    })();\n",
       "  </script>\n",
       "</div>\n",
       "\n",
       "    </div>\n",
       "  </div>\n"
      ],
      "text/plain": [
       "     year  month  ad_count\n",
       "0  2022.0    9.0        29\n",
       "1  2022.0   10.0      6361\n",
       "2  2022.0   11.0     61286\n",
       "3  2022.0   12.0     41940\n",
       "4  2023.0    1.0     53582"
      ]
     },
     "execution_count": 190,
     "metadata": {},
     "output_type": "execute_result"
    }
   ],
   "source": [
    "monthly_ads.head()"
   ]
  },
  {
   "cell_type": "code",
   "execution_count": null,
   "metadata": {
    "id": "aS__B0tVWefe"
   },
   "outputs": [],
   "source": [
    "# Create a date column for easier plotting\n",
    "monthly_ads['date'] = pd.to_datetime(monthly_ads[['year', 'month']].assign(day=1))"
   ]
  },
  {
   "cell_type": "code",
   "execution_count": null,
   "metadata": {
    "colab": {
     "base_uri": "https://localhost:8080/"
    },
    "id": "5JVHK5KDZeoJ",
    "outputId": "bcdfc65a-70bc-4d2d-8c5f-9eef10d2b799"
   },
   "outputs": [
    {
     "data": {
      "text/plain": [
       "0   2022-09-01\n",
       "1   2022-10-01\n",
       "2   2022-11-01\n",
       "3   2022-12-01\n",
       "4   2023-01-01\n",
       "Name: date, dtype: datetime64[ns]"
      ]
     },
     "execution_count": 192,
     "metadata": {},
     "output_type": "execute_result"
    }
   ],
   "source": [
    "monthly_ads['date'].head()"
   ]
  },
  {
   "cell_type": "code",
   "execution_count": null,
   "metadata": {
    "id": "kXVDw5RXXb0l"
   },
   "outputs": [],
   "source": [
    "# Sort by date\n",
    "monthly_ads = monthly_ads.sort_values('date')"
   ]
  },
  {
   "cell_type": "code",
   "execution_count": null,
   "metadata": {
    "colab": {
     "base_uri": "https://localhost:8080/",
     "height": 807
    },
    "id": "EB7MpdPEZEWq",
    "outputId": "d1d69d41-f324-46ad-ab2c-12aa08cd144a"
   },
   "outputs": [
    {
     "data": {
      "image/png": "[encoded data removed]",
      "text/plain": [
       "<Figure size 800x800 with 1 Axes>"
      ]
     },
     "metadata": {},
     "output_type": "display_data"
    }
   ],
   "source": [
    "# Set the plot size\n",
    "plt.figure(figsize=(8, 8))\n",
    "\n",
    "# Create a line plot for monthly trends\n",
    "sns.lineplot(data=monthly_ads, x='date', y='ad_count', marker='o')\n",
    "\n",
    "# Add labels and title\n",
    "plt.xlabel('Date')\n",
    "plt.ylabel('Number of Advertisements')\n",
    "plt.title('Monthly Trends in Number of Advertisements')\n",
    "\n",
    "# Show plot\n",
    "plt.tight_layout()\n",
    "plt.show()"
   ]
  },
  {
   "cell_type": "code",
   "execution_count": null,
   "metadata": {
    "id": "WmCe4u8JZ6FH"
   },
   "outputs": [],
   "source": []
  }
 ],
 "metadata": {
  "colab": {
   "provenance": []
  },
  "kernelspec": {
   "display_name": "Python 3 (ipykernel)",
   "language": "python",
   "name": "python3"
  },
  "language_info": {
   "codemirror_mode": {
    "name": "ipython",
    "version": 3
   },
   "file_extension": ".py",
   "mimetype": "text/x-python",
   "name": "python",
   "nbconvert_exporter": "python",
   "pygments_lexer": "ipython3",
   "version": "3.11.5"
  }
 },
 "nbformat": 4,
 "nbformat_minor": 1
}
